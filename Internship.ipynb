{
 "cells": [
  {
   "cell_type": "code",
   "execution_count": 1,
   "metadata": {},
   "outputs": [],
   "source": [
    "#importing some essential libraries\n",
    "import pandas as pd\n",
    "import numpy as np\n",
    "import matplotlib.pyplot as plt\n",
    "import seaborn as sns\n",
    "%matplotlib inline"
   ]
  },
  {
   "cell_type": "code",
   "execution_count": 2,
   "metadata": {},
   "outputs": [],
   "source": [
    "#importing the datasets\n",
    "data1 = pd.read_csv('IRAhandle_tweets_1.csv')\n",
    "data2 = pd.read_csv('IRAhandle_tweets_2.csv')\n",
    "data3 = pd.read_csv('IRAhandle_tweets_3.csv')\n",
    "data4 = pd.read_csv('IRAhandle_tweets_4.csv')\n",
    "data5 = pd.read_csv('IRAhandle_tweets_5.csv')\n",
    "data6 = pd.read_csv('IRAhandle_tweets_6.csv')\n",
    "data7 = pd.read_csv('IRAhandle_tweets_7.csv')\n",
    "data8 = pd.read_csv('IRAhandle_tweets_8.csv')\n",
    "data9 = pd.read_csv('IRAhandle_tweets_9.csv')"
   ]
  },
  {
   "cell_type": "markdown",
   "metadata": {},
   "source": [
    "# Data Preparation"
   ]
  },
  {
   "cell_type": "code",
   "execution_count": 3,
   "metadata": {},
   "outputs": [],
   "source": [
    "#concatinating all the dataset to one\n",
    "troll_data = pd.concat([data1,data2,data3,data4,data5,data6,data7,data8,data9],axis=0)"
   ]
  },
  {
   "cell_type": "code",
   "execution_count": 4,
   "metadata": {},
   "outputs": [
    {
     "data": {
      "text/plain": [
       "(2973371, 15)"
      ]
     },
     "execution_count": 4,
     "metadata": {},
     "output_type": "execute_result"
    }
   ],
   "source": [
    "#checking its shape\n",
    "troll_data.shape"
   ]
  },
  {
   "cell_type": "markdown",
   "metadata": {},
   "source": [
    "."
   ]
  },
  {
   "cell_type": "code",
   "execution_count": 5,
   "metadata": {
    "scrolled": true
   },
   "outputs": [
    {
     "data": {
      "text/html": [
       "<div>\n",
       "<style scoped>\n",
       "    .dataframe tbody tr th:only-of-type {\n",
       "        vertical-align: middle;\n",
       "    }\n",
       "\n",
       "    .dataframe tbody tr th {\n",
       "        vertical-align: top;\n",
       "    }\n",
       "\n",
       "    .dataframe thead th {\n",
       "        text-align: right;\n",
       "    }\n",
       "</style>\n",
       "<table border=\"1\" class=\"dataframe\">\n",
       "  <thead>\n",
       "    <tr style=\"text-align: right;\">\n",
       "      <th></th>\n",
       "      <th>external_author_id</th>\n",
       "      <th>author</th>\n",
       "      <th>content</th>\n",
       "      <th>region</th>\n",
       "      <th>language</th>\n",
       "      <th>publish_date</th>\n",
       "      <th>harvested_date</th>\n",
       "      <th>following</th>\n",
       "      <th>followers</th>\n",
       "      <th>updates</th>\n",
       "      <th>post_type</th>\n",
       "      <th>account_type</th>\n",
       "      <th>new_june_2018</th>\n",
       "      <th>retweet</th>\n",
       "      <th>account_category</th>\n",
       "    </tr>\n",
       "  </thead>\n",
       "  <tbody>\n",
       "    <tr>\n",
       "      <th>0</th>\n",
       "      <td>9.060000e+17</td>\n",
       "      <td>10_GOP</td>\n",
       "      <td>\"We have a sitting Democrat US Senator on tria...</td>\n",
       "      <td>Unknown</td>\n",
       "      <td>English</td>\n",
       "      <td>10/1/2017 19:58</td>\n",
       "      <td>10/1/2017 19:59</td>\n",
       "      <td>1052</td>\n",
       "      <td>9636</td>\n",
       "      <td>253</td>\n",
       "      <td>NaN</td>\n",
       "      <td>Right</td>\n",
       "      <td>0</td>\n",
       "      <td>0</td>\n",
       "      <td>RightTroll</td>\n",
       "    </tr>\n",
       "    <tr>\n",
       "      <th>1</th>\n",
       "      <td>9.060000e+17</td>\n",
       "      <td>10_GOP</td>\n",
       "      <td>Marshawn Lynch arrives to game in anti-Trump s...</td>\n",
       "      <td>Unknown</td>\n",
       "      <td>English</td>\n",
       "      <td>10/1/2017 22:43</td>\n",
       "      <td>10/1/2017 22:43</td>\n",
       "      <td>1054</td>\n",
       "      <td>9637</td>\n",
       "      <td>254</td>\n",
       "      <td>NaN</td>\n",
       "      <td>Right</td>\n",
       "      <td>0</td>\n",
       "      <td>0</td>\n",
       "      <td>RightTroll</td>\n",
       "    </tr>\n",
       "    <tr>\n",
       "      <th>2</th>\n",
       "      <td>9.060000e+17</td>\n",
       "      <td>10_GOP</td>\n",
       "      <td>Daughter of fallen Navy Sailor delivers powerf...</td>\n",
       "      <td>Unknown</td>\n",
       "      <td>English</td>\n",
       "      <td>10/1/2017 22:50</td>\n",
       "      <td>10/1/2017 22:51</td>\n",
       "      <td>1054</td>\n",
       "      <td>9637</td>\n",
       "      <td>255</td>\n",
       "      <td>RETWEET</td>\n",
       "      <td>Right</td>\n",
       "      <td>0</td>\n",
       "      <td>1</td>\n",
       "      <td>RightTroll</td>\n",
       "    </tr>\n",
       "  </tbody>\n",
       "</table>\n",
       "</div>"
      ],
      "text/plain": [
       "   external_author_id  author  \\\n",
       "0        9.060000e+17  10_GOP   \n",
       "1        9.060000e+17  10_GOP   \n",
       "2        9.060000e+17  10_GOP   \n",
       "\n",
       "                                             content   region language  \\\n",
       "0  \"We have a sitting Democrat US Senator on tria...  Unknown  English   \n",
       "1  Marshawn Lynch arrives to game in anti-Trump s...  Unknown  English   \n",
       "2  Daughter of fallen Navy Sailor delivers powerf...  Unknown  English   \n",
       "\n",
       "      publish_date   harvested_date  following  followers  updates post_type  \\\n",
       "0  10/1/2017 19:58  10/1/2017 19:59       1052       9636      253       NaN   \n",
       "1  10/1/2017 22:43  10/1/2017 22:43       1054       9637      254       NaN   \n",
       "2  10/1/2017 22:50  10/1/2017 22:51       1054       9637      255   RETWEET   \n",
       "\n",
       "  account_type  new_june_2018  retweet account_category  \n",
       "0        Right              0        0       RightTroll  \n",
       "1        Right              0        0       RightTroll  \n",
       "2        Right              0        1       RightTroll  "
      ]
     },
     "execution_count": 5,
     "metadata": {},
     "output_type": "execute_result"
    }
   ],
   "source": [
    "#viewing our data\n",
    "troll_data.head(3)"
   ]
  },
  {
   "cell_type": "code",
   "execution_count": 6,
   "metadata": {},
   "outputs": [
    {
     "data": {
      "text/plain": [
       "post_type             1662425\n",
       "region                   8843\n",
       "account_type              363\n",
       "external_author_id          4\n",
       "content                     1\n",
       "account_category            0\n",
       "retweet                     0\n",
       "new_june_2018               0\n",
       "updates                     0\n",
       "followers                   0\n",
       "following                   0\n",
       "harvested_date              0\n",
       "publish_date                0\n",
       "language                    0\n",
       "author                      0\n",
       "dtype: int64"
      ]
     },
     "execution_count": 6,
     "metadata": {},
     "output_type": "execute_result"
    }
   ],
   "source": [
    "#checking for some null values\n",
    "\n",
    "troll_data.isnull().sum().sort_values(ascending = False)"
   ]
  },
  {
   "cell_type": "code",
   "execution_count": 7,
   "metadata": {},
   "outputs": [
    {
     "data": {
      "text/plain": [
       "2848"
      ]
     },
     "execution_count": 7,
     "metadata": {},
     "output_type": "execute_result"
    }
   ],
   "source": [
    "#lets check number of unique authors are there\n",
    "\n",
    "len(troll_data.author.unique())\n"
   ]
  },
  {
   "cell_type": "code",
   "execution_count": 8,
   "metadata": {},
   "outputs": [
    {
     "data": {
      "text/plain": [
       "post_type             1662424\n",
       "region                   8843\n",
       "account_type              363\n",
       "external_author_id          4\n",
       "account_category            0\n",
       "retweet                     0\n",
       "new_june_2018               0\n",
       "updates                     0\n",
       "followers                   0\n",
       "following                   0\n",
       "harvested_date              0\n",
       "publish_date                0\n",
       "language                    0\n",
       "content                     0\n",
       "author                      0\n",
       "dtype: int64"
      ]
     },
     "execution_count": 8,
     "metadata": {},
     "output_type": "execute_result"
    }
   ],
   "source": [
    "#Since we have use to the content so lets remove the null value of content\n",
    "\n",
    "troll_data.dropna(subset= ['content'],inplace=True)\n",
    "\n",
    "#again checking for NAN\n",
    "troll_data.isnull().sum().sort_values(ascending = False)\n"
   ]
  },
  {
   "cell_type": "code",
   "execution_count": 9,
   "metadata": {},
   "outputs": [
    {
     "name": "stdout",
     "output_type": "stream",
     "text": [
      "<class 'pandas.core.frame.DataFrame'>\n",
      "Int64Index: 2973370 entries, 0 to 37554\n",
      "Data columns (total 15 columns):\n",
      "external_author_id    float64\n",
      "author                object\n",
      "content               object\n",
      "region                object\n",
      "language              object\n",
      "publish_date          object\n",
      "harvested_date        object\n",
      "following             int64\n",
      "followers             int64\n",
      "updates               int64\n",
      "post_type             object\n",
      "account_type          object\n",
      "new_june_2018         int64\n",
      "retweet               int64\n",
      "account_category      object\n",
      "dtypes: float64(1), int64(5), object(9)\n",
      "memory usage: 363.0+ MB\n"
     ]
    }
   ],
   "source": [
    "#look at the types of data included in each field.\n",
    "\n",
    "troll_data.info()"
   ]
  },
  {
   "cell_type": "code",
   "execution_count": 10,
   "metadata": {},
   "outputs": [],
   "source": [
    "#removing some columns with are not usefull for data preparation\n",
    "troll_data.drop(labels=['external_author_id', 'harvested_date'],axis=1,inplace=True) "
   ]
  },
  {
   "cell_type": "code",
   "execution_count": 11,
   "metadata": {},
   "outputs": [],
   "source": [
    "#checking the data\n",
    "troll_data.drop(labels = ['author'],axis=1,inplace = True)"
   ]
  },
  {
   "cell_type": "code",
   "execution_count": 12,
   "metadata": {},
   "outputs": [
    {
     "data": {
      "text/html": [
       "<div>\n",
       "<style scoped>\n",
       "    .dataframe tbody tr th:only-of-type {\n",
       "        vertical-align: middle;\n",
       "    }\n",
       "\n",
       "    .dataframe tbody tr th {\n",
       "        vertical-align: top;\n",
       "    }\n",
       "\n",
       "    .dataframe thead th {\n",
       "        text-align: right;\n",
       "    }\n",
       "</style>\n",
       "<table border=\"1\" class=\"dataframe\">\n",
       "  <thead>\n",
       "    <tr style=\"text-align: right;\">\n",
       "      <th></th>\n",
       "      <th>content</th>\n",
       "      <th>region</th>\n",
       "      <th>language</th>\n",
       "      <th>publish_date</th>\n",
       "      <th>following</th>\n",
       "      <th>followers</th>\n",
       "      <th>updates</th>\n",
       "      <th>post_type</th>\n",
       "      <th>account_type</th>\n",
       "      <th>new_june_2018</th>\n",
       "      <th>retweet</th>\n",
       "      <th>account_category</th>\n",
       "    </tr>\n",
       "  </thead>\n",
       "  <tbody>\n",
       "    <tr>\n",
       "      <th>0</th>\n",
       "      <td>\"We have a sitting Democrat US Senator on tria...</td>\n",
       "      <td>Unknown</td>\n",
       "      <td>English</td>\n",
       "      <td>10/1/2017 19:58</td>\n",
       "      <td>1052</td>\n",
       "      <td>9636</td>\n",
       "      <td>253</td>\n",
       "      <td>NaN</td>\n",
       "      <td>Right</td>\n",
       "      <td>0</td>\n",
       "      <td>0</td>\n",
       "      <td>RightTroll</td>\n",
       "    </tr>\n",
       "    <tr>\n",
       "      <th>1</th>\n",
       "      <td>Marshawn Lynch arrives to game in anti-Trump s...</td>\n",
       "      <td>Unknown</td>\n",
       "      <td>English</td>\n",
       "      <td>10/1/2017 22:43</td>\n",
       "      <td>1054</td>\n",
       "      <td>9637</td>\n",
       "      <td>254</td>\n",
       "      <td>NaN</td>\n",
       "      <td>Right</td>\n",
       "      <td>0</td>\n",
       "      <td>0</td>\n",
       "      <td>RightTroll</td>\n",
       "    </tr>\n",
       "    <tr>\n",
       "      <th>2</th>\n",
       "      <td>Daughter of fallen Navy Sailor delivers powerf...</td>\n",
       "      <td>Unknown</td>\n",
       "      <td>English</td>\n",
       "      <td>10/1/2017 22:50</td>\n",
       "      <td>1054</td>\n",
       "      <td>9637</td>\n",
       "      <td>255</td>\n",
       "      <td>RETWEET</td>\n",
       "      <td>Right</td>\n",
       "      <td>0</td>\n",
       "      <td>1</td>\n",
       "      <td>RightTroll</td>\n",
       "    </tr>\n",
       "    <tr>\n",
       "      <th>3</th>\n",
       "      <td>JUST IN: President Trump dedicates Presidents ...</td>\n",
       "      <td>Unknown</td>\n",
       "      <td>English</td>\n",
       "      <td>10/1/2017 23:52</td>\n",
       "      <td>1062</td>\n",
       "      <td>9642</td>\n",
       "      <td>256</td>\n",
       "      <td>NaN</td>\n",
       "      <td>Right</td>\n",
       "      <td>0</td>\n",
       "      <td>0</td>\n",
       "      <td>RightTroll</td>\n",
       "    </tr>\n",
       "    <tr>\n",
       "      <th>4</th>\n",
       "      <td>19,000 RESPECTING our National Anthem! #StandF...</td>\n",
       "      <td>Unknown</td>\n",
       "      <td>English</td>\n",
       "      <td>10/1/2017 2:13</td>\n",
       "      <td>1050</td>\n",
       "      <td>9645</td>\n",
       "      <td>246</td>\n",
       "      <td>RETWEET</td>\n",
       "      <td>Right</td>\n",
       "      <td>0</td>\n",
       "      <td>1</td>\n",
       "      <td>RightTroll</td>\n",
       "    </tr>\n",
       "  </tbody>\n",
       "</table>\n",
       "</div>"
      ],
      "text/plain": [
       "                                             content   region language  \\\n",
       "0  \"We have a sitting Democrat US Senator on tria...  Unknown  English   \n",
       "1  Marshawn Lynch arrives to game in anti-Trump s...  Unknown  English   \n",
       "2  Daughter of fallen Navy Sailor delivers powerf...  Unknown  English   \n",
       "3  JUST IN: President Trump dedicates Presidents ...  Unknown  English   \n",
       "4  19,000 RESPECTING our National Anthem! #StandF...  Unknown  English   \n",
       "\n",
       "      publish_date  following  followers  updates post_type account_type  \\\n",
       "0  10/1/2017 19:58       1052       9636      253       NaN        Right   \n",
       "1  10/1/2017 22:43       1054       9637      254       NaN        Right   \n",
       "2  10/1/2017 22:50       1054       9637      255   RETWEET        Right   \n",
       "3  10/1/2017 23:52       1062       9642      256       NaN        Right   \n",
       "4   10/1/2017 2:13       1050       9645      246   RETWEET        Right   \n",
       "\n",
       "   new_june_2018  retweet account_category  \n",
       "0              0        0       RightTroll  \n",
       "1              0        0       RightTroll  \n",
       "2              0        1       RightTroll  \n",
       "3              0        0       RightTroll  \n",
       "4              0        1       RightTroll  "
      ]
     },
     "execution_count": 12,
     "metadata": {},
     "output_type": "execute_result"
    }
   ],
   "source": [
    "#review our data\n",
    "troll_data.head()"
   ]
  },
  {
   "cell_type": "code",
   "execution_count": 13,
   "metadata": {},
   "outputs": [
    {
     "data": {
      "text/plain": [
       "array(['English', 'Russian', 'Serbian', 'Ukrainian', 'Tagalog (Filipino)',\n",
       "       'Albanian', 'Italian', 'Romanian', 'Spanish', 'Catalan', 'German',\n",
       "       'Estonian', 'French', 'Norwegian', 'Vietnamese', 'Dutch', 'Arabic',\n",
       "       'Uzbek', 'Bulgarian', 'Macedonian', 'Farsi (Persian)', 'Turkish',\n",
       "       'LANGUAGE UNDEFINED', 'Czech', 'Somali', 'Lithuanian', 'Croatian',\n",
       "       'Slovak', 'Icelandic', 'Slovenian', 'Japanese', 'Indonesian',\n",
       "       'Pushto', 'Hungarian', 'Finnish', 'Latvian', 'Portuguese',\n",
       "       'Danish', 'Swedish', 'Malay', 'Polish', 'Korean', 'Hebrew', 'Urdu',\n",
       "       'Kurdish', 'Hindi', 'Greek', 'Simplified Chinese', 'Thai',\n",
       "       'Bengali', 'Traditional Chinese', 'Gujarati', 'Kannada', 'Tamil',\n",
       "       'Telugu', 'Malayalam'], dtype=object)"
      ]
     },
     "execution_count": 13,
     "metadata": {},
     "output_type": "execute_result"
    }
   ],
   "source": [
    "troll_data.language.unique()"
   ]
  },
  {
   "cell_type": "code",
   "execution_count": 14,
   "metadata": {},
   "outputs": [],
   "source": [
    "#there are many languages in the data soupdate data to only contain english tweets \n",
    "troll_data = troll_data.loc[troll_data.language=='English']"
   ]
  },
  {
   "cell_type": "code",
   "execution_count": 15,
   "metadata": {},
   "outputs": [],
   "source": [
    "troll_data.drop(['language'],axis=1,inplace = True)"
   ]
  },
  {
   "cell_type": "markdown",
   "metadata": {},
   "source": [
    "After Removing all the null values"
   ]
  },
  {
   "cell_type": "code",
   "execution_count": 16,
   "metadata": {},
   "outputs": [
    {
     "data": {
      "text/plain": [
       "array(['Unknown', 'United States', 'Italy', nan, 'United Arab Emirates',\n",
       "       'Israel', 'Azerbaijan', 'United Kingdom', 'Russian Federation',\n",
       "       'Iraq', 'Germany', 'France', 'Ukraine', 'Serbia', 'Egypt',\n",
       "       'Hong Kong', 'Belarus', 'Malaysia', 'Afghanistan', 'Mexico',\n",
       "       'Canada', 'Iran, Islamic Republic of', 'Greece', 'Czech Republic',\n",
       "       'Finland', 'Latvia', 'Spain', 'Sweden', 'Denmark', 'Switzerland'],\n",
       "      dtype=object)"
      ]
     },
     "execution_count": 16,
     "metadata": {},
     "output_type": "execute_result"
    }
   ],
   "source": [
    "troll_data.region.unique()"
   ]
  },
  {
   "cell_type": "code",
   "execution_count": 17,
   "metadata": {},
   "outputs": [
    {
     "data": {
      "text/plain": [
       "United States                1849686\n",
       "Unknown                       246934\n",
       "United Kingdom                 16664\n",
       "Azerbaijan                      7614\n",
       "Germany                         1285\n",
       "Russian Federation              1146\n",
       "Italy                           1125\n",
       "Canada                           600\n",
       "Belarus                          494\n",
       "Afghanistan                      461\n",
       "Iraq                             459\n",
       "Israel                           409\n",
       "United Arab Emirates             371\n",
       "Ukraine                          231\n",
       "Spain                             72\n",
       "France                            67\n",
       "Egypt                             59\n",
       "Sweden                            43\n",
       "Mexico                            41\n",
       "Iran, Islamic Republic of         20\n",
       "Greece                            14\n",
       "Finland                            8\n",
       "Malaysia                           4\n",
       "Latvia                             3\n",
       "Czech Republic                     2\n",
       "Serbia                             2\n",
       "Denmark                            1\n",
       "Hong Kong                          1\n",
       "Switzerland                        1\n",
       "Name: region, dtype: int64"
      ]
     },
     "execution_count": 17,
     "metadata": {},
     "output_type": "execute_result"
    }
   ],
   "source": [
    "#checking the value count of all the region\n",
    "\n",
    "troll_data.region.value_counts()"
   ]
  },
  {
   "cell_type": "code",
   "execution_count": 18,
   "metadata": {},
   "outputs": [],
   "source": [
    "#about 87% of the region is united state so I'll go with the united state only\n",
    "\n",
    "troll_data = troll_data.loc[troll_data.region=='United States']"
   ]
  },
  {
   "cell_type": "code",
   "execution_count": 19,
   "metadata": {},
   "outputs": [
    {
     "data": {
      "text/html": [
       "<div>\n",
       "<style scoped>\n",
       "    .dataframe tbody tr th:only-of-type {\n",
       "        vertical-align: middle;\n",
       "    }\n",
       "\n",
       "    .dataframe tbody tr th {\n",
       "        vertical-align: top;\n",
       "    }\n",
       "\n",
       "    .dataframe thead th {\n",
       "        text-align: right;\n",
       "    }\n",
       "</style>\n",
       "<table border=\"1\" class=\"dataframe\">\n",
       "  <thead>\n",
       "    <tr style=\"text-align: right;\">\n",
       "      <th></th>\n",
       "      <th>content</th>\n",
       "      <th>region</th>\n",
       "      <th>publish_date</th>\n",
       "      <th>following</th>\n",
       "      <th>followers</th>\n",
       "      <th>updates</th>\n",
       "      <th>post_type</th>\n",
       "      <th>account_type</th>\n",
       "      <th>new_june_2018</th>\n",
       "      <th>retweet</th>\n",
       "      <th>account_category</th>\n",
       "    </tr>\n",
       "  </thead>\n",
       "  <tbody>\n",
       "    <tr>\n",
       "      <th>425</th>\n",
       "      <td>#FoodPoisoning is not a joke! #Walmart #KochFa...</td>\n",
       "      <td>United States</td>\n",
       "      <td>11/26/2015 22:20</td>\n",
       "      <td>48</td>\n",
       "      <td>40</td>\n",
       "      <td>394</td>\n",
       "      <td>RETWEET</td>\n",
       "      <td>Koch</td>\n",
       "      <td>0</td>\n",
       "      <td>1</td>\n",
       "      <td>Fearmonger</td>\n",
       "    </tr>\n",
       "    <tr>\n",
       "      <th>426</th>\n",
       "      <td>Thanks God that #turkey i ate few days ago was...</td>\n",
       "      <td>United States</td>\n",
       "      <td>11/26/2015 22:35</td>\n",
       "      <td>48</td>\n",
       "      <td>40</td>\n",
       "      <td>395</td>\n",
       "      <td>RETWEET</td>\n",
       "      <td>Koch</td>\n",
       "      <td>0</td>\n",
       "      <td>1</td>\n",
       "      <td>Fearmonger</td>\n",
       "    </tr>\n",
       "    <tr>\n",
       "      <th>428</th>\n",
       "      <td>who's got the worst make up ever, don't tell m...</td>\n",
       "      <td>United States</td>\n",
       "      <td>5/25/2015 12:38</td>\n",
       "      <td>59</td>\n",
       "      <td>51</td>\n",
       "      <td>352</td>\n",
       "      <td>NaN</td>\n",
       "      <td>Koch</td>\n",
       "      <td>0</td>\n",
       "      <td>0</td>\n",
       "      <td>Fearmonger</td>\n",
       "    </tr>\n",
       "    <tr>\n",
       "      <th>429</th>\n",
       "      <td>I hurt easy, I just don't show it. You can hur...</td>\n",
       "      <td>United States</td>\n",
       "      <td>5/25/2015 12:38</td>\n",
       "      <td>59</td>\n",
       "      <td>51</td>\n",
       "      <td>354</td>\n",
       "      <td>NaN</td>\n",
       "      <td>Koch</td>\n",
       "      <td>0</td>\n",
       "      <td>0</td>\n",
       "      <td>Fearmonger</td>\n",
       "    </tr>\n",
       "    <tr>\n",
       "      <th>430</th>\n",
       "      <td>« The young are permanently in a state resembl...</td>\n",
       "      <td>United States</td>\n",
       "      <td>5/25/2015 12:39</td>\n",
       "      <td>59</td>\n",
       "      <td>51</td>\n",
       "      <td>356</td>\n",
       "      <td>NaN</td>\n",
       "      <td>Koch</td>\n",
       "      <td>0</td>\n",
       "      <td>0</td>\n",
       "      <td>Fearmonger</td>\n",
       "    </tr>\n",
       "  </tbody>\n",
       "</table>\n",
       "</div>"
      ],
      "text/plain": [
       "                                               content         region  \\\n",
       "425  #FoodPoisoning is not a joke! #Walmart #KochFa...  United States   \n",
       "426  Thanks God that #turkey i ate few days ago was...  United States   \n",
       "428  who's got the worst make up ever, don't tell m...  United States   \n",
       "429  I hurt easy, I just don't show it. You can hur...  United States   \n",
       "430  « The young are permanently in a state resembl...  United States   \n",
       "\n",
       "         publish_date  following  followers  updates post_type account_type  \\\n",
       "425  11/26/2015 22:20         48         40      394   RETWEET         Koch   \n",
       "426  11/26/2015 22:35         48         40      395   RETWEET         Koch   \n",
       "428   5/25/2015 12:38         59         51      352       NaN         Koch   \n",
       "429   5/25/2015 12:38         59         51      354       NaN         Koch   \n",
       "430   5/25/2015 12:39         59         51      356       NaN         Koch   \n",
       "\n",
       "     new_june_2018  retweet account_category  \n",
       "425              0        1       Fearmonger  \n",
       "426              0        1       Fearmonger  \n",
       "428              0        0       Fearmonger  \n",
       "429              0        0       Fearmonger  \n",
       "430              0        0       Fearmonger  "
      ]
     },
     "execution_count": 19,
     "metadata": {},
     "output_type": "execute_result"
    }
   ],
   "source": [
    "#revisiting the null values\n",
    "troll_data.head()"
   ]
  },
  {
   "cell_type": "code",
   "execution_count": 20,
   "metadata": {},
   "outputs": [
    {
     "data": {
      "text/plain": [
       "(1849686, 11)"
      ]
     },
     "execution_count": 20,
     "metadata": {},
     "output_type": "execute_result"
    }
   ],
   "source": [
    "troll_data.shape"
   ]
  },
  {
   "cell_type": "code",
   "execution_count": 21,
   "metadata": {},
   "outputs": [],
   "source": [
    "#loading the negative labelled (real people tweets) data\n",
    "\n",
    "negative_data = pd.read_csv('tweets-2016-10000-textonly.txt',delimiter='\\t')"
   ]
  },
  {
   "cell_type": "code",
   "execution_count": 22,
   "metadata": {},
   "outputs": [
    {
     "data": {
      "text/html": [
       "<div>\n",
       "<style scoped>\n",
       "    .dataframe tbody tr th:only-of-type {\n",
       "        vertical-align: middle;\n",
       "    }\n",
       "\n",
       "    .dataframe tbody tr th {\n",
       "        vertical-align: top;\n",
       "    }\n",
       "\n",
       "    .dataframe thead th {\n",
       "        text-align: right;\n",
       "    }\n",
       "</style>\n",
       "<table border=\"1\" class=\"dataframe\">\n",
       "  <thead>\n",
       "    <tr style=\"text-align: right;\">\n",
       "      <th></th>\n",
       "      <th>Leaked records show Trump may have avoided taxes for 18 years: Washington – Report said that Donald Trump, U.... https://t.co/asoKboXz3V</th>\n",
       "    </tr>\n",
       "  </thead>\n",
       "  <tbody>\n",
       "    <tr>\n",
       "      <th>0</th>\n",
       "      <td>Donald Trump vs. Hillary Clinton Debate Cold O...</td>\n",
       "    </tr>\n",
       "    <tr>\n",
       "      <th>1</th>\n",
       "      <td>@realDonaldTrump The need is to blow off the \"...</td>\n",
       "    </tr>\n",
       "    <tr>\n",
       "      <th>2</th>\n",
       "      <td>US-Medien: Trump zahlte womöglich jahrelang ke...</td>\n",
       "    </tr>\n",
       "    <tr>\n",
       "      <th>3</th>\n",
       "      <td>#amjoy #cnn #msnbc #Trump has 2 words for #dep...</td>\n",
       "    </tr>\n",
       "    <tr>\n",
       "      <th>4</th>\n",
       "      <td>and you people who can't  good old boy loans a...</td>\n",
       "    </tr>\n",
       "  </tbody>\n",
       "</table>\n",
       "</div>"
      ],
      "text/plain": [
       "  Leaked records show Trump may have avoided taxes for 18 years: Washington – Report said that Donald Trump, U.... https://t.co/asoKboXz3V\n",
       "0  Donald Trump vs. Hillary Clinton Debate Cold O...                                                                                      \n",
       "1  @realDonaldTrump The need is to blow off the \"...                                                                                      \n",
       "2  US-Medien: Trump zahlte womöglich jahrelang ke...                                                                                      \n",
       "3  #amjoy #cnn #msnbc #Trump has 2 words for #dep...                                                                                      \n",
       "4  and you people who can't  good old boy loans a...                                                                                      "
      ]
     },
     "execution_count": 22,
     "metadata": {},
     "output_type": "execute_result"
    }
   ],
   "source": [
    "negative_data.head()"
   ]
  },
  {
   "cell_type": "code",
   "execution_count": 23,
   "metadata": {},
   "outputs": [],
   "source": [
    "\n",
    "negative_data.rename(columns={\"Leaked records show Trump may have avoided taxes for 18 years: Washington – Report said that Donald Trump, U.... https://t.co/asoKboXz3V\" : \"content\"},inplace=True)"
   ]
  },
  {
   "cell_type": "code",
   "execution_count": 24,
   "metadata": {},
   "outputs": [
    {
     "data": {
      "text/html": [
       "<div>\n",
       "<style scoped>\n",
       "    .dataframe tbody tr th:only-of-type {\n",
       "        vertical-align: middle;\n",
       "    }\n",
       "\n",
       "    .dataframe tbody tr th {\n",
       "        vertical-align: top;\n",
       "    }\n",
       "\n",
       "    .dataframe thead th {\n",
       "        text-align: right;\n",
       "    }\n",
       "</style>\n",
       "<table border=\"1\" class=\"dataframe\">\n",
       "  <thead>\n",
       "    <tr style=\"text-align: right;\">\n",
       "      <th></th>\n",
       "      <th>content</th>\n",
       "    </tr>\n",
       "  </thead>\n",
       "  <tbody>\n",
       "    <tr>\n",
       "      <th>0</th>\n",
       "      <td>Donald Trump vs. Hillary Clinton Debate Cold O...</td>\n",
       "    </tr>\n",
       "    <tr>\n",
       "      <th>1</th>\n",
       "      <td>@realDonaldTrump The need is to blow off the \"...</td>\n",
       "    </tr>\n",
       "    <tr>\n",
       "      <th>2</th>\n",
       "      <td>US-Medien: Trump zahlte womöglich jahrelang ke...</td>\n",
       "    </tr>\n",
       "    <tr>\n",
       "      <th>3</th>\n",
       "      <td>#amjoy #cnn #msnbc #Trump has 2 words for #dep...</td>\n",
       "    </tr>\n",
       "    <tr>\n",
       "      <th>4</th>\n",
       "      <td>and you people who can't  good old boy loans a...</td>\n",
       "    </tr>\n",
       "  </tbody>\n",
       "</table>\n",
       "</div>"
      ],
      "text/plain": [
       "                                             content\n",
       "0  Donald Trump vs. Hillary Clinton Debate Cold O...\n",
       "1  @realDonaldTrump The need is to blow off the \"...\n",
       "2  US-Medien: Trump zahlte womöglich jahrelang ke...\n",
       "3  #amjoy #cnn #msnbc #Trump has 2 words for #dep...\n",
       "4  and you people who can't  good old boy loans a..."
      ]
     },
     "execution_count": 24,
     "metadata": {},
     "output_type": "execute_result"
    }
   ],
   "source": [
    "negative_data.head()\n",
    "\n",
    "\n",
    "\n"
   ]
  },
  {
   "cell_type": "code",
   "execution_count": 25,
   "metadata": {},
   "outputs": [
    {
     "data": {
      "text/plain": [
       "7578"
      ]
     },
     "execution_count": 25,
     "metadata": {},
     "output_type": "execute_result"
    }
   ],
   "source": [
    "#checking the length \n",
    "len(negative_data)"
   ]
  },
  {
   "cell_type": "markdown",
   "metadata": {},
   "source": [
    "Since we have only 7578 negative labell data with respect 1.8 Millon positive labell data so I will slice it"
   ]
  },
  {
   "cell_type": "code",
   "execution_count": 26,
   "metadata": {},
   "outputs": [
    {
     "data": {
      "text/plain": [
       "content                   0\n",
       "region                    0\n",
       "publish_date              0\n",
       "following                 0\n",
       "followers                 0\n",
       "updates                   0\n",
       "post_type           1027093\n",
       "account_type            354\n",
       "new_june_2018             0\n",
       "retweet                   0\n",
       "account_category          0\n",
       "dtype: int64"
      ]
     },
     "execution_count": 26,
     "metadata": {},
     "output_type": "execute_result"
    }
   ],
   "source": [
    "troll_data.isnull().sum()"
   ]
  },
  {
   "cell_type": "code",
   "execution_count": 27,
   "metadata": {},
   "outputs": [
    {
     "data": {
      "text/plain": [
       "array(['Koch', 'Right', 'left', 'Russian', '?', 'Hashtager', 'Arabic',\n",
       "       'Commercial', 'local', 'German', 'ZAPOROSHIA', 'news', 'right',\n",
       "       'Ebola ', nan, 'French'], dtype=object)"
      ]
     },
     "execution_count": 27,
     "metadata": {},
     "output_type": "execute_result"
    }
   ],
   "source": [
    "troll_data.account_type.unique()"
   ]
  },
  {
   "cell_type": "code",
   "execution_count": 28,
   "metadata": {},
   "outputs": [],
   "source": [
    "#some values are dupplicates like 'left' and 'Left' ,and replace nan values with unknown\n",
    "\n",
    "\n",
    "troll_data['account_type'].fillna(value='Unknown', inplace = True)\n",
    "troll_data['account_type'].replace({'?': 'Unknown', 'right': 'Right', \n",
    "                            'left': 'Left', 'news': 'News', \n",
    "                           'local': 'Local', 'ZAPOROSHIA': 'Zaporoshia'}, \n",
    "                           inplace = True)\n"
   ]
  },
  {
   "cell_type": "code",
   "execution_count": 29,
   "metadata": {},
   "outputs": [
    {
     "data": {
      "text/plain": [
       "array(['RETWEET', nan, 'QUOTE_TWEET'], dtype=object)"
      ]
     },
     "execution_count": 29,
     "metadata": {},
     "output_type": "execute_result"
    }
   ],
   "source": [
    "troll_data.post_type.unique()"
   ]
  },
  {
   "cell_type": "code",
   "execution_count": 30,
   "metadata": {},
   "outputs": [],
   "source": [
    "troll_data['post_type'].fillna(value='NOT_RETWEET', inplace = True)"
   ]
  },
  {
   "cell_type": "code",
   "execution_count": 31,
   "metadata": {},
   "outputs": [],
   "source": [
    "#rechecking the null values"
   ]
  },
  {
   "cell_type": "code",
   "execution_count": 32,
   "metadata": {},
   "outputs": [
    {
     "data": {
      "text/plain": [
       "content             0\n",
       "region              0\n",
       "publish_date        0\n",
       "following           0\n",
       "followers           0\n",
       "updates             0\n",
       "post_type           0\n",
       "account_type        0\n",
       "new_june_2018       0\n",
       "retweet             0\n",
       "account_category    0\n",
       "dtype: int64"
      ]
     },
     "execution_count": 32,
     "metadata": {},
     "output_type": "execute_result"
    }
   ],
   "source": [
    "troll_data.isnull().sum()"
   ]
  },
  {
   "cell_type": "code",
   "execution_count": 33,
   "metadata": {},
   "outputs": [],
   "source": [
    "troll_data.drop(['publish_date'],axis = 1,inplace = True)"
   ]
  },
  {
   "cell_type": "code",
   "execution_count": 34,
   "metadata": {},
   "outputs": [],
   "source": [
    "#let us slice random 10000 of our total data to combine with negative data\n",
    "\n",
    "positive_data = troll_data.take(np.random.permutation(len(troll_data))[:10000])"
   ]
  },
  {
   "cell_type": "code",
   "execution_count": 35,
   "metadata": {},
   "outputs": [
    {
     "data": {
      "text/html": [
       "<div>\n",
       "<style scoped>\n",
       "    .dataframe tbody tr th:only-of-type {\n",
       "        vertical-align: middle;\n",
       "    }\n",
       "\n",
       "    .dataframe tbody tr th {\n",
       "        vertical-align: top;\n",
       "    }\n",
       "\n",
       "    .dataframe thead th {\n",
       "        text-align: right;\n",
       "    }\n",
       "</style>\n",
       "<table border=\"1\" class=\"dataframe\">\n",
       "  <thead>\n",
       "    <tr style=\"text-align: right;\">\n",
       "      <th></th>\n",
       "      <th>content</th>\n",
       "      <th>region</th>\n",
       "      <th>following</th>\n",
       "      <th>followers</th>\n",
       "      <th>updates</th>\n",
       "      <th>post_type</th>\n",
       "      <th>account_type</th>\n",
       "      <th>new_june_2018</th>\n",
       "      <th>retweet</th>\n",
       "      <th>account_category</th>\n",
       "    </tr>\n",
       "  </thead>\n",
       "  <tbody>\n",
       "    <tr>\n",
       "      <th>177032</th>\n",
       "      <td>RT debameyers: Nothing was said when OBAMA HAD...</td>\n",
       "      <td>United States</td>\n",
       "      <td>1958</td>\n",
       "      <td>259</td>\n",
       "      <td>3218</td>\n",
       "      <td>NOT_RETWEET</td>\n",
       "      <td>Right</td>\n",
       "      <td>0</td>\n",
       "      <td>0</td>\n",
       "      <td>RightTroll</td>\n",
       "    </tr>\n",
       "    <tr>\n",
       "      <th>206085</th>\n",
       "      <td>RT @GHOSTOPS2: MT @KarrattiPaul: THIS STANDARD...</td>\n",
       "      <td>United States</td>\n",
       "      <td>2287</td>\n",
       "      <td>1886</td>\n",
       "      <td>1702</td>\n",
       "      <td>NOT_RETWEET</td>\n",
       "      <td>Right</td>\n",
       "      <td>0</td>\n",
       "      <td>0</td>\n",
       "      <td>RightTroll</td>\n",
       "    </tr>\n",
       "    <tr>\n",
       "      <th>18746</th>\n",
       "      <td>#TopVideo Gunfire wounds four at Waldorf Astor...</td>\n",
       "      <td>United States</td>\n",
       "      <td>68</td>\n",
       "      <td>174</td>\n",
       "      <td>1159</td>\n",
       "      <td>RETWEET</td>\n",
       "      <td>Right</td>\n",
       "      <td>0</td>\n",
       "      <td>1</td>\n",
       "      <td>RightTroll</td>\n",
       "    </tr>\n",
       "  </tbody>\n",
       "</table>\n",
       "</div>"
      ],
      "text/plain": [
       "                                                  content         region  \\\n",
       "177032  RT debameyers: Nothing was said when OBAMA HAD...  United States   \n",
       "206085  RT @GHOSTOPS2: MT @KarrattiPaul: THIS STANDARD...  United States   \n",
       "18746   #TopVideo Gunfire wounds four at Waldorf Astor...  United States   \n",
       "\n",
       "        following  followers  updates    post_type account_type  \\\n",
       "177032       1958        259     3218  NOT_RETWEET        Right   \n",
       "206085       2287       1886     1702  NOT_RETWEET        Right   \n",
       "18746          68        174     1159      RETWEET        Right   \n",
       "\n",
       "        new_june_2018  retweet account_category  \n",
       "177032              0        0       RightTroll  \n",
       "206085              0        0       RightTroll  \n",
       "18746               0        1       RightTroll  "
      ]
     },
     "execution_count": 35,
     "metadata": {},
     "output_type": "execute_result"
    }
   ],
   "source": [
    "positive_data.head(3)"
   ]
  },
  {
   "cell_type": "markdown",
   "metadata": {},
   "source": [
    "# EDA"
   ]
  },
  {
   "cell_type": "code",
   "execution_count": 36,
   "metadata": {},
   "outputs": [],
   "source": [
    "#Since we have took 10000 random values \n",
    "# check if this random dataset is equally distributed as of original data"
   ]
  },
  {
   "cell_type": "code",
   "execution_count": 37,
   "metadata": {},
   "outputs": [
    {
     "data": {
      "text/plain": [
       "array([[<matplotlib.axes._subplots.AxesSubplot object at 0x0000000053BB8940>,\n",
       "        <matplotlib.axes._subplots.AxesSubplot object at 0x0000000046368F98>],\n",
       "       [<matplotlib.axes._subplots.AxesSubplot object at 0x000000004639A668>,\n",
       "        <matplotlib.axes._subplots.AxesSubplot object at 0x00000000463C1CF8>],\n",
       "       [<matplotlib.axes._subplots.AxesSubplot object at 0x00000000463F13C8>,\n",
       "        <matplotlib.axes._subplots.AxesSubplot object at 0x00000000463F1400>]],\n",
       "      dtype=object)"
      ]
     },
     "execution_count": 37,
     "metadata": {},
     "output_type": "execute_result"
    },
    {
     "data": {
      "image/png": "[encoded data removed]",
      "text/plain": [
       "<Figure size 1152x576 with 6 Axes>"
      ]
     },
     "metadata": {},
     "output_type": "display_data"
    }
   ],
   "source": [
    "#original data\n",
    "troll_data.hist(figsize=(16,8))\n"
   ]
  },
  {
   "cell_type": "code",
   "execution_count": 38,
   "metadata": {},
   "outputs": [
    {
     "data": {
      "text/plain": [
       "array([[<matplotlib.axes._subplots.AxesSubplot object at 0x0000000054062AC8>,\n",
       "        <matplotlib.axes._subplots.AxesSubplot object at 0x00000000543244A8>],\n",
       "       [<matplotlib.axes._subplots.AxesSubplot object at 0x000000005434CB38>,\n",
       "        <matplotlib.axes._subplots.AxesSubplot object at 0x0000000053DDF208>],\n",
       "       [<matplotlib.axes._subplots.AxesSubplot object at 0x0000000053E05898>,\n",
       "        <matplotlib.axes._subplots.AxesSubplot object at 0x0000000053E058D0>]],\n",
       "      dtype=object)"
      ]
     },
     "execution_count": 38,
     "metadata": {},
     "output_type": "execute_result"
    },
    {
     "data": {
      "image/png": "[encoded data removed]",
      "text/plain": [
       "<Figure size 1152x576 with 6 Axes>"
      ]
     },
     "metadata": {},
     "output_type": "display_data"
    }
   ],
   "source": [
    "#sampled data (positive_data)\n",
    "\n",
    "#Check distribution\n",
    "positive_data.hist(figsize = (16,8))"
   ]
  },
  {
   "cell_type": "code",
   "execution_count": null,
   "metadata": {},
   "outputs": [],
   "source": [
    "\n"
   ]
  },
  {
   "cell_type": "code",
   "execution_count": null,
   "metadata": {},
   "outputs": [],
   "source": []
  },
  {
   "cell_type": "code",
   "execution_count": 39,
   "metadata": {},
   "outputs": [
    {
     "data": {
      "text/html": [
       "<div>\n",
       "<style scoped>\n",
       "    .dataframe tbody tr th:only-of-type {\n",
       "        vertical-align: middle;\n",
       "    }\n",
       "\n",
       "    .dataframe tbody tr th {\n",
       "        vertical-align: top;\n",
       "    }\n",
       "\n",
       "    .dataframe thead th {\n",
       "        text-align: right;\n",
       "    }\n",
       "</style>\n",
       "<table border=\"1\" class=\"dataframe\">\n",
       "  <thead>\n",
       "    <tr style=\"text-align: right;\">\n",
       "      <th></th>\n",
       "      <th>content</th>\n",
       "      <th>region</th>\n",
       "      <th>following</th>\n",
       "      <th>followers</th>\n",
       "      <th>updates</th>\n",
       "      <th>post_type</th>\n",
       "      <th>account_type</th>\n",
       "      <th>new_june_2018</th>\n",
       "      <th>retweet</th>\n",
       "      <th>account_category</th>\n",
       "    </tr>\n",
       "  </thead>\n",
       "  <tbody>\n",
       "    <tr>\n",
       "      <th>177032</th>\n",
       "      <td>RT debameyers: Nothing was said when OBAMA HAD...</td>\n",
       "      <td>United States</td>\n",
       "      <td>1958</td>\n",
       "      <td>259</td>\n",
       "      <td>3218</td>\n",
       "      <td>NOT_RETWEET</td>\n",
       "      <td>Right</td>\n",
       "      <td>0</td>\n",
       "      <td>0</td>\n",
       "      <td>RightTroll</td>\n",
       "    </tr>\n",
       "    <tr>\n",
       "      <th>206085</th>\n",
       "      <td>RT @GHOSTOPS2: MT @KarrattiPaul: THIS STANDARD...</td>\n",
       "      <td>United States</td>\n",
       "      <td>2287</td>\n",
       "      <td>1886</td>\n",
       "      <td>1702</td>\n",
       "      <td>NOT_RETWEET</td>\n",
       "      <td>Right</td>\n",
       "      <td>0</td>\n",
       "      <td>0</td>\n",
       "      <td>RightTroll</td>\n",
       "    </tr>\n",
       "    <tr>\n",
       "      <th>18746</th>\n",
       "      <td>#TopVideo Gunfire wounds four at Waldorf Astor...</td>\n",
       "      <td>United States</td>\n",
       "      <td>68</td>\n",
       "      <td>174</td>\n",
       "      <td>1159</td>\n",
       "      <td>RETWEET</td>\n",
       "      <td>Right</td>\n",
       "      <td>0</td>\n",
       "      <td>1</td>\n",
       "      <td>RightTroll</td>\n",
       "    </tr>\n",
       "    <tr>\n",
       "      <th>44827</th>\n",
       "      <td>Foke New Jersey bride is thrown into the water...</td>\n",
       "      <td>United States</td>\n",
       "      <td>40</td>\n",
       "      <td>21</td>\n",
       "      <td>21551</td>\n",
       "      <td>NOT_RETWEET</td>\n",
       "      <td>News</td>\n",
       "      <td>0</td>\n",
       "      <td>0</td>\n",
       "      <td>NewsFeed</td>\n",
       "    </tr>\n",
       "    <tr>\n",
       "      <th>262784</th>\n",
       "      <td>.@AndrewKing86 winfred @georgegreyUK George @t...</td>\n",
       "      <td>United States</td>\n",
       "      <td>2</td>\n",
       "      <td>445</td>\n",
       "      <td>38172</td>\n",
       "      <td>NOT_RETWEET</td>\n",
       "      <td>Commercial</td>\n",
       "      <td>1</td>\n",
       "      <td>0</td>\n",
       "      <td>Commercial</td>\n",
       "    </tr>\n",
       "  </tbody>\n",
       "</table>\n",
       "</div>"
      ],
      "text/plain": [
       "                                                  content         region  \\\n",
       "177032  RT debameyers: Nothing was said when OBAMA HAD...  United States   \n",
       "206085  RT @GHOSTOPS2: MT @KarrattiPaul: THIS STANDARD...  United States   \n",
       "18746   #TopVideo Gunfire wounds four at Waldorf Astor...  United States   \n",
       "44827   Foke New Jersey bride is thrown into the water...  United States   \n",
       "262784  .@AndrewKing86 winfred @georgegreyUK George @t...  United States   \n",
       "\n",
       "        following  followers  updates    post_type account_type  \\\n",
       "177032       1958        259     3218  NOT_RETWEET        Right   \n",
       "206085       2287       1886     1702  NOT_RETWEET        Right   \n",
       "18746          68        174     1159      RETWEET        Right   \n",
       "44827          40         21    21551  NOT_RETWEET         News   \n",
       "262784          2        445    38172  NOT_RETWEET   Commercial   \n",
       "\n",
       "        new_june_2018  retweet account_category  \n",
       "177032              0        0       RightTroll  \n",
       "206085              0        0       RightTroll  \n",
       "18746               0        1       RightTroll  \n",
       "44827               0        0         NewsFeed  \n",
       "262784              1        0       Commercial  "
      ]
     },
     "execution_count": 39,
     "metadata": {},
     "output_type": "execute_result"
    }
   ],
   "source": [
    "#perfect , our positive data is equally distributed as original data\n",
    "#let use postive data for further process\n",
    "\n",
    "positive_data.head()"
   ]
  },
  {
   "cell_type": "code",
   "execution_count": 40,
   "metadata": {},
   "outputs": [],
   "source": [
    "#use only content column\n",
    "\n",
    "positive_data = pd.DataFrame(positive_data.content)"
   ]
  },
  {
   "cell_type": "code",
   "execution_count": 41,
   "metadata": {},
   "outputs": [
    {
     "data": {
      "text/html": [
       "<div>\n",
       "<style scoped>\n",
       "    .dataframe tbody tr th:only-of-type {\n",
       "        vertical-align: middle;\n",
       "    }\n",
       "\n",
       "    .dataframe tbody tr th {\n",
       "        vertical-align: top;\n",
       "    }\n",
       "\n",
       "    .dataframe thead th {\n",
       "        text-align: right;\n",
       "    }\n",
       "</style>\n",
       "<table border=\"1\" class=\"dataframe\">\n",
       "  <thead>\n",
       "    <tr style=\"text-align: right;\">\n",
       "      <th></th>\n",
       "      <th>content</th>\n",
       "    </tr>\n",
       "  </thead>\n",
       "  <tbody>\n",
       "    <tr>\n",
       "      <th>177032</th>\n",
       "      <td>RT debameyers: Nothing was said when OBAMA HAD...</td>\n",
       "    </tr>\n",
       "    <tr>\n",
       "      <th>206085</th>\n",
       "      <td>RT @GHOSTOPS2: MT @KarrattiPaul: THIS STANDARD...</td>\n",
       "    </tr>\n",
       "    <tr>\n",
       "      <th>18746</th>\n",
       "      <td>#TopVideo Gunfire wounds four at Waldorf Astor...</td>\n",
       "    </tr>\n",
       "    <tr>\n",
       "      <th>44827</th>\n",
       "      <td>Foke New Jersey bride is thrown into the water...</td>\n",
       "    </tr>\n",
       "    <tr>\n",
       "      <th>262784</th>\n",
       "      <td>.@AndrewKing86 winfred @georgegreyUK George @t...</td>\n",
       "    </tr>\n",
       "    <tr>\n",
       "      <th>222214</th>\n",
       "      <td>'@GaryJanetti Go to Canada then if you don't l...</td>\n",
       "    </tr>\n",
       "    <tr>\n",
       "      <th>183013</th>\n",
       "      <td>2 Firefighters Injured In Blaze At Volunteer F...</td>\n",
       "    </tr>\n",
       "    <tr>\n",
       "      <th>113179</th>\n",
       "      <td>Russians Expanding 2nd Air Base in Country  ht...</td>\n",
       "    </tr>\n",
       "    <tr>\n",
       "      <th>268002</th>\n",
       "      <td>Philly election chiefs nix dock-their-pay prop...</td>\n",
       "    </tr>\n",
       "    <tr>\n",
       "      <th>177392</th>\n",
       "      <td>#ImAlwaysOkWith as much junk as you can pack i...</td>\n",
       "    </tr>\n",
       "    <tr>\n",
       "      <th>367037</th>\n",
       "      <td>4 students arrested in plot to bomb Kansas mid...</td>\n",
       "    </tr>\n",
       "    <tr>\n",
       "      <th>335102</th>\n",
       "      <td>$20,000 reward offered for missing Marina Del ...</td>\n",
       "    </tr>\n",
       "    <tr>\n",
       "      <th>1005</th>\n",
       "      <td>Pat Kelly the legendary singer will be in stud...</td>\n",
       "    </tr>\n",
       "    <tr>\n",
       "      <th>351660</th>\n",
       "      <td>#MyFarewellWordsWouldBe fuck you pay me</td>\n",
       "    </tr>\n",
       "    <tr>\n",
       "      <th>353695</th>\n",
       "      <td>http://t.co/FXFWSfVhlh Gna workout late @Iam_R...</td>\n",
       "    </tr>\n",
       "    <tr>\n",
       "      <th>66872</th>\n",
       "      <td>▶@TSDMemphis: 7 simple secrets for a faster me...</td>\n",
       "    </tr>\n",
       "    <tr>\n",
       "      <th>233224</th>\n",
       "      <td>http://t.co/KhsU6z1TXy You going to coach book...</td>\n",
       "    </tr>\n",
       "    <tr>\n",
       "      <th>214984</th>\n",
       "      <td>UCB professor and critic David Littlejohn dies...</td>\n",
       "    </tr>\n",
       "    <tr>\n",
       "      <th>20349</th>\n",
       "      <td>Sorry if I say anything I don't mean</td>\n",
       "    </tr>\n",
       "    <tr>\n",
       "      <th>109483</th>\n",
       "      <td>Syria Olympic team beats Qatar 2-0, qualifies ...</td>\n",
       "    </tr>\n",
       "    <tr>\n",
       "      <th>143588</th>\n",
       "      <td>Ellen DeGeneres Surprises NYC Students With Co...</td>\n",
       "    </tr>\n",
       "    <tr>\n",
       "      <th>57623</th>\n",
       "      <td>It’s Official, Frederica Wilson is ‘KILLING’ T...</td>\n",
       "    </tr>\n",
       "    <tr>\n",
       "      <th>143130</th>\n",
       "      <td>NYC teacher gets 20-years-to-life in prison fo...</td>\n",
       "    </tr>\n",
       "    <tr>\n",
       "      <th>104202</th>\n",
       "      <td>FWIW,  Trump's surge started well before Comey...</td>\n",
       "    </tr>\n",
       "    <tr>\n",
       "      <th>313551</th>\n",
       "      <td>.@BaadBudgie Allah permits Cannibalism. https:...</td>\n",
       "    </tr>\n",
       "    <tr>\n",
       "      <th>298793</th>\n",
       "      <td>#BREAKING: Sepp Blatter and  Michel Platini su...</td>\n",
       "    </tr>\n",
       "    <tr>\n",
       "      <th>105689</th>\n",
       "      <td>#TopNews Murderers who escaped from New York p...</td>\n",
       "    </tr>\n",
       "    <tr>\n",
       "      <th>57851</th>\n",
       "      <td>Jimmy Kimmel Defends Disgraced Sex Predator Ha...</td>\n",
       "    </tr>\n",
       "    <tr>\n",
       "      <th>137890</th>\n",
       "      <td>#IStartCryingWhen  Cujo dies at the end of the...</td>\n",
       "    </tr>\n",
       "    <tr>\n",
       "      <th>303062</th>\n",
       "      <td>'@RogerTendwell @FoxNews Feels like it's gonna...</td>\n",
       "    </tr>\n",
       "    <tr>\n",
       "      <th>...</th>\n",
       "      <td>...</td>\n",
       "    </tr>\n",
       "    <tr>\n",
       "      <th>31972</th>\n",
       "      <td>Liberals are always trying to turn men into gi...</td>\n",
       "    </tr>\n",
       "    <tr>\n",
       "      <th>297938</th>\n",
       "      <td>NEW: Dems needle Republicans for skipping Trum...</td>\n",
       "    </tr>\n",
       "    <tr>\n",
       "      <th>251731</th>\n",
       "      <td>http://t.co/IaIgyd28p2 Not me I don't workout ...</td>\n",
       "    </tr>\n",
       "    <tr>\n",
       "      <th>355633</th>\n",
       "      <td>http://t.co/gihwUfiMti Stupid Carlos never wan...</td>\n",
       "    </tr>\n",
       "    <tr>\n",
       "      <th>194845</th>\n",
       "      <td>Spacewalking astronauts tackle battery work ou...</td>\n",
       "    </tr>\n",
       "    <tr>\n",
       "      <th>95611</th>\n",
       "      <td>Hey NBC, when you carelessly use the word \"rig...</td>\n",
       "    </tr>\n",
       "    <tr>\n",
       "      <th>15916</th>\n",
       "      <td>#MakeAMovieBlack Finding Benjamins</td>\n",
       "    </tr>\n",
       "    <tr>\n",
       "      <th>2251</th>\n",
       "      <td>#IdRunForPresidentIf I weren't British ��</td>\n",
       "    </tr>\n",
       "    <tr>\n",
       "      <th>51777</th>\n",
       "      <td>I will always be more loyal to #NaturalLaw,#Co...</td>\n",
       "    </tr>\n",
       "    <tr>\n",
       "      <th>32493</th>\n",
       "      <td>Physics professor gets a math lesson as Univ. ...</td>\n",
       "    </tr>\n",
       "    <tr>\n",
       "      <th>149156</th>\n",
       "      <td>Tim Kaine Rocked His Harmonica for North Carol...</td>\n",
       "    </tr>\n",
       "    <tr>\n",
       "      <th>204892</th>\n",
       "      <td>Man pleads guilty to killing ex-wife in Wheato...</td>\n",
       "    </tr>\n",
       "    <tr>\n",
       "      <th>207768</th>\n",
       "      <td>I am so tired of crying for sons and daughters...</td>\n",
       "    </tr>\n",
       "    <tr>\n",
       "      <th>127511</th>\n",
       "      <td>'50 SHADES effect' leading to emergency calls ...</td>\n",
       "    </tr>\n",
       "    <tr>\n",
       "      <th>280918</th>\n",
       "      <td>.@vanessa__cx vanessa @ilirprogri Ilir @TheaCh...</td>\n",
       "    </tr>\n",
       "    <tr>\n",
       "      <th>128071</th>\n",
       "      <td>#MyOlympicSportWouldBe Pokemon splatting.</td>\n",
       "    </tr>\n",
       "    <tr>\n",
       "      <th>327228</th>\n",
       "      <td>Rescuers race to reach quake zones in Afghanis...</td>\n",
       "    </tr>\n",
       "    <tr>\n",
       "      <th>261003</th>\n",
       "      <td>Patient who escaped from Western State Hospita...</td>\n",
       "    </tr>\n",
       "    <tr>\n",
       "      <th>287977</th>\n",
       "      <td>Fire: Heavy Rains Caused Apartment Building Wa...</td>\n",
       "    </tr>\n",
       "    <tr>\n",
       "      <th>55282</th>\n",
       "      <td>Thankful I'm Still Alive #2016In4Words</td>\n",
       "    </tr>\n",
       "    <tr>\n",
       "      <th>238469</th>\n",
       "      <td>KKK sign, flags removed from Dahlonega buildin...</td>\n",
       "    </tr>\n",
       "    <tr>\n",
       "      <th>124753</th>\n",
       "      <td>#AllWentWrongWhen we decided to sponsor terror...</td>\n",
       "    </tr>\n",
       "    <tr>\n",
       "      <th>220962</th>\n",
       "      <td>I learned Wilson and Baldwin from an AP Lit re...</td>\n",
       "    </tr>\n",
       "    <tr>\n",
       "      <th>282684</th>\n",
       "      <td>'@QueenB___x Just been a couch potato today! T...</td>\n",
       "    </tr>\n",
       "    <tr>\n",
       "      <th>282694</th>\n",
       "      <td>Sept. 7 TV Picks: ‘The Civil War’ rebroadcast ...</td>\n",
       "    </tr>\n",
       "    <tr>\n",
       "      <th>147673</th>\n",
       "      <td>Live NBA Finals updates: Warriors lead 76-75 a...</td>\n",
       "    </tr>\n",
       "    <tr>\n",
       "      <th>137268</th>\n",
       "      <td>'Amy Winehouse' just started trending with 138...</td>\n",
       "    </tr>\n",
       "    <tr>\n",
       "      <th>186020</th>\n",
       "      <td>Robin Williams’ 5 Best Dramatic Movie Roles  #...</td>\n",
       "    </tr>\n",
       "    <tr>\n",
       "      <th>214919</th>\n",
       "      <td>The UC system spent $175,000 trying to remove ...</td>\n",
       "    </tr>\n",
       "    <tr>\n",
       "      <th>85051</th>\n",
       "      <td>Arizona Restaurant Closes After Backlash Over ...</td>\n",
       "    </tr>\n",
       "  </tbody>\n",
       "</table>\n",
       "<p>10000 rows × 1 columns</p>\n",
       "</div>"
      ],
      "text/plain": [
       "                                                  content\n",
       "177032  RT debameyers: Nothing was said when OBAMA HAD...\n",
       "206085  RT @GHOSTOPS2: MT @KarrattiPaul: THIS STANDARD...\n",
       "18746   #TopVideo Gunfire wounds four at Waldorf Astor...\n",
       "44827   Foke New Jersey bride is thrown into the water...\n",
       "262784  .@AndrewKing86 winfred @georgegreyUK George @t...\n",
       "222214  '@GaryJanetti Go to Canada then if you don't l...\n",
       "183013  2 Firefighters Injured In Blaze At Volunteer F...\n",
       "113179  Russians Expanding 2nd Air Base in Country  ht...\n",
       "268002  Philly election chiefs nix dock-their-pay prop...\n",
       "177392  #ImAlwaysOkWith as much junk as you can pack i...\n",
       "367037  4 students arrested in plot to bomb Kansas mid...\n",
       "335102  $20,000 reward offered for missing Marina Del ...\n",
       "1005    Pat Kelly the legendary singer will be in stud...\n",
       "351660            #MyFarewellWordsWouldBe fuck you pay me\n",
       "353695  http://t.co/FXFWSfVhlh Gna workout late @Iam_R...\n",
       "66872   ▶@TSDMemphis: 7 simple secrets for a faster me...\n",
       "233224  http://t.co/KhsU6z1TXy You going to coach book...\n",
       "214984  UCB professor and critic David Littlejohn dies...\n",
       "20349                Sorry if I say anything I don't mean\n",
       "109483  Syria Olympic team beats Qatar 2-0, qualifies ...\n",
       "143588  Ellen DeGeneres Surprises NYC Students With Co...\n",
       "57623   It’s Official, Frederica Wilson is ‘KILLING’ T...\n",
       "143130  NYC teacher gets 20-years-to-life in prison fo...\n",
       "104202  FWIW,  Trump's surge started well before Comey...\n",
       "313551  .@BaadBudgie Allah permits Cannibalism. https:...\n",
       "298793  #BREAKING: Sepp Blatter and  Michel Platini su...\n",
       "105689  #TopNews Murderers who escaped from New York p...\n",
       "57851   Jimmy Kimmel Defends Disgraced Sex Predator Ha...\n",
       "137890  #IStartCryingWhen  Cujo dies at the end of the...\n",
       "303062  '@RogerTendwell @FoxNews Feels like it's gonna...\n",
       "...                                                   ...\n",
       "31972   Liberals are always trying to turn men into gi...\n",
       "297938  NEW: Dems needle Republicans for skipping Trum...\n",
       "251731  http://t.co/IaIgyd28p2 Not me I don't workout ...\n",
       "355633  http://t.co/gihwUfiMti Stupid Carlos never wan...\n",
       "194845  Spacewalking astronauts tackle battery work ou...\n",
       "95611   Hey NBC, when you carelessly use the word \"rig...\n",
       "15916                  #MakeAMovieBlack Finding Benjamins\n",
       "2251            #IdRunForPresidentIf I weren't British ��\n",
       "51777   I will always be more loyal to #NaturalLaw,#Co...\n",
       "32493   Physics professor gets a math lesson as Univ. ...\n",
       "149156  Tim Kaine Rocked His Harmonica for North Carol...\n",
       "204892  Man pleads guilty to killing ex-wife in Wheato...\n",
       "207768  I am so tired of crying for sons and daughters...\n",
       "127511  '50 SHADES effect' leading to emergency calls ...\n",
       "280918  .@vanessa__cx vanessa @ilirprogri Ilir @TheaCh...\n",
       "128071          #MyOlympicSportWouldBe Pokemon splatting.\n",
       "327228  Rescuers race to reach quake zones in Afghanis...\n",
       "261003  Patient who escaped from Western State Hospita...\n",
       "287977  Fire: Heavy Rains Caused Apartment Building Wa...\n",
       "55282              Thankful I'm Still Alive #2016In4Words\n",
       "238469  KKK sign, flags removed from Dahlonega buildin...\n",
       "124753  #AllWentWrongWhen we decided to sponsor terror...\n",
       "220962  I learned Wilson and Baldwin from an AP Lit re...\n",
       "282684  '@QueenB___x Just been a couch potato today! T...\n",
       "282694  Sept. 7 TV Picks: ‘The Civil War’ rebroadcast ...\n",
       "147673  Live NBA Finals updates: Warriors lead 76-75 a...\n",
       "137268  'Amy Winehouse' just started trending with 138...\n",
       "186020  Robin Williams’ 5 Best Dramatic Movie Roles  #...\n",
       "214919  The UC system spent $175,000 trying to remove ...\n",
       "85051   Arizona Restaurant Closes After Backlash Over ...\n",
       "\n",
       "[10000 rows x 1 columns]"
      ]
     },
     "execution_count": 41,
     "metadata": {},
     "output_type": "execute_result"
    }
   ],
   "source": [
    "positive_data"
   ]
  },
  {
   "cell_type": "code",
   "execution_count": null,
   "metadata": {},
   "outputs": [],
   "source": []
  },
  {
   "cell_type": "code",
   "execution_count": null,
   "metadata": {},
   "outputs": [],
   "source": []
  },
  {
   "cell_type": "code",
   "execution_count": 42,
   "metadata": {},
   "outputs": [
    {
     "name": "stdout",
     "output_type": "stream",
     "text": [
      "postive data length :10000 \t negative data length : 7578\n"
     ]
    }
   ],
   "source": [
    "print(\"postive data length :{} \\t negative data length : {}\".format(len(positive_data),len(negative_data)))"
   ]
  },
  {
   "cell_type": "code",
   "execution_count": 43,
   "metadata": {},
   "outputs": [],
   "source": [
    "#adding label\n",
    "\n",
    "temp1 = np.ones(len(positive_data))"
   ]
  },
  {
   "cell_type": "code",
   "execution_count": 44,
   "metadata": {},
   "outputs": [],
   "source": [
    "positive_data['label'] = temp1"
   ]
  },
  {
   "cell_type": "code",
   "execution_count": 45,
   "metadata": {},
   "outputs": [],
   "source": [
    "positive_data['label'] = positive_data.label.astype(int)"
   ]
  },
  {
   "cell_type": "code",
   "execution_count": 46,
   "metadata": {},
   "outputs": [],
   "source": [
    "\n",
    "temp2 = np.zeros(len(negative_data))"
   ]
  },
  {
   "cell_type": "code",
   "execution_count": 47,
   "metadata": {},
   "outputs": [],
   "source": [
    "negative_data['label'] = temp2"
   ]
  },
  {
   "cell_type": "code",
   "execution_count": 48,
   "metadata": {},
   "outputs": [],
   "source": [
    "negative_data['label'] = negative_data.label.astype(int)"
   ]
  },
  {
   "cell_type": "code",
   "execution_count": 49,
   "metadata": {},
   "outputs": [
    {
     "data": {
      "text/html": [
       "<div>\n",
       "<style scoped>\n",
       "    .dataframe tbody tr th:only-of-type {\n",
       "        vertical-align: middle;\n",
       "    }\n",
       "\n",
       "    .dataframe tbody tr th {\n",
       "        vertical-align: top;\n",
       "    }\n",
       "\n",
       "    .dataframe thead th {\n",
       "        text-align: right;\n",
       "    }\n",
       "</style>\n",
       "<table border=\"1\" class=\"dataframe\">\n",
       "  <thead>\n",
       "    <tr style=\"text-align: right;\">\n",
       "      <th></th>\n",
       "      <th>content</th>\n",
       "      <th>label</th>\n",
       "    </tr>\n",
       "  </thead>\n",
       "  <tbody>\n",
       "    <tr>\n",
       "      <th>177032</th>\n",
       "      <td>RT debameyers: Nothing was said when OBAMA HAD...</td>\n",
       "      <td>1</td>\n",
       "    </tr>\n",
       "    <tr>\n",
       "      <th>206085</th>\n",
       "      <td>RT @GHOSTOPS2: MT @KarrattiPaul: THIS STANDARD...</td>\n",
       "      <td>1</td>\n",
       "    </tr>\n",
       "    <tr>\n",
       "      <th>18746</th>\n",
       "      <td>#TopVideo Gunfire wounds four at Waldorf Astor...</td>\n",
       "      <td>1</td>\n",
       "    </tr>\n",
       "    <tr>\n",
       "      <th>44827</th>\n",
       "      <td>Foke New Jersey bride is thrown into the water...</td>\n",
       "      <td>1</td>\n",
       "    </tr>\n",
       "    <tr>\n",
       "      <th>262784</th>\n",
       "      <td>.@AndrewKing86 winfred @georgegreyUK George @t...</td>\n",
       "      <td>1</td>\n",
       "    </tr>\n",
       "  </tbody>\n",
       "</table>\n",
       "</div>"
      ],
      "text/plain": [
       "                                                  content  label\n",
       "177032  RT debameyers: Nothing was said when OBAMA HAD...      1\n",
       "206085  RT @GHOSTOPS2: MT @KarrattiPaul: THIS STANDARD...      1\n",
       "18746   #TopVideo Gunfire wounds four at Waldorf Astor...      1\n",
       "44827   Foke New Jersey bride is thrown into the water...      1\n",
       "262784  .@AndrewKing86 winfred @georgegreyUK George @t...      1"
      ]
     },
     "execution_count": 49,
     "metadata": {},
     "output_type": "execute_result"
    }
   ],
   "source": [
    "positive_data.head()"
   ]
  },
  {
   "cell_type": "code",
   "execution_count": 50,
   "metadata": {},
   "outputs": [
    {
     "data": {
      "text/html": [
       "<div>\n",
       "<style scoped>\n",
       "    .dataframe tbody tr th:only-of-type {\n",
       "        vertical-align: middle;\n",
       "    }\n",
       "\n",
       "    .dataframe tbody tr th {\n",
       "        vertical-align: top;\n",
       "    }\n",
       "\n",
       "    .dataframe thead th {\n",
       "        text-align: right;\n",
       "    }\n",
       "</style>\n",
       "<table border=\"1\" class=\"dataframe\">\n",
       "  <thead>\n",
       "    <tr style=\"text-align: right;\">\n",
       "      <th></th>\n",
       "      <th>content</th>\n",
       "      <th>label</th>\n",
       "    </tr>\n",
       "  </thead>\n",
       "  <tbody>\n",
       "    <tr>\n",
       "      <th>0</th>\n",
       "      <td>Donald Trump vs. Hillary Clinton Debate Cold O...</td>\n",
       "      <td>0</td>\n",
       "    </tr>\n",
       "    <tr>\n",
       "      <th>1</th>\n",
       "      <td>@realDonaldTrump The need is to blow off the \"...</td>\n",
       "      <td>0</td>\n",
       "    </tr>\n",
       "    <tr>\n",
       "      <th>2</th>\n",
       "      <td>US-Medien: Trump zahlte womöglich jahrelang ke...</td>\n",
       "      <td>0</td>\n",
       "    </tr>\n",
       "    <tr>\n",
       "      <th>3</th>\n",
       "      <td>#amjoy #cnn #msnbc #Trump has 2 words for #dep...</td>\n",
       "      <td>0</td>\n",
       "    </tr>\n",
       "    <tr>\n",
       "      <th>4</th>\n",
       "      <td>and you people who can't  good old boy loans a...</td>\n",
       "      <td>0</td>\n",
       "    </tr>\n",
       "  </tbody>\n",
       "</table>\n",
       "</div>"
      ],
      "text/plain": [
       "                                             content  label\n",
       "0  Donald Trump vs. Hillary Clinton Debate Cold O...      0\n",
       "1  @realDonaldTrump The need is to blow off the \"...      0\n",
       "2  US-Medien: Trump zahlte womöglich jahrelang ke...      0\n",
       "3  #amjoy #cnn #msnbc #Trump has 2 words for #dep...      0\n",
       "4  and you people who can't  good old boy loans a...      0"
      ]
     },
     "execution_count": 50,
     "metadata": {},
     "output_type": "execute_result"
    }
   ],
   "source": [
    "negative_data.head()"
   ]
  },
  {
   "cell_type": "code",
   "execution_count": 51,
   "metadata": {},
   "outputs": [],
   "source": [
    "data = pd.concat([positive_data,negative_data],axis=0)"
   ]
  },
  {
   "cell_type": "code",
   "execution_count": null,
   "metadata": {},
   "outputs": [],
   "source": []
  },
  {
   "cell_type": "code",
   "execution_count": 52,
   "metadata": {},
   "outputs": [
    {
     "data": {
      "text/html": [
       "<div>\n",
       "<style scoped>\n",
       "    .dataframe tbody tr th:only-of-type {\n",
       "        vertical-align: middle;\n",
       "    }\n",
       "\n",
       "    .dataframe tbody tr th {\n",
       "        vertical-align: top;\n",
       "    }\n",
       "\n",
       "    .dataframe thead th {\n",
       "        text-align: right;\n",
       "    }\n",
       "</style>\n",
       "<table border=\"1\" class=\"dataframe\">\n",
       "  <thead>\n",
       "    <tr style=\"text-align: right;\">\n",
       "      <th></th>\n",
       "      <th>content</th>\n",
       "      <th>label</th>\n",
       "    </tr>\n",
       "  </thead>\n",
       "  <tbody>\n",
       "    <tr>\n",
       "      <th>177032</th>\n",
       "      <td>RT debameyers: Nothing was said when OBAMA HAD...</td>\n",
       "      <td>1</td>\n",
       "    </tr>\n",
       "    <tr>\n",
       "      <th>206085</th>\n",
       "      <td>RT @GHOSTOPS2: MT @KarrattiPaul: THIS STANDARD...</td>\n",
       "      <td>1</td>\n",
       "    </tr>\n",
       "    <tr>\n",
       "      <th>18746</th>\n",
       "      <td>#TopVideo Gunfire wounds four at Waldorf Astor...</td>\n",
       "      <td>1</td>\n",
       "    </tr>\n",
       "    <tr>\n",
       "      <th>44827</th>\n",
       "      <td>Foke New Jersey bride is thrown into the water...</td>\n",
       "      <td>1</td>\n",
       "    </tr>\n",
       "    <tr>\n",
       "      <th>262784</th>\n",
       "      <td>.@AndrewKing86 winfred @georgegreyUK George @t...</td>\n",
       "      <td>1</td>\n",
       "    </tr>\n",
       "  </tbody>\n",
       "</table>\n",
       "</div>"
      ],
      "text/plain": [
       "                                                  content  label\n",
       "177032  RT debameyers: Nothing was said when OBAMA HAD...      1\n",
       "206085  RT @GHOSTOPS2: MT @KarrattiPaul: THIS STANDARD...      1\n",
       "18746   #TopVideo Gunfire wounds four at Waldorf Astor...      1\n",
       "44827   Foke New Jersey bride is thrown into the water...      1\n",
       "262784  .@AndrewKing86 winfred @georgegreyUK George @t...      1"
      ]
     },
     "execution_count": 52,
     "metadata": {},
     "output_type": "execute_result"
    }
   ],
   "source": [
    "data.head()"
   ]
  },
  {
   "cell_type": "code",
   "execution_count": 53,
   "metadata": {},
   "outputs": [],
   "source": [
    "data = data.sample(frac=1).reset_index(drop=True)"
   ]
  },
  {
   "cell_type": "code",
   "execution_count": 54,
   "metadata": {},
   "outputs": [
    {
     "data": {
      "text/html": [
       "<div>\n",
       "<style scoped>\n",
       "    .dataframe tbody tr th:only-of-type {\n",
       "        vertical-align: middle;\n",
       "    }\n",
       "\n",
       "    .dataframe tbody tr th {\n",
       "        vertical-align: top;\n",
       "    }\n",
       "\n",
       "    .dataframe thead th {\n",
       "        text-align: right;\n",
       "    }\n",
       "</style>\n",
       "<table border=\"1\" class=\"dataframe\">\n",
       "  <thead>\n",
       "    <tr style=\"text-align: right;\">\n",
       "      <th></th>\n",
       "      <th>content</th>\n",
       "      <th>label</th>\n",
       "    </tr>\n",
       "  </thead>\n",
       "  <tbody>\n",
       "    <tr>\n",
       "      <th>0</th>\n",
       "      <td>AP-NORC Poll: Half of Trump backers don't trus...</td>\n",
       "      <td>0</td>\n",
       "    </tr>\n",
       "    <tr>\n",
       "      <th>1</th>\n",
       "      <td>AAA Study: Distracted Driving Getting Worse, E...</td>\n",
       "      <td>1</td>\n",
       "    </tr>\n",
       "    <tr>\n",
       "      <th>2</th>\n",
       "      <td>Price Hill Baseball Oldtimers HOF ceremony htt...</td>\n",
       "      <td>1</td>\n",
       "    </tr>\n",
       "    <tr>\n",
       "      <th>3</th>\n",
       "      <td>Trump pudo haber evitado el pago de impuestos ...</td>\n",
       "      <td>0</td>\n",
       "    </tr>\n",
       "    <tr>\n",
       "      <th>4</th>\n",
       "      <td>Why Good Economics Matters Now More Than Ever ...</td>\n",
       "      <td>1</td>\n",
       "    </tr>\n",
       "  </tbody>\n",
       "</table>\n",
       "</div>"
      ],
      "text/plain": [
       "                                             content  label\n",
       "0  AP-NORC Poll: Half of Trump backers don't trus...      0\n",
       "1  AAA Study: Distracted Driving Getting Worse, E...      1\n",
       "2  Price Hill Baseball Oldtimers HOF ceremony htt...      1\n",
       "3  Trump pudo haber evitado el pago de impuestos ...      0\n",
       "4  Why Good Economics Matters Now More Than Ever ...      1"
      ]
     },
     "execution_count": 54,
     "metadata": {},
     "output_type": "execute_result"
    }
   ],
   "source": [
    "data.head()"
   ]
  },
  {
   "cell_type": "markdown",
   "metadata": {},
   "source": [
    "Perfect!! Our dataset is now ready for further process"
   ]
  },
  {
   "cell_type": "markdown",
   "metadata": {},
   "source": [
    "# Feature Engineering"
   ]
  },
  {
   "cell_type": "code",
   "execution_count": 55,
   "metadata": {},
   "outputs": [
    {
     "name": "stdout",
     "output_type": "stream",
     "text": [
      "[nltk_data] Downloading package stopwords to\n",
      "[nltk_data]     C:\\Users\\NIKHIL\\AppData\\Roaming\\nltk_data...\n",
      "[nltk_data]   Package stopwords is already up-to-date!\n"
     ]
    }
   ],
   "source": [
    "#importing essential libraries useful for feature extraction\n",
    "import re\n",
    "\n",
    "# Natural Language Tool Kit \n",
    "import nltk\n",
    "nltk.download('stopwords')\n",
    "\n",
    "# to remove stopword \n",
    "from nltk.corpus import stopwords\n",
    "\n",
    "# for Stemming propose \n",
    "from nltk.stem.porter import PorterStemmer\n"
   ]
  },
  {
   "cell_type": "code",
   "execution_count": 56,
   "metadata": {},
   "outputs": [
    {
     "data": {
      "text/plain": [
       "17578"
      ]
     },
     "execution_count": 56,
     "metadata": {},
     "output_type": "execute_result"
    }
   ],
   "source": [
    "len(data)"
   ]
  },
  {
   "cell_type": "code",
   "execution_count": 57,
   "metadata": {},
   "outputs": [],
   "source": [
    "# Initialize empty array \n",
    "# to append clean text \n",
    "corpus = []\n",
    "ps = PorterStemmer()\n",
    "\n",
    "# 17578 (contents) rows to clean\n",
    "for i in range(0, len(data)):\n",
    "    content = re.sub(r\"http\\S+\", \"\", data['content'][i])\n",
    "    content = re.sub('[^a-zA-Z]', ' ', content)\n",
    "    content = content.lower()\n",
    "    \n",
    "    \n",
    "    # split to list (delimiter \" \") \n",
    "    content = content.split()\n",
    "    \n",
    "   \n",
    "    \n",
    "    # rejoin all string array elements to create back into a string \n",
    "    \n",
    "    content = [ps.stem(word) for word in content if not word in set(stopwords.words('english'))]\n",
    "    \n",
    "    # append each string to create \n",
    "    # array of clean text \n",
    "    content = ' '.join(content)\n",
    "    corpus.append(content)"
   ]
  },
  {
   "cell_type": "code",
   "execution_count": 58,
   "metadata": {
    "scrolled": false
   },
   "outputs": [],
   "source": [
    "#corpus"
   ]
  },
  {
   "cell_type": "markdown",
   "metadata": {},
   "source": [
    "# Model Creation"
   ]
  },
  {
   "cell_type": "markdown",
   "metadata": {},
   "source": [
    "# Bag of Word "
   ]
  },
  {
   "cell_type": "code",
   "execution_count": 59,
   "metadata": {},
   "outputs": [],
   "source": [
    "#BOW\n",
    "from sklearn.feature_extraction.text import CountVectorizer\n",
    "cv = CountVectorizer(max_features =5000)\n",
    "X = cv.fit_transform(corpus)\n",
    "y = data.iloc[:, 1].values"
   ]
  },
  {
   "cell_type": "code",
   "execution_count": 60,
   "metadata": {},
   "outputs": [],
   "source": [
    "from sklearn.model_selection import train_test_split\n",
    "X_train, X_test, y_train, y_test = train_test_split(X, y, test_size = 0.20, random_state = 0)"
   ]
  },
  {
   "cell_type": "code",
   "execution_count": 61,
   "metadata": {},
   "outputs": [
    {
     "data": {
      "text/plain": [
       "(14062, 5000)"
      ]
     },
     "execution_count": 61,
     "metadata": {},
     "output_type": "execute_result"
    }
   ],
   "source": [
    "X_train.shape"
   ]
  },
  {
   "cell_type": "markdown",
   "metadata": {},
   "source": [
    "## BoW with Naive Bayes"
   ]
  },
  {
   "cell_type": "code",
   "execution_count": 62,
   "metadata": {},
   "outputs": [],
   "source": [
    "from sklearn.naive_bayes import MultinomialNB\n",
    "from sklearn.metrics import confusion_matrix\n",
    "from sklearn.metrics import classification_report\n"
   ]
  },
  {
   "cell_type": "code",
   "execution_count": null,
   "metadata": {},
   "outputs": [],
   "source": []
  },
  {
   "cell_type": "code",
   "execution_count": 63,
   "metadata": {},
   "outputs": [
    {
     "data": {
      "text/plain": [
       "MultinomialNB(alpha=1.0, class_prior=None, fit_prior=True)"
      ]
     },
     "execution_count": 63,
     "metadata": {},
     "output_type": "execute_result"
    }
   ],
   "source": [
    "bow_classifier_1 = MultinomialNB()\n",
    "bow_classifier_1.fit(X_train, y_train)"
   ]
  },
  {
   "cell_type": "code",
   "execution_count": 64,
   "metadata": {},
   "outputs": [],
   "source": [
    "y_pred_1 = bow_classifier_1.predict(X_test)"
   ]
  },
  {
   "cell_type": "code",
   "execution_count": 65,
   "metadata": {},
   "outputs": [
    {
     "name": "stdout",
     "output_type": "stream",
     "text": [
      "[[1233  232]\n",
      " [ 179 1872]]\n"
     ]
    }
   ],
   "source": [
    "cm_1 = confusion_matrix(y_test, y_pred_1)\n",
    "print(cm_1)"
   ]
  },
  {
   "cell_type": "code",
   "execution_count": 127,
   "metadata": {},
   "outputs": [
    {
     "data": {
      "text/plain": [
       "['Naive_bayse_model.sav']"
      ]
     },
     "execution_count": 127,
     "metadata": {},
     "output_type": "execute_result"
    }
   ],
   "source": [
    "import joblib\n",
    "\n",
    "filename = 'Naive_bayse_model.sav'\n",
    "joblib.dump(bow_classifier_1, filename)"
   ]
  },
  {
   "cell_type": "code",
   "execution_count": 66,
   "metadata": {},
   "outputs": [
    {
     "name": "stdout",
     "output_type": "stream",
     "text": [
      "Accuracy = 87.8839590443686%\n"
     ]
    }
   ],
   "source": [
    "print(\"Accuracy = {}%\".format((3090/3516)*100))"
   ]
  },
  {
   "cell_type": "code",
   "execution_count": 67,
   "metadata": {},
   "outputs": [
    {
     "name": "stdout",
     "output_type": "stream",
     "text": [
      "             precision    recall  f1-score   support\n",
      "\n",
      "          0       0.87      0.84      0.86      1465\n",
      "          1       0.89      0.91      0.90      2051\n",
      "\n",
      "avg / total       0.88      0.88      0.88      3516\n",
      "\n"
     ]
    }
   ],
   "source": [
    "print(classification_report(y_pred=y_pred_1,y_true=y_test))"
   ]
  },
  {
   "cell_type": "markdown",
   "metadata": {},
   "source": [
    "## BOW with Logistic Regression"
   ]
  },
  {
   "cell_type": "markdown",
   "metadata": {},
   "source": [
    "Accuracy = 87%"
   ]
  },
  {
   "cell_type": "code",
   "execution_count": 68,
   "metadata": {},
   "outputs": [],
   "source": [
    "from sklearn.linear_model import LogisticRegression"
   ]
  },
  {
   "cell_type": "code",
   "execution_count": 69,
   "metadata": {
    "scrolled": true
   },
   "outputs": [
    {
     "data": {
      "text/plain": [
       "LogisticRegression(C=1.0, class_weight=None, dual=False, fit_intercept=True,\n",
       "          intercept_scaling=1, max_iter=100, multi_class='ovr', n_jobs=1,\n",
       "          penalty='l2', random_state=None, solver='liblinear', tol=0.0001,\n",
       "          verbose=0, warm_start=False)"
      ]
     },
     "execution_count": 69,
     "metadata": {},
     "output_type": "execute_result"
    }
   ],
   "source": [
    "bowclassifier_2 = LogisticRegression()\n",
    "bowclassifier_2.fit(X_train, y_train)"
   ]
  },
  {
   "cell_type": "code",
   "execution_count": 70,
   "metadata": {},
   "outputs": [],
   "source": [
    "y_pred_2 = bowclassifier_2.predict(X_test)"
   ]
  },
  {
   "cell_type": "code",
   "execution_count": null,
   "metadata": {},
   "outputs": [],
   "source": []
  },
  {
   "cell_type": "code",
   "execution_count": 71,
   "metadata": {},
   "outputs": [
    {
     "name": "stdout",
     "output_type": "stream",
     "text": [
      "[[1241  224]\n",
      " [ 136 1915]]\n"
     ]
    }
   ],
   "source": [
    "cm_2 = confusion_matrix(y_test, y_pred_2)\n",
    "print(cm_2)"
   ]
  },
  {
   "cell_type": "code",
   "execution_count": 72,
   "metadata": {},
   "outputs": [
    {
     "name": "stdout",
     "output_type": "stream",
     "text": [
      "             precision    recall  f1-score   support\n",
      "\n",
      "          0       0.90      0.85      0.87      1465\n",
      "          1       0.90      0.93      0.91      2051\n",
      "\n",
      "avg / total       0.90      0.90      0.90      3516\n",
      "\n"
     ]
    }
   ],
   "source": [
    "print(classification_report(y_pred=y_pred_2,y_true=y_test))"
   ]
  },
  {
   "cell_type": "code",
   "execution_count": 73,
   "metadata": {},
   "outputs": [
    {
     "name": "stdout",
     "output_type": "stream",
     "text": [
      "Accuracy = 90.07394766780432%\n"
     ]
    }
   ],
   "source": [
    "print(\"Accuracy = {}%\".format((3167/3516)*100))"
   ]
  },
  {
   "cell_type": "markdown",
   "metadata": {},
   "source": [
    "## BOW with Random Forest"
   ]
  },
  {
   "cell_type": "code",
   "execution_count": 74,
   "metadata": {},
   "outputs": [],
   "source": [
    "from sklearn.ensemble import RandomForestClassifier\n"
   ]
  },
  {
   "cell_type": "code",
   "execution_count": 75,
   "metadata": {},
   "outputs": [],
   "source": [
    "bowclassifier_3 = RandomForestClassifier(n_estimators = 10)\n"
   ]
  },
  {
   "cell_type": "code",
   "execution_count": 76,
   "metadata": {},
   "outputs": [
    {
     "data": {
      "text/plain": [
       "RandomForestClassifier(bootstrap=True, class_weight=None, criterion='gini',\n",
       "            max_depth=None, max_features='auto', max_leaf_nodes=None,\n",
       "            min_impurity_decrease=0.0, min_impurity_split=None,\n",
       "            min_samples_leaf=1, min_samples_split=2,\n",
       "            min_weight_fraction_leaf=0.0, n_estimators=10, n_jobs=1,\n",
       "            oob_score=False, random_state=None, verbose=0,\n",
       "            warm_start=False)"
      ]
     },
     "execution_count": 76,
     "metadata": {},
     "output_type": "execute_result"
    }
   ],
   "source": [
    "bowclassifier_3.fit(X_train, y_train)\n"
   ]
  },
  {
   "cell_type": "code",
   "execution_count": 77,
   "metadata": {},
   "outputs": [
    {
     "name": "stdout",
     "output_type": "stream",
     "text": [
      "[[1404   61]\n",
      " [ 373 1678]]\n"
     ]
    }
   ],
   "source": [
    "y_pred_3 = bowclassifier_3.predict(X_test)\n",
    "cm_3 = confusion_matrix(y_test, y_pred_3)\n",
    "print(cm_3)"
   ]
  },
  {
   "cell_type": "code",
   "execution_count": 78,
   "metadata": {},
   "outputs": [
    {
     "name": "stdout",
     "output_type": "stream",
     "text": [
      "             precision    recall  f1-score   support\n",
      "\n",
      "          0       0.79      0.96      0.87      1465\n",
      "          1       0.96      0.82      0.89      2051\n",
      "\n",
      "avg / total       0.89      0.88      0.88      3516\n",
      "\n"
     ]
    }
   ],
   "source": [
    "print(classification_report(y_pred=y_pred_3,y_true=y_test))"
   ]
  },
  {
   "cell_type": "code",
   "execution_count": 79,
   "metadata": {},
   "outputs": [
    {
     "name": "stdout",
     "output_type": "stream",
     "text": [
      "Accuracy = 85.60864618885097%\n"
     ]
    }
   ],
   "source": [
    "print(\"Accuracy = {}%\".format((3010/3516)*100))"
   ]
  },
  {
   "cell_type": "markdown",
   "metadata": {},
   "source": [
    "# Tf-Idf"
   ]
  },
  {
   "cell_type": "markdown",
   "metadata": {},
   "source": [
    "## tf-Idf with Naive Baise"
   ]
  },
  {
   "cell_type": "code",
   "execution_count": 80,
   "metadata": {},
   "outputs": [],
   "source": [
    "from sklearn.feature_extraction.text import TfidfVectorizer"
   ]
  },
  {
   "cell_type": "code",
   "execution_count": 81,
   "metadata": {},
   "outputs": [],
   "source": [
    "tv =TfidfVectorizer()"
   ]
  },
  {
   "cell_type": "code",
   "execution_count": 82,
   "metadata": {},
   "outputs": [],
   "source": [
    "X2 = tv.fit_transform(corpus)\n"
   ]
  },
  {
   "cell_type": "code",
   "execution_count": 83,
   "metadata": {},
   "outputs": [],
   "source": [
    "X2_train, X2_test, y2_train, y2_test = train_test_split(X2, y, test_size = 0.20, random_state = 0)"
   ]
  },
  {
   "cell_type": "code",
   "execution_count": 84,
   "metadata": {},
   "outputs": [
    {
     "data": {
      "text/plain": [
       "(14062, 22461)"
      ]
     },
     "execution_count": 84,
     "metadata": {},
     "output_type": "execute_result"
    }
   ],
   "source": [
    "X2_train.shape"
   ]
  },
  {
   "cell_type": "code",
   "execution_count": 85,
   "metadata": {},
   "outputs": [
    {
     "data": {
      "text/plain": [
       "MultinomialNB(alpha=1.0, class_prior=None, fit_prior=True)"
      ]
     },
     "execution_count": 85,
     "metadata": {},
     "output_type": "execute_result"
    }
   ],
   "source": [
    "tfclassifier1 = MultinomialNB()\n",
    "tfclassifier1.fit(X2_train, y2_train)"
   ]
  },
  {
   "cell_type": "code",
   "execution_count": 86,
   "metadata": {},
   "outputs": [],
   "source": [
    "y_tf_pred1= tfclassifier1.predict(X2_test)"
   ]
  },
  {
   "cell_type": "code",
   "execution_count": 87,
   "metadata": {},
   "outputs": [
    {
     "name": "stdout",
     "output_type": "stream",
     "text": [
      "[[1192  273]\n",
      " [ 208 1843]]\n"
     ]
    }
   ],
   "source": [
    "cm_tf_1 = confusion_matrix(y_test, y_tf_pred1)\n",
    "print(cm_tf_1)"
   ]
  },
  {
   "cell_type": "code",
   "execution_count": 88,
   "metadata": {},
   "outputs": [
    {
     "name": "stdout",
     "output_type": "stream",
     "text": [
      "             precision    recall  f1-score   support\n",
      "\n",
      "          0       0.85      0.81      0.83      1465\n",
      "          1       0.87      0.90      0.88      2051\n",
      "\n",
      "avg / total       0.86      0.86      0.86      3516\n",
      "\n"
     ]
    }
   ],
   "source": [
    "print(classification_report(y2_test,y_tf_pred1))"
   ]
  },
  {
   "cell_type": "code",
   "execution_count": 89,
   "metadata": {},
   "outputs": [
    {
     "name": "stdout",
     "output_type": "stream",
     "text": [
      "Accuracy = 86.46188850967008%\n"
     ]
    }
   ],
   "source": [
    "print(\"Accuracy = {}%\".format((3040/3516)*100))"
   ]
  },
  {
   "cell_type": "markdown",
   "metadata": {},
   "source": [
    "# tf-idf with logistic regression"
   ]
  },
  {
   "cell_type": "code",
   "execution_count": 90,
   "metadata": {},
   "outputs": [],
   "source": [
    "tfclassifier2 = LogisticRegression()"
   ]
  },
  {
   "cell_type": "code",
   "execution_count": 91,
   "metadata": {},
   "outputs": [
    {
     "data": {
      "text/plain": [
       "LogisticRegression(C=1.0, class_weight=None, dual=False, fit_intercept=True,\n",
       "          intercept_scaling=1, max_iter=100, multi_class='ovr', n_jobs=1,\n",
       "          penalty='l2', random_state=None, solver='liblinear', tol=0.0001,\n",
       "          verbose=0, warm_start=False)"
      ]
     },
     "execution_count": 91,
     "metadata": {},
     "output_type": "execute_result"
    }
   ],
   "source": [
    "tfclassifier2.fit(X2_train,y2_train)"
   ]
  },
  {
   "cell_type": "code",
   "execution_count": 92,
   "metadata": {},
   "outputs": [],
   "source": [
    "y_tf_pred2 = tfclassifier2.predict(X2_test)"
   ]
  },
  {
   "cell_type": "code",
   "execution_count": 93,
   "metadata": {},
   "outputs": [],
   "source": [
    "cm_tf_2 = confusion_matrix(y_test,y_tf_pred2)"
   ]
  },
  {
   "cell_type": "code",
   "execution_count": 94,
   "metadata": {},
   "outputs": [
    {
     "name": "stdout",
     "output_type": "stream",
     "text": [
      "[[1225  240]\n",
      " [ 119 1932]]\n"
     ]
    }
   ],
   "source": [
    "print(cm_tf_2)"
   ]
  },
  {
   "cell_type": "code",
   "execution_count": 95,
   "metadata": {},
   "outputs": [
    {
     "name": "stdout",
     "output_type": "stream",
     "text": [
      "             precision    recall  f1-score   support\n",
      "\n",
      "          0       0.91      0.84      0.87      1465\n",
      "          1       0.89      0.94      0.91      2051\n",
      "\n",
      "avg / total       0.90      0.90      0.90      3516\n",
      "\n"
     ]
    }
   ],
   "source": [
    "print(classification_report(y_test,y_tf_pred2))"
   ]
  },
  {
   "cell_type": "code",
   "execution_count": 96,
   "metadata": {},
   "outputs": [
    {
     "name": "stdout",
     "output_type": "stream",
     "text": [
      "Accuracy = 89.96018202502844%\n"
     ]
    }
   ],
   "source": [
    "print(\"Accuracy = {}%\".format((3163/3516)*100))"
   ]
  },
  {
   "cell_type": "markdown",
   "metadata": {},
   "source": [
    "## tf-idf with  RandomForest "
   ]
  },
  {
   "cell_type": "code",
   "execution_count": 97,
   "metadata": {},
   "outputs": [],
   "source": [
    "tfclassifier3 = RandomForestClassifier()\n",
    "tfclassifier3.fit(X2_train,y2_train)\n",
    "y_tf_pred3 = tfclassifier3.predict(X2_test)"
   ]
  },
  {
   "cell_type": "code",
   "execution_count": 98,
   "metadata": {},
   "outputs": [
    {
     "name": "stdout",
     "output_type": "stream",
     "text": [
      "[[1401   64]\n",
      " [ 357 1694]]\n"
     ]
    }
   ],
   "source": [
    "print(confusion_matrix(y_test,y_tf_pred3))"
   ]
  },
  {
   "cell_type": "code",
   "execution_count": 99,
   "metadata": {},
   "outputs": [
    {
     "name": "stdout",
     "output_type": "stream",
     "text": [
      "             precision    recall  f1-score   support\n",
      "\n",
      "          0       0.80      0.96      0.87      1465\n",
      "          1       0.96      0.83      0.89      2051\n",
      "\n",
      "avg / total       0.89      0.88      0.88      3516\n",
      "\n"
     ]
    }
   ],
   "source": [
    "print(classification_report(y_test,y_tf_pred3))"
   ]
  },
  {
   "cell_type": "code",
   "execution_count": 100,
   "metadata": {},
   "outputs": [
    {
     "name": "stdout",
     "output_type": "stream",
     "text": [
      "Accuracy = 87.94084186575654%\n"
     ]
    }
   ],
   "source": [
    "print(\"Accuracy = {}%\".format((3092/3516)*100))"
   ]
  },
  {
   "cell_type": "code",
   "execution_count": null,
   "metadata": {},
   "outputs": [],
   "source": []
  },
  {
   "cell_type": "markdown",
   "metadata": {},
   "source": [
    "# N-gram tf-Idf"
   ]
  },
  {
   "cell_type": "markdown",
   "metadata": {},
   "source": [
    "## n-gram tfidf with naive bayse"
   ]
  },
  {
   "cell_type": "code",
   "execution_count": 101,
   "metadata": {},
   "outputs": [],
   "source": [
    "tvf = TfidfVectorizer(ngram_range=((2, 2)),max_features=5000)\n",
    "X3 = tvf.fit_transform(corpus)\n",
    "X3_train, X3_test, y3_train, y3_test = train_test_split(X3, y, test_size = 0.20, random_state = 0)"
   ]
  },
  {
   "cell_type": "code",
   "execution_count": 102,
   "metadata": {},
   "outputs": [],
   "source": [
    "ngclassifier1 = MultinomialNB()\n",
    "ngclassifier1.fit(X3_train, y3_train)\n",
    "y_ng_pred1 = ngclassifier1.predict(X3_test)\n"
   ]
  },
  {
   "cell_type": "code",
   "execution_count": 103,
   "metadata": {},
   "outputs": [
    {
     "name": "stdout",
     "output_type": "stream",
     "text": [
      "             precision    recall  f1-score   support\n",
      "\n",
      "          0       0.90      0.65      0.76      1465\n",
      "          1       0.79      0.95      0.86      2051\n",
      "\n",
      "avg / total       0.84      0.83      0.82      3516\n",
      "\n"
     ]
    }
   ],
   "source": [
    "print(classification_report(y_test,y_ng_pred1))"
   ]
  },
  {
   "cell_type": "code",
   "execution_count": 104,
   "metadata": {},
   "outputs": [
    {
     "name": "stdout",
     "output_type": "stream",
     "text": [
      "[[ 952  513]\n",
      " [ 100 1951]]\n"
     ]
    }
   ],
   "source": [
    "print(confusion_matrix(y_test,y_ng_pred1))"
   ]
  },
  {
   "cell_type": "code",
   "execution_count": 105,
   "metadata": {},
   "outputs": [
    {
     "name": "stdout",
     "output_type": "stream",
     "text": [
      "accuracy : 81.5415244596132%\n"
     ]
    }
   ],
   "source": [
    "print('accuracy : {}%'.format(((1000+1867)/3516)*100))"
   ]
  },
  {
   "cell_type": "markdown",
   "metadata": {},
   "source": [
    "## ngram tfidf with logistic regression"
   ]
  },
  {
   "cell_type": "code",
   "execution_count": 106,
   "metadata": {},
   "outputs": [],
   "source": [
    "ngclassifier2 = LogisticRegression(C=10,)\n",
    "ngclassifier2.fit(X3_train, y3_train)\n",
    "y_ng_pred2 = ngclassifier2.predict(X3_test)\n"
   ]
  },
  {
   "cell_type": "code",
   "execution_count": 107,
   "metadata": {},
   "outputs": [
    {
     "name": "stdout",
     "output_type": "stream",
     "text": [
      "             precision    recall  f1-score   support\n",
      "\n",
      "          0       0.88      0.71      0.79      1465\n",
      "          1       0.82      0.93      0.87      2051\n",
      "\n",
      "avg / total       0.84      0.84      0.84      3516\n",
      "\n"
     ]
    }
   ],
   "source": [
    "print(classification_report(y_test,y_ng_pred2))"
   ]
  },
  {
   "cell_type": "code",
   "execution_count": 108,
   "metadata": {},
   "outputs": [
    {
     "data": {
      "text/plain": [
       "array([[1044,  421],\n",
       "       [ 143, 1908]], dtype=int64)"
      ]
     },
     "execution_count": 108,
     "metadata": {},
     "output_type": "execute_result"
    }
   ],
   "source": [
    "confusion_matrix(y_test,y_ng_pred2)"
   ]
  },
  {
   "cell_type": "code",
   "execution_count": 109,
   "metadata": {},
   "outputs": [
    {
     "name": "stdout",
     "output_type": "stream",
     "text": [
      "Accuracy = 84.64163822525597%\n"
     ]
    }
   ],
   "source": [
    "print(\"Accuracy = {}%\".format((2976/3516)*100))"
   ]
  },
  {
   "cell_type": "markdown",
   "metadata": {},
   "source": [
    "## ngram tfidf with Random Forest"
   ]
  },
  {
   "cell_type": "code",
   "execution_count": 110,
   "metadata": {},
   "outputs": [],
   "source": [
    "ngclassifier3 = RandomForestClassifier()\n",
    "ngclassifier3.fit(X3_train, y3_train)\n",
    "y_ng_pred3 = ngclassifier3.predict(X3_test)\n"
   ]
  },
  {
   "cell_type": "code",
   "execution_count": 111,
   "metadata": {},
   "outputs": [
    {
     "name": "stdout",
     "output_type": "stream",
     "text": [
      "             precision    recall  f1-score   support\n",
      "\n",
      "          0       0.88      0.71      0.79      1465\n",
      "          1       0.82      0.93      0.87      2051\n",
      "\n",
      "avg / total       0.84      0.84      0.84      3516\n",
      "\n"
     ]
    }
   ],
   "source": [
    "print(classification_report(y_test,y_ng_pred2))"
   ]
  },
  {
   "cell_type": "code",
   "execution_count": 112,
   "metadata": {},
   "outputs": [
    {
     "name": "stdout",
     "output_type": "stream",
     "text": [
      "[[1026  439]\n",
      " [ 145 1906]]\n"
     ]
    }
   ],
   "source": [
    "print(confusion_matrix(y_test,y_ng_pred3))"
   ]
  },
  {
   "cell_type": "code",
   "execution_count": 113,
   "metadata": {},
   "outputs": [
    {
     "name": "stdout",
     "output_type": "stream",
     "text": [
      "Accuracy = 87.8839590443686%\n"
     ]
    }
   ],
   "source": [
    "print(\"Accuracy = {}%\".format((3090/3516)*100))"
   ]
  },
  {
   "cell_type": "markdown",
   "metadata": {},
   "source": [
    "# Char Tf-Idf"
   ]
  },
  {
   "cell_type": "code",
   "execution_count": 114,
   "metadata": {},
   "outputs": [],
   "source": [
    "ctf = TfidfVectorizer(ngram_range=((2, 3)),analyzer='char',max_features=5000)\n",
    "X4 = tvf.fit_transform(corpus)\n",
    "X4_train, X4_test, y4_train, y4_test = train_test_split(X4, y, test_size = 0.20, random_state = 0)"
   ]
  },
  {
   "cell_type": "markdown",
   "metadata": {},
   "source": [
    "## Char tfidf with Naive Bayes"
   ]
  },
  {
   "cell_type": "code",
   "execution_count": 115,
   "metadata": {},
   "outputs": [],
   "source": [
    "ctfclassifier1 = MultinomialNB()\n",
    "ctfclassifier1.fit(X4_train, y4_train)\n",
    "y_ctf_pred1 = ctfclassifier1.predict(X4_test)"
   ]
  },
  {
   "cell_type": "code",
   "execution_count": 116,
   "metadata": {},
   "outputs": [
    {
     "name": "stdout",
     "output_type": "stream",
     "text": [
      "             precision    recall  f1-score   support\n",
      "\n",
      "          0       0.90      0.65      0.76      1465\n",
      "          1       0.79      0.95      0.86      2051\n",
      "\n",
      "avg / total       0.84      0.83      0.82      3516\n",
      "\n"
     ]
    }
   ],
   "source": [
    "print(classification_report(y_test,y_ctf_pred1))"
   ]
  },
  {
   "cell_type": "code",
   "execution_count": 117,
   "metadata": {},
   "outputs": [
    {
     "name": "stdout",
     "output_type": "stream",
     "text": [
      "[[ 952  513]\n",
      " [ 100 1951]]\n"
     ]
    }
   ],
   "source": [
    "print(confusion_matrix(y4_test,y_ctf_pred1))"
   ]
  },
  {
   "cell_type": "code",
   "execution_count": 118,
   "metadata": {},
   "outputs": [
    {
     "name": "stdout",
     "output_type": "stream",
     "text": [
      "Accuracy = 82.96359499431172%\n"
     ]
    }
   ],
   "source": [
    "print(\"Accuracy = {}%\".format((2917/3516)*100))"
   ]
  },
  {
   "cell_type": "markdown",
   "metadata": {},
   "source": [
    "## char tfidf with logistic regression"
   ]
  },
  {
   "cell_type": "code",
   "execution_count": 119,
   "metadata": {},
   "outputs": [],
   "source": [
    "ctfclassifier2 = LogisticRegression(C=25)\n",
    "ctfclassifier2.fit(X4_train, y4_train)\n",
    "y_ctf_pred2 = ctfclassifier2.predict(X4_test)"
   ]
  },
  {
   "cell_type": "code",
   "execution_count": 120,
   "metadata": {},
   "outputs": [
    {
     "name": "stdout",
     "output_type": "stream",
     "text": [
      "             precision    recall  f1-score   support\n",
      "\n",
      "          0       0.87      0.72      0.79      1465\n",
      "          1       0.82      0.93      0.87      2051\n",
      "\n",
      "avg / total       0.84      0.84      0.84      3516\n",
      "\n"
     ]
    }
   ],
   "source": [
    "print(classification_report(y_test,y_ctf_pred2))"
   ]
  },
  {
   "cell_type": "code",
   "execution_count": 121,
   "metadata": {},
   "outputs": [
    {
     "name": "stdout",
     "output_type": "stream",
     "text": [
      "[[1053  412]\n",
      " [ 152 1899]]\n"
     ]
    }
   ],
   "source": [
    "print(confusion_matrix(y4_test,y_ctf_pred2))"
   ]
  },
  {
   "cell_type": "code",
   "execution_count": 122,
   "metadata": {},
   "outputs": [
    {
     "name": "stdout",
     "output_type": "stream",
     "text": [
      "Accuracy = 84.35722411831627%\n"
     ]
    }
   ],
   "source": [
    "print(\"Accuracy = {}%\".format((2966/3516)*100))"
   ]
  },
  {
   "cell_type": "markdown",
   "metadata": {},
   "source": [
    "## chartfidf with Random Forest"
   ]
  },
  {
   "cell_type": "code",
   "execution_count": 123,
   "metadata": {},
   "outputs": [],
   "source": [
    "ctfclassifier3 = RandomForestClassifier()\n",
    "ctfclassifier3.fit(X4_train, y4_train)\n",
    "y_ctf_pred3 = ctfclassifier3.predict(X4_test)"
   ]
  },
  {
   "cell_type": "code",
   "execution_count": 124,
   "metadata": {},
   "outputs": [
    {
     "name": "stdout",
     "output_type": "stream",
     "text": [
      "             precision    recall  f1-score   support\n",
      "\n",
      "          0       0.88      0.69      0.78      1465\n",
      "          1       0.81      0.94      0.87      2051\n",
      "\n",
      "avg / total       0.84      0.83      0.83      3516\n",
      "\n"
     ]
    }
   ],
   "source": [
    "print(classification_report(y_test,y_ctf_pred3))"
   ]
  },
  {
   "cell_type": "code",
   "execution_count": 125,
   "metadata": {},
   "outputs": [
    {
     "name": "stdout",
     "output_type": "stream",
     "text": [
      "[[1017  448]\n",
      " [ 133 1918]]\n"
     ]
    }
   ],
   "source": [
    "print(confusion_matrix(y4_test,y_ctf_pred3))"
   ]
  },
  {
   "cell_type": "code",
   "execution_count": 126,
   "metadata": {},
   "outputs": [
    {
     "name": "stdout",
     "output_type": "stream",
     "text": [
      "Accuracy = 84.58475540386803%\n"
     ]
    }
   ],
   "source": [
    "print(\"Accuracy = {}%\".format((2974/3516)*100))"
   ]
  },
  {
   "cell_type": "code",
   "execution_count": null,
   "metadata": {},
   "outputs": [],
   "source": []
  },
  {
   "cell_type": "code",
   "execution_count": null,
   "metadata": {},
   "outputs": [],
   "source": []
  }
 ],
 "metadata": {
  "kernelspec": {
   "display_name": "Python 3",
   "language": "python",
   "name": "python3"
  },
  "language_info": {
   "codemirror_mode": {
    "name": "ipython",
    "version": 3
   },
   "file_extension": ".py",
   "mimetype": "text/x-python",
   "name": "python",
   "nbconvert_exporter": "python",
   "pygments_lexer": "ipython3",
   "version": "3.6.5"
  }
 },
 "nbformat": 4,
 "nbformat_minor": 2
}
