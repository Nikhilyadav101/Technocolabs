{
 "cells": [
  {
   "cell_type": "code",
   "execution_count": 1,
   "metadata": {},
   "outputs": [],
   "source": [
    "#importing some essential libraries\n",
    "import pandas as pd\n",
    "import numpy as np\n",
    "import matplotlib.pyplot as plt\n",
    "import seaborn as sns\n",
    "%matplotlib inline"
   ]
  },
  {
   "cell_type": "code",
   "execution_count": 2,
   "metadata": {},
   "outputs": [],
   "source": [
    "#importing the datasets\n",
    "data1 = pd.read_csv('IRAhandle_tweets_1.csv')\n",
    "data2 = pd.read_csv('IRAhandle_tweets_2.csv')\n",
    "data3 = pd.read_csv('IRAhandle_tweets_3.csv')\n",
    "data4 = pd.read_csv('IRAhandle_tweets_4.csv')\n",
    "data5 = pd.read_csv('IRAhandle_tweets_5.csv')\n",
    "data6 = pd.read_csv('IRAhandle_tweets_6.csv')\n",
    "data7 = pd.read_csv('IRAhandle_tweets_7.csv')\n",
    "data8 = pd.read_csv('IRAhandle_tweets_8.csv')\n",
    "data9 = pd.read_csv('IRAhandle_tweets_9.csv')"
   ]
  },
  {
   "cell_type": "markdown",
   "metadata": {},
   "source": [
    "# Data Preparation"
   ]
  },
  {
   "cell_type": "code",
   "execution_count": 3,
   "metadata": {},
   "outputs": [],
   "source": [
    "#concatinating all the dataset to one\n",
    "troll_data = pd.concat([data1,data2,data3,data4,data5,data6,data7,data8,data9],axis=0)"
   ]
  },
  {
   "cell_type": "code",
   "execution_count": 4,
   "metadata": {},
   "outputs": [
    {
     "data": {
      "text/plain": [
       "(2973371, 15)"
      ]
     },
     "execution_count": 4,
     "metadata": {},
     "output_type": "execute_result"
    }
   ],
   "source": [
    "#checking its shape\n",
    "troll_data.shape"
   ]
  },
  {
   "cell_type": "markdown",
   "metadata": {},
   "source": [
    "."
   ]
  },
  {
   "cell_type": "code",
   "execution_count": 5,
   "metadata": {
    "scrolled": true
   },
   "outputs": [
    {
     "data": {
      "text/html": [
       "<div>\n",
       "<style scoped>\n",
       "    .dataframe tbody tr th:only-of-type {\n",
       "        vertical-align: middle;\n",
       "    }\n",
       "\n",
       "    .dataframe tbody tr th {\n",
       "        vertical-align: top;\n",
       "    }\n",
       "\n",
       "    .dataframe thead th {\n",
       "        text-align: right;\n",
       "    }\n",
       "</style>\n",
       "<table border=\"1\" class=\"dataframe\">\n",
       "  <thead>\n",
       "    <tr style=\"text-align: right;\">\n",
       "      <th></th>\n",
       "      <th>external_author_id</th>\n",
       "      <th>author</th>\n",
       "      <th>content</th>\n",
       "      <th>region</th>\n",
       "      <th>language</th>\n",
       "      <th>publish_date</th>\n",
       "      <th>harvested_date</th>\n",
       "      <th>following</th>\n",
       "      <th>followers</th>\n",
       "      <th>updates</th>\n",
       "      <th>post_type</th>\n",
       "      <th>account_type</th>\n",
       "      <th>new_june_2018</th>\n",
       "      <th>retweet</th>\n",
       "      <th>account_category</th>\n",
       "    </tr>\n",
       "  </thead>\n",
       "  <tbody>\n",
       "    <tr>\n",
       "      <th>0</th>\n",
       "      <td>9.060000e+17</td>\n",
       "      <td>10_GOP</td>\n",
       "      <td>\"We have a sitting Democrat US Senator on tria...</td>\n",
       "      <td>Unknown</td>\n",
       "      <td>English</td>\n",
       "      <td>10/1/2017 19:58</td>\n",
       "      <td>10/1/2017 19:59</td>\n",
       "      <td>1052</td>\n",
       "      <td>9636</td>\n",
       "      <td>253</td>\n",
       "      <td>NaN</td>\n",
       "      <td>Right</td>\n",
       "      <td>0</td>\n",
       "      <td>0</td>\n",
       "      <td>RightTroll</td>\n",
       "    </tr>\n",
       "    <tr>\n",
       "      <th>1</th>\n",
       "      <td>9.060000e+17</td>\n",
       "      <td>10_GOP</td>\n",
       "      <td>Marshawn Lynch arrives to game in anti-Trump s...</td>\n",
       "      <td>Unknown</td>\n",
       "      <td>English</td>\n",
       "      <td>10/1/2017 22:43</td>\n",
       "      <td>10/1/2017 22:43</td>\n",
       "      <td>1054</td>\n",
       "      <td>9637</td>\n",
       "      <td>254</td>\n",
       "      <td>NaN</td>\n",
       "      <td>Right</td>\n",
       "      <td>0</td>\n",
       "      <td>0</td>\n",
       "      <td>RightTroll</td>\n",
       "    </tr>\n",
       "    <tr>\n",
       "      <th>2</th>\n",
       "      <td>9.060000e+17</td>\n",
       "      <td>10_GOP</td>\n",
       "      <td>Daughter of fallen Navy Sailor delivers powerf...</td>\n",
       "      <td>Unknown</td>\n",
       "      <td>English</td>\n",
       "      <td>10/1/2017 22:50</td>\n",
       "      <td>10/1/2017 22:51</td>\n",
       "      <td>1054</td>\n",
       "      <td>9637</td>\n",
       "      <td>255</td>\n",
       "      <td>RETWEET</td>\n",
       "      <td>Right</td>\n",
       "      <td>0</td>\n",
       "      <td>1</td>\n",
       "      <td>RightTroll</td>\n",
       "    </tr>\n",
       "  </tbody>\n",
       "</table>\n",
       "</div>"
      ],
      "text/plain": [
       "   external_author_id  author  \\\n",
       "0        9.060000e+17  10_GOP   \n",
       "1        9.060000e+17  10_GOP   \n",
       "2        9.060000e+17  10_GOP   \n",
       "\n",
       "                                             content   region language  \\\n",
       "0  \"We have a sitting Democrat US Senator on tria...  Unknown  English   \n",
       "1  Marshawn Lynch arrives to game in anti-Trump s...  Unknown  English   \n",
       "2  Daughter of fallen Navy Sailor delivers powerf...  Unknown  English   \n",
       "\n",
       "      publish_date   harvested_date  following  followers  updates post_type  \\\n",
       "0  10/1/2017 19:58  10/1/2017 19:59       1052       9636      253       NaN   \n",
       "1  10/1/2017 22:43  10/1/2017 22:43       1054       9637      254       NaN   \n",
       "2  10/1/2017 22:50  10/1/2017 22:51       1054       9637      255   RETWEET   \n",
       "\n",
       "  account_type  new_june_2018  retweet account_category  \n",
       "0        Right              0        0       RightTroll  \n",
       "1        Right              0        0       RightTroll  \n",
       "2        Right              0        1       RightTroll  "
      ]
     },
     "execution_count": 5,
     "metadata": {},
     "output_type": "execute_result"
    }
   ],
   "source": [
    "#viewing our data\n",
    "troll_data.head(3)"
   ]
  },
  {
   "cell_type": "code",
   "execution_count": 6,
   "metadata": {},
   "outputs": [
    {
     "data": {
      "text/plain": [
       "post_type             1662425\n",
       "region                   8843\n",
       "account_type              363\n",
       "external_author_id          4\n",
       "content                     1\n",
       "account_category            0\n",
       "retweet                     0\n",
       "new_june_2018               0\n",
       "updates                     0\n",
       "followers                   0\n",
       "following                   0\n",
       "harvested_date              0\n",
       "publish_date                0\n",
       "language                    0\n",
       "author                      0\n",
       "dtype: int64"
      ]
     },
     "execution_count": 6,
     "metadata": {},
     "output_type": "execute_result"
    }
   ],
   "source": [
    "#checking for some null values\n",
    "\n",
    "troll_data.isnull().sum().sort_values(ascending = False)"
   ]
  },
  {
   "cell_type": "code",
   "execution_count": 7,
   "metadata": {},
   "outputs": [
    {
     "data": {
      "text/plain": [
       "2848"
      ]
     },
     "execution_count": 7,
     "metadata": {},
     "output_type": "execute_result"
    }
   ],
   "source": [
    "#lets check number of unique authors are there\n",
    "\n",
    "len(troll_data.author.unique())\n"
   ]
  },
  {
   "cell_type": "code",
   "execution_count": 8,
   "metadata": {},
   "outputs": [
    {
     "data": {
      "text/plain": [
       "post_type             1662424\n",
       "region                   8843\n",
       "account_type              363\n",
       "external_author_id          4\n",
       "account_category            0\n",
       "retweet                     0\n",
       "new_june_2018               0\n",
       "updates                     0\n",
       "followers                   0\n",
       "following                   0\n",
       "harvested_date              0\n",
       "publish_date                0\n",
       "language                    0\n",
       "content                     0\n",
       "author                      0\n",
       "dtype: int64"
      ]
     },
     "execution_count": 8,
     "metadata": {},
     "output_type": "execute_result"
    }
   ],
   "source": [
    "#Since we have use to the content so lets remove the null value of content\n",
    "\n",
    "troll_data.dropna(subset= ['content'],inplace=True)\n",
    "\n",
    "#again checking for NAN\n",
    "troll_data.isnull().sum().sort_values(ascending = False)\n"
   ]
  },
  {
   "cell_type": "code",
   "execution_count": 9,
   "metadata": {},
   "outputs": [
    {
     "name": "stdout",
     "output_type": "stream",
     "text": [
      "<class 'pandas.core.frame.DataFrame'>\n",
      "Int64Index: 2973370 entries, 0 to 37554\n",
      "Data columns (total 15 columns):\n",
      "external_author_id    float64\n",
      "author                object\n",
      "content               object\n",
      "region                object\n",
      "language              object\n",
      "publish_date          object\n",
      "harvested_date        object\n",
      "following             int64\n",
      "followers             int64\n",
      "updates               int64\n",
      "post_type             object\n",
      "account_type          object\n",
      "new_june_2018         int64\n",
      "retweet               int64\n",
      "account_category      object\n",
      "dtypes: float64(1), int64(5), object(9)\n",
      "memory usage: 363.0+ MB\n"
     ]
    }
   ],
   "source": [
    "#look at the types of data included in each field.\n",
    "\n",
    "troll_data.info()"
   ]
  },
  {
   "cell_type": "code",
   "execution_count": 10,
   "metadata": {},
   "outputs": [],
   "source": [
    "#removing some columns with are not usefull for data preparation\n",
    "troll_data.drop(labels=['external_author_id', 'harvested_date'],axis=1,inplace=True) "
   ]
  },
  {
   "cell_type": "code",
   "execution_count": 11,
   "metadata": {},
   "outputs": [],
   "source": [
    "#checking the data\n",
    "troll_data.drop(labels = ['author'],axis=1,inplace = True)"
   ]
  },
  {
   "cell_type": "code",
   "execution_count": 12,
   "metadata": {},
   "outputs": [
    {
     "data": {
      "text/html": [
       "<div>\n",
       "<style scoped>\n",
       "    .dataframe tbody tr th:only-of-type {\n",
       "        vertical-align: middle;\n",
       "    }\n",
       "\n",
       "    .dataframe tbody tr th {\n",
       "        vertical-align: top;\n",
       "    }\n",
       "\n",
       "    .dataframe thead th {\n",
       "        text-align: right;\n",
       "    }\n",
       "</style>\n",
       "<table border=\"1\" class=\"dataframe\">\n",
       "  <thead>\n",
       "    <tr style=\"text-align: right;\">\n",
       "      <th></th>\n",
       "      <th>content</th>\n",
       "      <th>region</th>\n",
       "      <th>language</th>\n",
       "      <th>publish_date</th>\n",
       "      <th>following</th>\n",
       "      <th>followers</th>\n",
       "      <th>updates</th>\n",
       "      <th>post_type</th>\n",
       "      <th>account_type</th>\n",
       "      <th>new_june_2018</th>\n",
       "      <th>retweet</th>\n",
       "      <th>account_category</th>\n",
       "    </tr>\n",
       "  </thead>\n",
       "  <tbody>\n",
       "    <tr>\n",
       "      <th>0</th>\n",
       "      <td>\"We have a sitting Democrat US Senator on tria...</td>\n",
       "      <td>Unknown</td>\n",
       "      <td>English</td>\n",
       "      <td>10/1/2017 19:58</td>\n",
       "      <td>1052</td>\n",
       "      <td>9636</td>\n",
       "      <td>253</td>\n",
       "      <td>NaN</td>\n",
       "      <td>Right</td>\n",
       "      <td>0</td>\n",
       "      <td>0</td>\n",
       "      <td>RightTroll</td>\n",
       "    </tr>\n",
       "    <tr>\n",
       "      <th>1</th>\n",
       "      <td>Marshawn Lynch arrives to game in anti-Trump s...</td>\n",
       "      <td>Unknown</td>\n",
       "      <td>English</td>\n",
       "      <td>10/1/2017 22:43</td>\n",
       "      <td>1054</td>\n",
       "      <td>9637</td>\n",
       "      <td>254</td>\n",
       "      <td>NaN</td>\n",
       "      <td>Right</td>\n",
       "      <td>0</td>\n",
       "      <td>0</td>\n",
       "      <td>RightTroll</td>\n",
       "    </tr>\n",
       "    <tr>\n",
       "      <th>2</th>\n",
       "      <td>Daughter of fallen Navy Sailor delivers powerf...</td>\n",
       "      <td>Unknown</td>\n",
       "      <td>English</td>\n",
       "      <td>10/1/2017 22:50</td>\n",
       "      <td>1054</td>\n",
       "      <td>9637</td>\n",
       "      <td>255</td>\n",
       "      <td>RETWEET</td>\n",
       "      <td>Right</td>\n",
       "      <td>0</td>\n",
       "      <td>1</td>\n",
       "      <td>RightTroll</td>\n",
       "    </tr>\n",
       "    <tr>\n",
       "      <th>3</th>\n",
       "      <td>JUST IN: President Trump dedicates Presidents ...</td>\n",
       "      <td>Unknown</td>\n",
       "      <td>English</td>\n",
       "      <td>10/1/2017 23:52</td>\n",
       "      <td>1062</td>\n",
       "      <td>9642</td>\n",
       "      <td>256</td>\n",
       "      <td>NaN</td>\n",
       "      <td>Right</td>\n",
       "      <td>0</td>\n",
       "      <td>0</td>\n",
       "      <td>RightTroll</td>\n",
       "    </tr>\n",
       "    <tr>\n",
       "      <th>4</th>\n",
       "      <td>19,000 RESPECTING our National Anthem! #StandF...</td>\n",
       "      <td>Unknown</td>\n",
       "      <td>English</td>\n",
       "      <td>10/1/2017 2:13</td>\n",
       "      <td>1050</td>\n",
       "      <td>9645</td>\n",
       "      <td>246</td>\n",
       "      <td>RETWEET</td>\n",
       "      <td>Right</td>\n",
       "      <td>0</td>\n",
       "      <td>1</td>\n",
       "      <td>RightTroll</td>\n",
       "    </tr>\n",
       "  </tbody>\n",
       "</table>\n",
       "</div>"
      ],
      "text/plain": [
       "                                             content   region language  \\\n",
       "0  \"We have a sitting Democrat US Senator on tria...  Unknown  English   \n",
       "1  Marshawn Lynch arrives to game in anti-Trump s...  Unknown  English   \n",
       "2  Daughter of fallen Navy Sailor delivers powerf...  Unknown  English   \n",
       "3  JUST IN: President Trump dedicates Presidents ...  Unknown  English   \n",
       "4  19,000 RESPECTING our National Anthem! #StandF...  Unknown  English   \n",
       "\n",
       "      publish_date  following  followers  updates post_type account_type  \\\n",
       "0  10/1/2017 19:58       1052       9636      253       NaN        Right   \n",
       "1  10/1/2017 22:43       1054       9637      254       NaN        Right   \n",
       "2  10/1/2017 22:50       1054       9637      255   RETWEET        Right   \n",
       "3  10/1/2017 23:52       1062       9642      256       NaN        Right   \n",
       "4   10/1/2017 2:13       1050       9645      246   RETWEET        Right   \n",
       "\n",
       "   new_june_2018  retweet account_category  \n",
       "0              0        0       RightTroll  \n",
       "1              0        0       RightTroll  \n",
       "2              0        1       RightTroll  \n",
       "3              0        0       RightTroll  \n",
       "4              0        1       RightTroll  "
      ]
     },
     "execution_count": 12,
     "metadata": {},
     "output_type": "execute_result"
    }
   ],
   "source": [
    "#review our data\n",
    "troll_data.head()"
   ]
  },
  {
   "cell_type": "code",
   "execution_count": 13,
   "metadata": {},
   "outputs": [
    {
     "data": {
      "text/plain": [
       "array(['English', 'Russian', 'Serbian', 'Ukrainian', 'Tagalog (Filipino)',\n",
       "       'Albanian', 'Italian', 'Romanian', 'Spanish', 'Catalan', 'German',\n",
       "       'Estonian', 'French', 'Norwegian', 'Vietnamese', 'Dutch', 'Arabic',\n",
       "       'Uzbek', 'Bulgarian', 'Macedonian', 'Farsi (Persian)', 'Turkish',\n",
       "       'LANGUAGE UNDEFINED', 'Czech', 'Somali', 'Lithuanian', 'Croatian',\n",
       "       'Slovak', 'Icelandic', 'Slovenian', 'Japanese', 'Indonesian',\n",
       "       'Pushto', 'Hungarian', 'Finnish', 'Latvian', 'Portuguese',\n",
       "       'Danish', 'Swedish', 'Malay', 'Polish', 'Korean', 'Hebrew', 'Urdu',\n",
       "       'Kurdish', 'Hindi', 'Greek', 'Simplified Chinese', 'Thai',\n",
       "       'Bengali', 'Traditional Chinese', 'Gujarati', 'Kannada', 'Tamil',\n",
       "       'Telugu', 'Malayalam'], dtype=object)"
      ]
     },
     "execution_count": 13,
     "metadata": {},
     "output_type": "execute_result"
    }
   ],
   "source": [
    "troll_data.language.unique()"
   ]
  },
  {
   "cell_type": "code",
   "execution_count": 14,
   "metadata": {},
   "outputs": [],
   "source": [
    "#there are many languages in the data soupdate data to only contain english tweets \n",
    "troll_data = troll_data.loc[troll_data.language=='English']"
   ]
  },
  {
   "cell_type": "code",
   "execution_count": 15,
   "metadata": {},
   "outputs": [],
   "source": [
    "troll_data.drop(['language'],axis=1,inplace = True)"
   ]
  },
  {
   "cell_type": "markdown",
   "metadata": {},
   "source": [
    "After Removing all the null values"
   ]
  },
  {
   "cell_type": "code",
   "execution_count": 16,
   "metadata": {},
   "outputs": [
    {
     "data": {
      "text/plain": [
       "array(['Unknown', 'United States', 'Italy', nan, 'United Arab Emirates',\n",
       "       'Israel', 'Azerbaijan', 'United Kingdom', 'Russian Federation',\n",
       "       'Iraq', 'Germany', 'France', 'Ukraine', 'Serbia', 'Egypt',\n",
       "       'Hong Kong', 'Belarus', 'Malaysia', 'Afghanistan', 'Mexico',\n",
       "       'Canada', 'Iran, Islamic Republic of', 'Greece', 'Czech Republic',\n",
       "       'Finland', 'Latvia', 'Spain', 'Sweden', 'Denmark', 'Switzerland'],\n",
       "      dtype=object)"
      ]
     },
     "execution_count": 16,
     "metadata": {},
     "output_type": "execute_result"
    }
   ],
   "source": [
    "troll_data.region.unique()"
   ]
  },
  {
   "cell_type": "code",
   "execution_count": 17,
   "metadata": {},
   "outputs": [
    {
     "data": {
      "text/plain": [
       "United States                1849686\n",
       "Unknown                       246934\n",
       "United Kingdom                 16664\n",
       "Azerbaijan                      7614\n",
       "Germany                         1285\n",
       "Russian Federation              1146\n",
       "Italy                           1125\n",
       "Canada                           600\n",
       "Belarus                          494\n",
       "Afghanistan                      461\n",
       "Iraq                             459\n",
       "Israel                           409\n",
       "United Arab Emirates             371\n",
       "Ukraine                          231\n",
       "Spain                             72\n",
       "France                            67\n",
       "Egypt                             59\n",
       "Sweden                            43\n",
       "Mexico                            41\n",
       "Iran, Islamic Republic of         20\n",
       "Greece                            14\n",
       "Finland                            8\n",
       "Malaysia                           4\n",
       "Latvia                             3\n",
       "Czech Republic                     2\n",
       "Serbia                             2\n",
       "Hong Kong                          1\n",
       "Denmark                            1\n",
       "Switzerland                        1\n",
       "Name: region, dtype: int64"
      ]
     },
     "execution_count": 17,
     "metadata": {},
     "output_type": "execute_result"
    }
   ],
   "source": [
    "#checking the value count of all the region\n",
    "\n",
    "troll_data.region.value_counts()"
   ]
  },
  {
   "cell_type": "code",
   "execution_count": 18,
   "metadata": {},
   "outputs": [],
   "source": [
    "#about 87% of the region is united state so I'll go with the united state only\n",
    "\n",
    "troll_data = troll_data.loc[troll_data.region=='United States']"
   ]
  },
  {
   "cell_type": "code",
   "execution_count": 19,
   "metadata": {},
   "outputs": [
    {
     "data": {
      "text/html": [
       "<div>\n",
       "<style scoped>\n",
       "    .dataframe tbody tr th:only-of-type {\n",
       "        vertical-align: middle;\n",
       "    }\n",
       "\n",
       "    .dataframe tbody tr th {\n",
       "        vertical-align: top;\n",
       "    }\n",
       "\n",
       "    .dataframe thead th {\n",
       "        text-align: right;\n",
       "    }\n",
       "</style>\n",
       "<table border=\"1\" class=\"dataframe\">\n",
       "  <thead>\n",
       "    <tr style=\"text-align: right;\">\n",
       "      <th></th>\n",
       "      <th>content</th>\n",
       "      <th>region</th>\n",
       "      <th>publish_date</th>\n",
       "      <th>following</th>\n",
       "      <th>followers</th>\n",
       "      <th>updates</th>\n",
       "      <th>post_type</th>\n",
       "      <th>account_type</th>\n",
       "      <th>new_june_2018</th>\n",
       "      <th>retweet</th>\n",
       "      <th>account_category</th>\n",
       "    </tr>\n",
       "  </thead>\n",
       "  <tbody>\n",
       "    <tr>\n",
       "      <th>425</th>\n",
       "      <td>#FoodPoisoning is not a joke! #Walmart #KochFa...</td>\n",
       "      <td>United States</td>\n",
       "      <td>11/26/2015 22:20</td>\n",
       "      <td>48</td>\n",
       "      <td>40</td>\n",
       "      <td>394</td>\n",
       "      <td>RETWEET</td>\n",
       "      <td>Koch</td>\n",
       "      <td>0</td>\n",
       "      <td>1</td>\n",
       "      <td>Fearmonger</td>\n",
       "    </tr>\n",
       "    <tr>\n",
       "      <th>426</th>\n",
       "      <td>Thanks God that #turkey i ate few days ago was...</td>\n",
       "      <td>United States</td>\n",
       "      <td>11/26/2015 22:35</td>\n",
       "      <td>48</td>\n",
       "      <td>40</td>\n",
       "      <td>395</td>\n",
       "      <td>RETWEET</td>\n",
       "      <td>Koch</td>\n",
       "      <td>0</td>\n",
       "      <td>1</td>\n",
       "      <td>Fearmonger</td>\n",
       "    </tr>\n",
       "    <tr>\n",
       "      <th>428</th>\n",
       "      <td>who's got the worst make up ever, don't tell m...</td>\n",
       "      <td>United States</td>\n",
       "      <td>5/25/2015 12:38</td>\n",
       "      <td>59</td>\n",
       "      <td>51</td>\n",
       "      <td>352</td>\n",
       "      <td>NaN</td>\n",
       "      <td>Koch</td>\n",
       "      <td>0</td>\n",
       "      <td>0</td>\n",
       "      <td>Fearmonger</td>\n",
       "    </tr>\n",
       "    <tr>\n",
       "      <th>429</th>\n",
       "      <td>I hurt easy, I just don't show it. You can hur...</td>\n",
       "      <td>United States</td>\n",
       "      <td>5/25/2015 12:38</td>\n",
       "      <td>59</td>\n",
       "      <td>51</td>\n",
       "      <td>354</td>\n",
       "      <td>NaN</td>\n",
       "      <td>Koch</td>\n",
       "      <td>0</td>\n",
       "      <td>0</td>\n",
       "      <td>Fearmonger</td>\n",
       "    </tr>\n",
       "    <tr>\n",
       "      <th>430</th>\n",
       "      <td>« The young are permanently in a state resembl...</td>\n",
       "      <td>United States</td>\n",
       "      <td>5/25/2015 12:39</td>\n",
       "      <td>59</td>\n",
       "      <td>51</td>\n",
       "      <td>356</td>\n",
       "      <td>NaN</td>\n",
       "      <td>Koch</td>\n",
       "      <td>0</td>\n",
       "      <td>0</td>\n",
       "      <td>Fearmonger</td>\n",
       "    </tr>\n",
       "  </tbody>\n",
       "</table>\n",
       "</div>"
      ],
      "text/plain": [
       "                                               content         region  \\\n",
       "425  #FoodPoisoning is not a joke! #Walmart #KochFa...  United States   \n",
       "426  Thanks God that #turkey i ate few days ago was...  United States   \n",
       "428  who's got the worst make up ever, don't tell m...  United States   \n",
       "429  I hurt easy, I just don't show it. You can hur...  United States   \n",
       "430  « The young are permanently in a state resembl...  United States   \n",
       "\n",
       "         publish_date  following  followers  updates post_type account_type  \\\n",
       "425  11/26/2015 22:20         48         40      394   RETWEET         Koch   \n",
       "426  11/26/2015 22:35         48         40      395   RETWEET         Koch   \n",
       "428   5/25/2015 12:38         59         51      352       NaN         Koch   \n",
       "429   5/25/2015 12:38         59         51      354       NaN         Koch   \n",
       "430   5/25/2015 12:39         59         51      356       NaN         Koch   \n",
       "\n",
       "     new_june_2018  retweet account_category  \n",
       "425              0        1       Fearmonger  \n",
       "426              0        1       Fearmonger  \n",
       "428              0        0       Fearmonger  \n",
       "429              0        0       Fearmonger  \n",
       "430              0        0       Fearmonger  "
      ]
     },
     "execution_count": 19,
     "metadata": {},
     "output_type": "execute_result"
    }
   ],
   "source": [
    "#revisiting the null values\n",
    "troll_data.head()"
   ]
  },
  {
   "cell_type": "code",
   "execution_count": 20,
   "metadata": {},
   "outputs": [
    {
     "data": {
      "text/plain": [
       "(1849686, 11)"
      ]
     },
     "execution_count": 20,
     "metadata": {},
     "output_type": "execute_result"
    }
   ],
   "source": [
    "troll_data.shape"
   ]
  },
  {
   "cell_type": "code",
   "execution_count": 21,
   "metadata": {},
   "outputs": [],
   "source": [
    "#loading the negative labelled (real people tweets) data\n",
    "\n",
    "negative_data = pd.read_csv('tweets-2016-10000-textonly.txt',delimiter='\\t')"
   ]
  },
  {
   "cell_type": "code",
   "execution_count": 22,
   "metadata": {},
   "outputs": [
    {
     "data": {
      "text/html": [
       "<div>\n",
       "<style scoped>\n",
       "    .dataframe tbody tr th:only-of-type {\n",
       "        vertical-align: middle;\n",
       "    }\n",
       "\n",
       "    .dataframe tbody tr th {\n",
       "        vertical-align: top;\n",
       "    }\n",
       "\n",
       "    .dataframe thead th {\n",
       "        text-align: right;\n",
       "    }\n",
       "</style>\n",
       "<table border=\"1\" class=\"dataframe\">\n",
       "  <thead>\n",
       "    <tr style=\"text-align: right;\">\n",
       "      <th></th>\n",
       "      <th>Leaked records show Trump may have avoided taxes for 18 years: Washington – Report said that Donald Trump, U.... https://t.co/asoKboXz3V</th>\n",
       "    </tr>\n",
       "  </thead>\n",
       "  <tbody>\n",
       "    <tr>\n",
       "      <th>0</th>\n",
       "      <td>Donald Trump vs. Hillary Clinton Debate Cold O...</td>\n",
       "    </tr>\n",
       "    <tr>\n",
       "      <th>1</th>\n",
       "      <td>@realDonaldTrump The need is to blow off the \"...</td>\n",
       "    </tr>\n",
       "    <tr>\n",
       "      <th>2</th>\n",
       "      <td>US-Medien: Trump zahlte womöglich jahrelang ke...</td>\n",
       "    </tr>\n",
       "    <tr>\n",
       "      <th>3</th>\n",
       "      <td>#amjoy #cnn #msnbc #Trump has 2 words for #dep...</td>\n",
       "    </tr>\n",
       "    <tr>\n",
       "      <th>4</th>\n",
       "      <td>and you people who can't  good old boy loans a...</td>\n",
       "    </tr>\n",
       "  </tbody>\n",
       "</table>\n",
       "</div>"
      ],
      "text/plain": [
       "  Leaked records show Trump may have avoided taxes for 18 years: Washington – Report said that Donald Trump, U.... https://t.co/asoKboXz3V\n",
       "0  Donald Trump vs. Hillary Clinton Debate Cold O...                                                                                      \n",
       "1  @realDonaldTrump The need is to blow off the \"...                                                                                      \n",
       "2  US-Medien: Trump zahlte womöglich jahrelang ke...                                                                                      \n",
       "3  #amjoy #cnn #msnbc #Trump has 2 words for #dep...                                                                                      \n",
       "4  and you people who can't  good old boy loans a...                                                                                      "
      ]
     },
     "execution_count": 22,
     "metadata": {},
     "output_type": "execute_result"
    }
   ],
   "source": [
    "negative_data.head()"
   ]
  },
  {
   "cell_type": "code",
   "execution_count": 23,
   "metadata": {},
   "outputs": [],
   "source": [
    "\n",
    "negative_data.rename(columns={\"Leaked records show Trump may have avoided taxes for 18 years: Washington – Report said that Donald Trump, U.... https://t.co/asoKboXz3V\" : \"content\"},inplace=True)"
   ]
  },
  {
   "cell_type": "code",
   "execution_count": 24,
   "metadata": {},
   "outputs": [
    {
     "data": {
      "text/html": [
       "<div>\n",
       "<style scoped>\n",
       "    .dataframe tbody tr th:only-of-type {\n",
       "        vertical-align: middle;\n",
       "    }\n",
       "\n",
       "    .dataframe tbody tr th {\n",
       "        vertical-align: top;\n",
       "    }\n",
       "\n",
       "    .dataframe thead th {\n",
       "        text-align: right;\n",
       "    }\n",
       "</style>\n",
       "<table border=\"1\" class=\"dataframe\">\n",
       "  <thead>\n",
       "    <tr style=\"text-align: right;\">\n",
       "      <th></th>\n",
       "      <th>content</th>\n",
       "    </tr>\n",
       "  </thead>\n",
       "  <tbody>\n",
       "    <tr>\n",
       "      <th>0</th>\n",
       "      <td>Donald Trump vs. Hillary Clinton Debate Cold O...</td>\n",
       "    </tr>\n",
       "    <tr>\n",
       "      <th>1</th>\n",
       "      <td>@realDonaldTrump The need is to blow off the \"...</td>\n",
       "    </tr>\n",
       "    <tr>\n",
       "      <th>2</th>\n",
       "      <td>US-Medien: Trump zahlte womöglich jahrelang ke...</td>\n",
       "    </tr>\n",
       "    <tr>\n",
       "      <th>3</th>\n",
       "      <td>#amjoy #cnn #msnbc #Trump has 2 words for #dep...</td>\n",
       "    </tr>\n",
       "    <tr>\n",
       "      <th>4</th>\n",
       "      <td>and you people who can't  good old boy loans a...</td>\n",
       "    </tr>\n",
       "  </tbody>\n",
       "</table>\n",
       "</div>"
      ],
      "text/plain": [
       "                                             content\n",
       "0  Donald Trump vs. Hillary Clinton Debate Cold O...\n",
       "1  @realDonaldTrump The need is to blow off the \"...\n",
       "2  US-Medien: Trump zahlte womöglich jahrelang ke...\n",
       "3  #amjoy #cnn #msnbc #Trump has 2 words for #dep...\n",
       "4  and you people who can't  good old boy loans a..."
      ]
     },
     "execution_count": 24,
     "metadata": {},
     "output_type": "execute_result"
    }
   ],
   "source": [
    "negative_data.head()\n",
    "\n",
    "\n",
    "\n"
   ]
  },
  {
   "cell_type": "code",
   "execution_count": 25,
   "metadata": {},
   "outputs": [
    {
     "data": {
      "text/plain": [
       "7578"
      ]
     },
     "execution_count": 25,
     "metadata": {},
     "output_type": "execute_result"
    }
   ],
   "source": [
    "#checking the length \n",
    "len(negative_data)"
   ]
  },
  {
   "cell_type": "markdown",
   "metadata": {},
   "source": [
    "Since we have only 7578 negative labell data with respect 1.8 Millon positive labell data so I will slice it"
   ]
  },
  {
   "cell_type": "code",
   "execution_count": 26,
   "metadata": {},
   "outputs": [
    {
     "data": {
      "text/plain": [
       "content                   0\n",
       "region                    0\n",
       "publish_date              0\n",
       "following                 0\n",
       "followers                 0\n",
       "updates                   0\n",
       "post_type           1027093\n",
       "account_type            354\n",
       "new_june_2018             0\n",
       "retweet                   0\n",
       "account_category          0\n",
       "dtype: int64"
      ]
     },
     "execution_count": 26,
     "metadata": {},
     "output_type": "execute_result"
    }
   ],
   "source": [
    "troll_data.isnull().sum()"
   ]
  },
  {
   "cell_type": "code",
   "execution_count": 27,
   "metadata": {},
   "outputs": [
    {
     "data": {
      "text/plain": [
       "array(['Koch', 'Right', 'left', 'Russian', '?', 'Hashtager', 'Arabic',\n",
       "       'Commercial', 'local', 'German', 'ZAPOROSHIA', 'news', 'right',\n",
       "       'Ebola ', nan, 'French'], dtype=object)"
      ]
     },
     "execution_count": 27,
     "metadata": {},
     "output_type": "execute_result"
    }
   ],
   "source": [
    "troll_data.account_type.unique()"
   ]
  },
  {
   "cell_type": "code",
   "execution_count": 28,
   "metadata": {},
   "outputs": [],
   "source": [
    "#some values are dupplicates like 'left' and 'Left' ,and replace nan values with unknown\n",
    "\n",
    "\n",
    "troll_data['account_type'].fillna(value='Unknown', inplace = True)\n",
    "troll_data['account_type'].replace({'?': 'Unknown', 'right': 'Right', \n",
    "                            'left': 'Left', 'news': 'News', \n",
    "                           'local': 'Local', 'ZAPOROSHIA': 'Zaporoshia'}, \n",
    "                           inplace = True)\n"
   ]
  },
  {
   "cell_type": "code",
   "execution_count": 29,
   "metadata": {},
   "outputs": [
    {
     "data": {
      "text/plain": [
       "array(['RETWEET', nan, 'QUOTE_TWEET'], dtype=object)"
      ]
     },
     "execution_count": 29,
     "metadata": {},
     "output_type": "execute_result"
    }
   ],
   "source": [
    "troll_data.post_type.unique()"
   ]
  },
  {
   "cell_type": "code",
   "execution_count": 30,
   "metadata": {},
   "outputs": [],
   "source": [
    "troll_data['post_type'].fillna(value='NOT_RETWEET', inplace = True)"
   ]
  },
  {
   "cell_type": "code",
   "execution_count": 31,
   "metadata": {},
   "outputs": [],
   "source": [
    "#rechecking the null values"
   ]
  },
  {
   "cell_type": "code",
   "execution_count": 32,
   "metadata": {},
   "outputs": [
    {
     "data": {
      "text/plain": [
       "content             0\n",
       "region              0\n",
       "publish_date        0\n",
       "following           0\n",
       "followers           0\n",
       "updates             0\n",
       "post_type           0\n",
       "account_type        0\n",
       "new_june_2018       0\n",
       "retweet             0\n",
       "account_category    0\n",
       "dtype: int64"
      ]
     },
     "execution_count": 32,
     "metadata": {},
     "output_type": "execute_result"
    }
   ],
   "source": [
    "troll_data.isnull().sum()"
   ]
  },
  {
   "cell_type": "code",
   "execution_count": 33,
   "metadata": {},
   "outputs": [],
   "source": [
    "troll_data.drop(['publish_date'],axis = 1,inplace = True)"
   ]
  },
  {
   "cell_type": "code",
   "execution_count": 34,
   "metadata": {},
   "outputs": [],
   "source": [
    "#let us slice random 10000 of our total data to combine with negative data\n",
    "\n",
    "positive_data = troll_data.take(np.random.permutation(len(troll_data))[:10000])"
   ]
  },
  {
   "cell_type": "code",
   "execution_count": 35,
   "metadata": {},
   "outputs": [
    {
     "data": {
      "text/html": [
       "<div>\n",
       "<style scoped>\n",
       "    .dataframe tbody tr th:only-of-type {\n",
       "        vertical-align: middle;\n",
       "    }\n",
       "\n",
       "    .dataframe tbody tr th {\n",
       "        vertical-align: top;\n",
       "    }\n",
       "\n",
       "    .dataframe thead th {\n",
       "        text-align: right;\n",
       "    }\n",
       "</style>\n",
       "<table border=\"1\" class=\"dataframe\">\n",
       "  <thead>\n",
       "    <tr style=\"text-align: right;\">\n",
       "      <th></th>\n",
       "      <th>content</th>\n",
       "      <th>region</th>\n",
       "      <th>following</th>\n",
       "      <th>followers</th>\n",
       "      <th>updates</th>\n",
       "      <th>post_type</th>\n",
       "      <th>account_type</th>\n",
       "      <th>new_june_2018</th>\n",
       "      <th>retweet</th>\n",
       "      <th>account_category</th>\n",
       "    </tr>\n",
       "  </thead>\n",
       "  <tbody>\n",
       "    <tr>\n",
       "      <th>256012</th>\n",
       "      <td>Police arrest two after armed robbery of groce...</td>\n",
       "      <td>United States</td>\n",
       "      <td>5255</td>\n",
       "      <td>6423</td>\n",
       "      <td>11907</td>\n",
       "      <td>NOT_RETWEET</td>\n",
       "      <td>Local</td>\n",
       "      <td>0</td>\n",
       "      <td>0</td>\n",
       "      <td>NewsFeed</td>\n",
       "    </tr>\n",
       "    <tr>\n",
       "      <th>211072</th>\n",
       "      <td>Trump’s campaign tax plan would reduce federal...</td>\n",
       "      <td>United States</td>\n",
       "      <td>855</td>\n",
       "      <td>851</td>\n",
       "      <td>3735</td>\n",
       "      <td>RETWEET</td>\n",
       "      <td>Left</td>\n",
       "      <td>0</td>\n",
       "      <td>1</td>\n",
       "      <td>LeftTroll</td>\n",
       "    </tr>\n",
       "    <tr>\n",
       "      <th>338602</th>\n",
       "      <td>What was that stuff? Half-dozen unconscious Pa...</td>\n",
       "      <td>United States</td>\n",
       "      <td>7822</td>\n",
       "      <td>18840</td>\n",
       "      <td>16710</td>\n",
       "      <td>NOT_RETWEET</td>\n",
       "      <td>Local</td>\n",
       "      <td>0</td>\n",
       "      <td>0</td>\n",
       "      <td>NewsFeed</td>\n",
       "    </tr>\n",
       "  </tbody>\n",
       "</table>\n",
       "</div>"
      ],
      "text/plain": [
       "                                                  content         region  \\\n",
       "256012  Police arrest two after armed robbery of groce...  United States   \n",
       "211072  Trump’s campaign tax plan would reduce federal...  United States   \n",
       "338602  What was that stuff? Half-dozen unconscious Pa...  United States   \n",
       "\n",
       "        following  followers  updates    post_type account_type  \\\n",
       "256012       5255       6423    11907  NOT_RETWEET        Local   \n",
       "211072        855        851     3735      RETWEET         Left   \n",
       "338602       7822      18840    16710  NOT_RETWEET        Local   \n",
       "\n",
       "        new_june_2018  retweet account_category  \n",
       "256012              0        0         NewsFeed  \n",
       "211072              0        1        LeftTroll  \n",
       "338602              0        0         NewsFeed  "
      ]
     },
     "execution_count": 35,
     "metadata": {},
     "output_type": "execute_result"
    }
   ],
   "source": [
    "positive_data.head(3)"
   ]
  },
  {
   "cell_type": "markdown",
   "metadata": {},
   "source": [
    "# EDA"
   ]
  },
  {
   "cell_type": "code",
   "execution_count": 36,
   "metadata": {},
   "outputs": [],
   "source": [
    "#Since we have took 10000 random values \n",
    "# check if this random dataset is equally distributed as of original data"
   ]
  },
  {
   "cell_type": "code",
   "execution_count": 37,
   "metadata": {},
   "outputs": [
    {
     "data": {
      "text/plain": [
       "array([[<matplotlib.axes._subplots.AxesSubplot object at 0x0000000045E0C048>,\n",
       "        <matplotlib.axes._subplots.AxesSubplot object at 0x0000000045E4D5F8>],\n",
       "       [<matplotlib.axes._subplots.AxesSubplot object at 0x0000000045E78C88>,\n",
       "        <matplotlib.axes._subplots.AxesSubplot object at 0x0000000045EA9358>],\n",
       "       [<matplotlib.axes._subplots.AxesSubplot object at 0x0000000045ECF9E8>,\n",
       "        <matplotlib.axes._subplots.AxesSubplot object at 0x0000000045ECFA20>]],\n",
       "      dtype=object)"
      ]
     },
     "execution_count": 37,
     "metadata": {},
     "output_type": "execute_result"
    },
    {
     "data": {
      "image/png": "[encoded data removed]",
      "text/plain": [
       "<Figure size 1152x576 with 6 Axes>"
      ]
     },
     "metadata": {},
     "output_type": "display_data"
    }
   ],
   "source": [
    "#original data\n",
    "troll_data.hist(figsize=(16,8))\n"
   ]
  },
  {
   "cell_type": "code",
   "execution_count": 38,
   "metadata": {},
   "outputs": [
    {
     "data": {
      "text/plain": [
       "array([[<matplotlib.axes._subplots.AxesSubplot object at 0x0000000053A9F6A0>,\n",
       "        <matplotlib.axes._subplots.AxesSubplot object at 0x0000000053D56B38>],\n",
       "       [<matplotlib.axes._subplots.AxesSubplot object at 0x00000000537E91D0>,\n",
       "        <matplotlib.axes._subplots.AxesSubplot object at 0x000000005380F860>],\n",
       "       [<matplotlib.axes._subplots.AxesSubplot object at 0x0000000053837EF0>,\n",
       "        <matplotlib.axes._subplots.AxesSubplot object at 0x0000000053837F28>]],\n",
       "      dtype=object)"
      ]
     },
     "execution_count": 38,
     "metadata": {},
     "output_type": "execute_result"
    },
    {
     "data": {
      "image/png": "[encoded data removed]",
      "text/plain": [
       "<Figure size 1152x576 with 6 Axes>"
      ]
     },
     "metadata": {},
     "output_type": "display_data"
    }
   ],
   "source": [
    "#sampled data (positive_data)\n",
    "\n",
    "#Check distribution\n",
    "positive_data.hist(figsize = (16,8))"
   ]
  },
  {
   "cell_type": "code",
   "execution_count": null,
   "metadata": {},
   "outputs": [],
   "source": [
    "\n"
   ]
  },
  {
   "cell_type": "code",
   "execution_count": null,
   "metadata": {},
   "outputs": [],
   "source": []
  },
  {
   "cell_type": "code",
   "execution_count": 39,
   "metadata": {},
   "outputs": [
    {
     "data": {
      "text/html": [
       "<div>\n",
       "<style scoped>\n",
       "    .dataframe tbody tr th:only-of-type {\n",
       "        vertical-align: middle;\n",
       "    }\n",
       "\n",
       "    .dataframe tbody tr th {\n",
       "        vertical-align: top;\n",
       "    }\n",
       "\n",
       "    .dataframe thead th {\n",
       "        text-align: right;\n",
       "    }\n",
       "</style>\n",
       "<table border=\"1\" class=\"dataframe\">\n",
       "  <thead>\n",
       "    <tr style=\"text-align: right;\">\n",
       "      <th></th>\n",
       "      <th>content</th>\n",
       "      <th>region</th>\n",
       "      <th>following</th>\n",
       "      <th>followers</th>\n",
       "      <th>updates</th>\n",
       "      <th>post_type</th>\n",
       "      <th>account_type</th>\n",
       "      <th>new_june_2018</th>\n",
       "      <th>retweet</th>\n",
       "      <th>account_category</th>\n",
       "    </tr>\n",
       "  </thead>\n",
       "  <tbody>\n",
       "    <tr>\n",
       "      <th>256012</th>\n",
       "      <td>Police arrest two after armed robbery of groce...</td>\n",
       "      <td>United States</td>\n",
       "      <td>5255</td>\n",
       "      <td>6423</td>\n",
       "      <td>11907</td>\n",
       "      <td>NOT_RETWEET</td>\n",
       "      <td>Local</td>\n",
       "      <td>0</td>\n",
       "      <td>0</td>\n",
       "      <td>NewsFeed</td>\n",
       "    </tr>\n",
       "    <tr>\n",
       "      <th>211072</th>\n",
       "      <td>Trump’s campaign tax plan would reduce federal...</td>\n",
       "      <td>United States</td>\n",
       "      <td>855</td>\n",
       "      <td>851</td>\n",
       "      <td>3735</td>\n",
       "      <td>RETWEET</td>\n",
       "      <td>Left</td>\n",
       "      <td>0</td>\n",
       "      <td>1</td>\n",
       "      <td>LeftTroll</td>\n",
       "    </tr>\n",
       "    <tr>\n",
       "      <th>338602</th>\n",
       "      <td>What was that stuff? Half-dozen unconscious Pa...</td>\n",
       "      <td>United States</td>\n",
       "      <td>7822</td>\n",
       "      <td>18840</td>\n",
       "      <td>16710</td>\n",
       "      <td>NOT_RETWEET</td>\n",
       "      <td>Local</td>\n",
       "      <td>0</td>\n",
       "      <td>0</td>\n",
       "      <td>NewsFeed</td>\n",
       "    </tr>\n",
       "    <tr>\n",
       "      <th>192803</th>\n",
       "      <td>��SOROS CLAN��  You can stop the #TrumpRiot #T...</td>\n",
       "      <td>United States</td>\n",
       "      <td>1334</td>\n",
       "      <td>592</td>\n",
       "      <td>2912</td>\n",
       "      <td>RETWEET</td>\n",
       "      <td>Right</td>\n",
       "      <td>0</td>\n",
       "      <td>1</td>\n",
       "      <td>RightTroll</td>\n",
       "    </tr>\n",
       "    <tr>\n",
       "      <th>129208</th>\n",
       "      <td>Photographer captures beauty of the 'Bridge of...</td>\n",
       "      <td>United States</td>\n",
       "      <td>1479</td>\n",
       "      <td>2262</td>\n",
       "      <td>10464</td>\n",
       "      <td>RETWEET</td>\n",
       "      <td>Right</td>\n",
       "      <td>0</td>\n",
       "      <td>1</td>\n",
       "      <td>RightTroll</td>\n",
       "    </tr>\n",
       "  </tbody>\n",
       "</table>\n",
       "</div>"
      ],
      "text/plain": [
       "                                                  content         region  \\\n",
       "256012  Police arrest two after armed robbery of groce...  United States   \n",
       "211072  Trump’s campaign tax plan would reduce federal...  United States   \n",
       "338602  What was that stuff? Half-dozen unconscious Pa...  United States   \n",
       "192803  ��SOROS CLAN��  You can stop the #TrumpRiot #T...  United States   \n",
       "129208  Photographer captures beauty of the 'Bridge of...  United States   \n",
       "\n",
       "        following  followers  updates    post_type account_type  \\\n",
       "256012       5255       6423    11907  NOT_RETWEET        Local   \n",
       "211072        855        851     3735      RETWEET         Left   \n",
       "338602       7822      18840    16710  NOT_RETWEET        Local   \n",
       "192803       1334        592     2912      RETWEET        Right   \n",
       "129208       1479       2262    10464      RETWEET        Right   \n",
       "\n",
       "        new_june_2018  retweet account_category  \n",
       "256012              0        0         NewsFeed  \n",
       "211072              0        1        LeftTroll  \n",
       "338602              0        0         NewsFeed  \n",
       "192803              0        1       RightTroll  \n",
       "129208              0        1       RightTroll  "
      ]
     },
     "execution_count": 39,
     "metadata": {},
     "output_type": "execute_result"
    }
   ],
   "source": [
    "#perfect , our positive data is equally distributed as original data\n",
    "#let use postive data for further process\n",
    "\n",
    "positive_data.head()"
   ]
  },
  {
   "cell_type": "code",
   "execution_count": 40,
   "metadata": {},
   "outputs": [],
   "source": [
    "#use only content column\n",
    "\n",
    "positive_data = pd.DataFrame(positive_data.content)"
   ]
  },
  {
   "cell_type": "code",
   "execution_count": 41,
   "metadata": {},
   "outputs": [
    {
     "data": {
      "text/html": [
       "<div>\n",
       "<style scoped>\n",
       "    .dataframe tbody tr th:only-of-type {\n",
       "        vertical-align: middle;\n",
       "    }\n",
       "\n",
       "    .dataframe tbody tr th {\n",
       "        vertical-align: top;\n",
       "    }\n",
       "\n",
       "    .dataframe thead th {\n",
       "        text-align: right;\n",
       "    }\n",
       "</style>\n",
       "<table border=\"1\" class=\"dataframe\">\n",
       "  <thead>\n",
       "    <tr style=\"text-align: right;\">\n",
       "      <th></th>\n",
       "      <th>content</th>\n",
       "    </tr>\n",
       "  </thead>\n",
       "  <tbody>\n",
       "    <tr>\n",
       "      <th>256012</th>\n",
       "      <td>Police arrest two after armed robbery of groce...</td>\n",
       "    </tr>\n",
       "    <tr>\n",
       "      <th>211072</th>\n",
       "      <td>Trump’s campaign tax plan would reduce federal...</td>\n",
       "    </tr>\n",
       "    <tr>\n",
       "      <th>338602</th>\n",
       "      <td>What was that stuff? Half-dozen unconscious Pa...</td>\n",
       "    </tr>\n",
       "    <tr>\n",
       "      <th>192803</th>\n",
       "      <td>��SOROS CLAN��  You can stop the #TrumpRiot #T...</td>\n",
       "    </tr>\n",
       "    <tr>\n",
       "      <th>129208</th>\n",
       "      <td>Photographer captures beauty of the 'Bridge of...</td>\n",
       "    </tr>\n",
       "    <tr>\n",
       "      <th>4398</th>\n",
       "      <td>Law and order Trump has no respect for justice...</td>\n",
       "    </tr>\n",
       "    <tr>\n",
       "      <th>24754</th>\n",
       "      <td>At First Its Rover To The Right But When I Dro...</td>\n",
       "    </tr>\n",
       "    <tr>\n",
       "      <th>57700</th>\n",
       "      <td>I will fight everybody.  https://t.co/A2Px4KerKD</td>\n",
       "    </tr>\n",
       "    <tr>\n",
       "      <th>199525</th>\n",
       "      <td>#ToAvoidWorkI use helpful hashtag that guide m...</td>\n",
       "    </tr>\n",
       "    <tr>\n",
       "      <th>199510</th>\n",
       "      <td>Civil rights activists worry ruse perpetrated ...</td>\n",
       "    </tr>\n",
       "    <tr>\n",
       "      <th>79938</th>\n",
       "      <td>Current @cnbc chyron re @GovernorOMalley \"Watc...</td>\n",
       "    </tr>\n",
       "    <tr>\n",
       "      <th>191941</th>\n",
       "      <td>The collusion, rigged primaries, media blackou...</td>\n",
       "    </tr>\n",
       "    <tr>\n",
       "      <th>276923</th>\n",
       "      <td>Source: \"Moderate\" opposition in #Idlib receiv...</td>\n",
       "    </tr>\n",
       "    <tr>\n",
       "      <th>270380</th>\n",
       "      <td>Amusing. Don't recall this level of concern fr...</td>\n",
       "    </tr>\n",
       "    <tr>\n",
       "      <th>359179</th>\n",
       "      <td>http://t.co/ypAYqEMNcm Fitness an xml reformis...</td>\n",
       "    </tr>\n",
       "    <tr>\n",
       "      <th>178640</th>\n",
       "      <td>For the first time in 14 years, the #NSA can’t...</td>\n",
       "    </tr>\n",
       "    <tr>\n",
       "      <th>119156</th>\n",
       "      <td>WRITERS: We're looking to produce your Young A...</td>\n",
       "    </tr>\n",
       "    <tr>\n",
       "      <th>311866</th>\n",
       "      <td>http://t.co/6Vrx086Xej ACTUALLY! I hella worko...</td>\n",
       "    </tr>\n",
       "    <tr>\n",
       "      <th>119300</th>\n",
       "      <td>Never regret your decisions, every mistake mak...</td>\n",
       "    </tr>\n",
       "    <tr>\n",
       "      <th>321163</th>\n",
       "      <td>Stolen Ashley Madison user data published by h...</td>\n",
       "    </tr>\n",
       "    <tr>\n",
       "      <th>75659</th>\n",
       "      <td>FUTURE UNDERSTANDS #STAYWOKE https://t.co/DOTG...</td>\n",
       "    </tr>\n",
       "    <tr>\n",
       "      <th>291430</th>\n",
       "      <td>#IranTalks extend until July 13 http://t.co/Xr...</td>\n",
       "    </tr>\n",
       "    <tr>\n",
       "      <th>357334</th>\n",
       "      <td>http://t.co/dx3KIxiBIk I'm up so I might as we...</td>\n",
       "    </tr>\n",
       "    <tr>\n",
       "      <th>56065</th>\n",
       "      <td>Actor and Anti-Vaxxer Rob Schneider: I have pr...</td>\n",
       "    </tr>\n",
       "    <tr>\n",
       "      <th>272816</th>\n",
       "      <td>Snow Moves Through Region https://t.co/2xiUU4X...</td>\n",
       "    </tr>\n",
       "    <tr>\n",
       "      <th>92594</th>\n",
       "      <td>Country of dreams #UnitedStatesIn3Words</td>\n",
       "    </tr>\n",
       "    <tr>\n",
       "      <th>190120</th>\n",
       "      <td>Best Ways to Build Your Fan Base - https://t.c...</td>\n",
       "    </tr>\n",
       "    <tr>\n",
       "      <th>277362</th>\n",
       "      <td>Struggling with retaining moisture in your hai...</td>\n",
       "    </tr>\n",
       "    <tr>\n",
       "      <th>345911</th>\n",
       "      <td>In Asia, Kerry to focus on maritime disputes, ...</td>\n",
       "    </tr>\n",
       "    <tr>\n",
       "      <th>30081</th>\n",
       "      <td>Boys are icky. When they make out with each ot...</td>\n",
       "    </tr>\n",
       "    <tr>\n",
       "      <th>...</th>\n",
       "      <td>...</td>\n",
       "    </tr>\n",
       "    <tr>\n",
       "      <th>330898</th>\n",
       "      <td>African Union says ready to send 5,000 peaceke...</td>\n",
       "    </tr>\n",
       "    <tr>\n",
       "      <th>177740</th>\n",
       "      <td>Ochsner adding 6 stories to main hospital buil...</td>\n",
       "    </tr>\n",
       "    <tr>\n",
       "      <th>141437</th>\n",
       "      <td>'@arthur_affect I've been viscerally angry wit...</td>\n",
       "    </tr>\n",
       "    <tr>\n",
       "      <th>20104</th>\n",
       "      <td>Scores of car windows broken out in south St. ...</td>\n",
       "    </tr>\n",
       "    <tr>\n",
       "      <th>203999</th>\n",
       "      <td>On Lindor:  First career slam Second career mu...</td>\n",
       "    </tr>\n",
       "    <tr>\n",
       "      <th>206978</th>\n",
       "      <td>��� @Drake when @rihanna is back @rihanna when...</td>\n",
       "    </tr>\n",
       "    <tr>\n",
       "      <th>62949</th>\n",
       "      <td>The grand essentials of happiness are: somethi...</td>\n",
       "    </tr>\n",
       "    <tr>\n",
       "      <th>195250</th>\n",
       "      <td>Former Kerr County official cleared of DWI, we...</td>\n",
       "    </tr>\n",
       "    <tr>\n",
       "      <th>196836</th>\n",
       "      <td>Scalia death phone inquest unusual but not unp...</td>\n",
       "    </tr>\n",
       "    <tr>\n",
       "      <th>209437</th>\n",
       "      <td>This is brilliant and should be brought to sch...</td>\n",
       "    </tr>\n",
       "    <tr>\n",
       "      <th>95047</th>\n",
       "      <td>Joe Deters: Colerain Township mass shooting co...</td>\n",
       "    </tr>\n",
       "    <tr>\n",
       "      <th>143968</th>\n",
       "      <td>Police chief wants judge rebuked for releasing...</td>\n",
       "    </tr>\n",
       "    <tr>\n",
       "      <th>230639</th>\n",
       "      <td>Liberals are insane.  Protesters start to DIG ...</td>\n",
       "    </tr>\n",
       "    <tr>\n",
       "      <th>158477</th>\n",
       "      <td>'@HARRISFAULKNER I hope Trump adds tariffs to ...</td>\n",
       "    </tr>\n",
       "    <tr>\n",
       "      <th>136220</th>\n",
       "      <td>'@da13thsun hahaha they gonna try to run under...</td>\n",
       "    </tr>\n",
       "    <tr>\n",
       "      <th>332469</th>\n",
       "      <td>The Blues is the foundation of Hip-hop music.</td>\n",
       "    </tr>\n",
       "    <tr>\n",
       "      <th>303531</th>\n",
       "      <td>http://t.co/26aHpVZzG7 I gotta stop watching a...</td>\n",
       "    </tr>\n",
       "    <tr>\n",
       "      <th>289208</th>\n",
       "      <td>Penzone looks forward to 'rematch' with Arpaio...</td>\n",
       "    </tr>\n",
       "    <tr>\n",
       "      <th>42121</th>\n",
       "      <td>Job of the President is to uphold the Constitu...</td>\n",
       "    </tr>\n",
       "    <tr>\n",
       "      <th>51747</th>\n",
       "      <td>#ARealKenyanWomanShouldNever resemble a christ...</td>\n",
       "    </tr>\n",
       "    <tr>\n",
       "      <th>21481</th>\n",
       "      <td>Wind gusts hit 120 mph at Causeway drawbridge,...</td>\n",
       "    </tr>\n",
       "    <tr>\n",
       "      <th>14195</th>\n",
       "      <td>\"Proud of my bloodline\" #PartyWentWrongWhen my...</td>\n",
       "    </tr>\n",
       "    <tr>\n",
       "      <th>111992</th>\n",
       "      <td>#SundayThoughts ~ TWO BLESSINGS NOT IN HEAVEN ...</td>\n",
       "    </tr>\n",
       "    <tr>\n",
       "      <th>333647</th>\n",
       "      <td>Imagine if after 3 terror attacks on US soil W...</td>\n",
       "    </tr>\n",
       "    <tr>\n",
       "      <th>298727</th>\n",
       "      <td>'@HillaryClinton You're a crooked bitch.'</td>\n",
       "    </tr>\n",
       "    <tr>\n",
       "      <th>215208</th>\n",
       "      <td>I need to figure out a way to get paid for wat...</td>\n",
       "    </tr>\n",
       "    <tr>\n",
       "      <th>121442</th>\n",
       "      <td>LAST CALL for scared/bewildered tuxie kitty \"Z...</td>\n",
       "    </tr>\n",
       "    <tr>\n",
       "      <th>27894</th>\n",
       "      <td>Return of the Mack  https://t.co/QmRGfkqbDY</td>\n",
       "    </tr>\n",
       "    <tr>\n",
       "      <th>99395</th>\n",
       "      <td>LOL! Or worse,  Him: OK, your turn.  Her: \"Not...</td>\n",
       "    </tr>\n",
       "    <tr>\n",
       "      <th>81427</th>\n",
       "      <td>Canadian avalanche victims were MGH doctors ht...</td>\n",
       "    </tr>\n",
       "  </tbody>\n",
       "</table>\n",
       "<p>10000 rows × 1 columns</p>\n",
       "</div>"
      ],
      "text/plain": [
       "                                                  content\n",
       "256012  Police arrest two after armed robbery of groce...\n",
       "211072  Trump’s campaign tax plan would reduce federal...\n",
       "338602  What was that stuff? Half-dozen unconscious Pa...\n",
       "192803  ��SOROS CLAN��  You can stop the #TrumpRiot #T...\n",
       "129208  Photographer captures beauty of the 'Bridge of...\n",
       "4398    Law and order Trump has no respect for justice...\n",
       "24754   At First Its Rover To The Right But When I Dro...\n",
       "57700    I will fight everybody.  https://t.co/A2Px4KerKD\n",
       "199525  #ToAvoidWorkI use helpful hashtag that guide m...\n",
       "199510  Civil rights activists worry ruse perpetrated ...\n",
       "79938   Current @cnbc chyron re @GovernorOMalley \"Watc...\n",
       "191941  The collusion, rigged primaries, media blackou...\n",
       "276923  Source: \"Moderate\" opposition in #Idlib receiv...\n",
       "270380  Amusing. Don't recall this level of concern fr...\n",
       "359179  http://t.co/ypAYqEMNcm Fitness an xml reformis...\n",
       "178640  For the first time in 14 years, the #NSA can’t...\n",
       "119156  WRITERS: We're looking to produce your Young A...\n",
       "311866  http://t.co/6Vrx086Xej ACTUALLY! I hella worko...\n",
       "119300  Never regret your decisions, every mistake mak...\n",
       "321163  Stolen Ashley Madison user data published by h...\n",
       "75659   FUTURE UNDERSTANDS #STAYWOKE https://t.co/DOTG...\n",
       "291430  #IranTalks extend until July 13 http://t.co/Xr...\n",
       "357334  http://t.co/dx3KIxiBIk I'm up so I might as we...\n",
       "56065   Actor and Anti-Vaxxer Rob Schneider: I have pr...\n",
       "272816  Snow Moves Through Region https://t.co/2xiUU4X...\n",
       "92594             Country of dreams #UnitedStatesIn3Words\n",
       "190120  Best Ways to Build Your Fan Base - https://t.c...\n",
       "277362  Struggling with retaining moisture in your hai...\n",
       "345911  In Asia, Kerry to focus on maritime disputes, ...\n",
       "30081   Boys are icky. When they make out with each ot...\n",
       "...                                                   ...\n",
       "330898  African Union says ready to send 5,000 peaceke...\n",
       "177740  Ochsner adding 6 stories to main hospital buil...\n",
       "141437  '@arthur_affect I've been viscerally angry wit...\n",
       "20104   Scores of car windows broken out in south St. ...\n",
       "203999  On Lindor:  First career slam Second career mu...\n",
       "206978  ��� @Drake when @rihanna is back @rihanna when...\n",
       "62949   The grand essentials of happiness are: somethi...\n",
       "195250  Former Kerr County official cleared of DWI, we...\n",
       "196836  Scalia death phone inquest unusual but not unp...\n",
       "209437  This is brilliant and should be brought to sch...\n",
       "95047   Joe Deters: Colerain Township mass shooting co...\n",
       "143968  Police chief wants judge rebuked for releasing...\n",
       "230639  Liberals are insane.  Protesters start to DIG ...\n",
       "158477  '@HARRISFAULKNER I hope Trump adds tariffs to ...\n",
       "136220  '@da13thsun hahaha they gonna try to run under...\n",
       "332469      The Blues is the foundation of Hip-hop music.\n",
       "303531  http://t.co/26aHpVZzG7 I gotta stop watching a...\n",
       "289208  Penzone looks forward to 'rematch' with Arpaio...\n",
       "42121   Job of the President is to uphold the Constitu...\n",
       "51747   #ARealKenyanWomanShouldNever resemble a christ...\n",
       "21481   Wind gusts hit 120 mph at Causeway drawbridge,...\n",
       "14195   \"Proud of my bloodline\" #PartyWentWrongWhen my...\n",
       "111992  #SundayThoughts ~ TWO BLESSINGS NOT IN HEAVEN ...\n",
       "333647  Imagine if after 3 terror attacks on US soil W...\n",
       "298727          '@HillaryClinton You're a crooked bitch.'\n",
       "215208  I need to figure out a way to get paid for wat...\n",
       "121442  LAST CALL for scared/bewildered tuxie kitty \"Z...\n",
       "27894         Return of the Mack  https://t.co/QmRGfkqbDY\n",
       "99395   LOL! Or worse,  Him: OK, your turn.  Her: \"Not...\n",
       "81427   Canadian avalanche victims were MGH doctors ht...\n",
       "\n",
       "[10000 rows x 1 columns]"
      ]
     },
     "execution_count": 41,
     "metadata": {},
     "output_type": "execute_result"
    }
   ],
   "source": [
    "positive_data"
   ]
  },
  {
   "cell_type": "code",
   "execution_count": null,
   "metadata": {},
   "outputs": [],
   "source": []
  },
  {
   "cell_type": "code",
   "execution_count": null,
   "metadata": {},
   "outputs": [],
   "source": []
  },
  {
   "cell_type": "code",
   "execution_count": 42,
   "metadata": {},
   "outputs": [
    {
     "name": "stdout",
     "output_type": "stream",
     "text": [
      "postive data length :10000 \t negative data length : 7578\n"
     ]
    }
   ],
   "source": [
    "print(\"postive data length :{} \\t negative data length : {}\".format(len(positive_data),len(negative_data)))"
   ]
  },
  {
   "cell_type": "code",
   "execution_count": 43,
   "metadata": {},
   "outputs": [],
   "source": [
    "#adding label\n",
    "\n",
    "temp1 = np.ones(len(positive_data))"
   ]
  },
  {
   "cell_type": "code",
   "execution_count": 44,
   "metadata": {},
   "outputs": [],
   "source": [
    "positive_data['label'] = temp1"
   ]
  },
  {
   "cell_type": "code",
   "execution_count": 45,
   "metadata": {},
   "outputs": [],
   "source": [
    "positive_data['label'] = positive_data.label.astype(int)"
   ]
  },
  {
   "cell_type": "code",
   "execution_count": 46,
   "metadata": {},
   "outputs": [],
   "source": [
    "\n",
    "temp2 = np.zeros(len(negative_data))"
   ]
  },
  {
   "cell_type": "code",
   "execution_count": 47,
   "metadata": {},
   "outputs": [],
   "source": [
    "negative_data['label'] = temp2"
   ]
  },
  {
   "cell_type": "code",
   "execution_count": 48,
   "metadata": {},
   "outputs": [],
   "source": [
    "negative_data['label'] = negative_data.label.astype(int)"
   ]
  },
  {
   "cell_type": "code",
   "execution_count": 49,
   "metadata": {},
   "outputs": [
    {
     "data": {
      "text/html": [
       "<div>\n",
       "<style scoped>\n",
       "    .dataframe tbody tr th:only-of-type {\n",
       "        vertical-align: middle;\n",
       "    }\n",
       "\n",
       "    .dataframe tbody tr th {\n",
       "        vertical-align: top;\n",
       "    }\n",
       "\n",
       "    .dataframe thead th {\n",
       "        text-align: right;\n",
       "    }\n",
       "</style>\n",
       "<table border=\"1\" class=\"dataframe\">\n",
       "  <thead>\n",
       "    <tr style=\"text-align: right;\">\n",
       "      <th></th>\n",
       "      <th>content</th>\n",
       "      <th>label</th>\n",
       "    </tr>\n",
       "  </thead>\n",
       "  <tbody>\n",
       "    <tr>\n",
       "      <th>256012</th>\n",
       "      <td>Police arrest two after armed robbery of groce...</td>\n",
       "      <td>1</td>\n",
       "    </tr>\n",
       "    <tr>\n",
       "      <th>211072</th>\n",
       "      <td>Trump’s campaign tax plan would reduce federal...</td>\n",
       "      <td>1</td>\n",
       "    </tr>\n",
       "    <tr>\n",
       "      <th>338602</th>\n",
       "      <td>What was that stuff? Half-dozen unconscious Pa...</td>\n",
       "      <td>1</td>\n",
       "    </tr>\n",
       "    <tr>\n",
       "      <th>192803</th>\n",
       "      <td>��SOROS CLAN��  You can stop the #TrumpRiot #T...</td>\n",
       "      <td>1</td>\n",
       "    </tr>\n",
       "    <tr>\n",
       "      <th>129208</th>\n",
       "      <td>Photographer captures beauty of the 'Bridge of...</td>\n",
       "      <td>1</td>\n",
       "    </tr>\n",
       "  </tbody>\n",
       "</table>\n",
       "</div>"
      ],
      "text/plain": [
       "                                                  content  label\n",
       "256012  Police arrest two after armed robbery of groce...      1\n",
       "211072  Trump’s campaign tax plan would reduce federal...      1\n",
       "338602  What was that stuff? Half-dozen unconscious Pa...      1\n",
       "192803  ��SOROS CLAN��  You can stop the #TrumpRiot #T...      1\n",
       "129208  Photographer captures beauty of the 'Bridge of...      1"
      ]
     },
     "execution_count": 49,
     "metadata": {},
     "output_type": "execute_result"
    }
   ],
   "source": [
    "positive_data.head()"
   ]
  },
  {
   "cell_type": "code",
   "execution_count": 50,
   "metadata": {},
   "outputs": [
    {
     "data": {
      "text/html": [
       "<div>\n",
       "<style scoped>\n",
       "    .dataframe tbody tr th:only-of-type {\n",
       "        vertical-align: middle;\n",
       "    }\n",
       "\n",
       "    .dataframe tbody tr th {\n",
       "        vertical-align: top;\n",
       "    }\n",
       "\n",
       "    .dataframe thead th {\n",
       "        text-align: right;\n",
       "    }\n",
       "</style>\n",
       "<table border=\"1\" class=\"dataframe\">\n",
       "  <thead>\n",
       "    <tr style=\"text-align: right;\">\n",
       "      <th></th>\n",
       "      <th>content</th>\n",
       "      <th>label</th>\n",
       "    </tr>\n",
       "  </thead>\n",
       "  <tbody>\n",
       "    <tr>\n",
       "      <th>0</th>\n",
       "      <td>Donald Trump vs. Hillary Clinton Debate Cold O...</td>\n",
       "      <td>0</td>\n",
       "    </tr>\n",
       "    <tr>\n",
       "      <th>1</th>\n",
       "      <td>@realDonaldTrump The need is to blow off the \"...</td>\n",
       "      <td>0</td>\n",
       "    </tr>\n",
       "    <tr>\n",
       "      <th>2</th>\n",
       "      <td>US-Medien: Trump zahlte womöglich jahrelang ke...</td>\n",
       "      <td>0</td>\n",
       "    </tr>\n",
       "    <tr>\n",
       "      <th>3</th>\n",
       "      <td>#amjoy #cnn #msnbc #Trump has 2 words for #dep...</td>\n",
       "      <td>0</td>\n",
       "    </tr>\n",
       "    <tr>\n",
       "      <th>4</th>\n",
       "      <td>and you people who can't  good old boy loans a...</td>\n",
       "      <td>0</td>\n",
       "    </tr>\n",
       "  </tbody>\n",
       "</table>\n",
       "</div>"
      ],
      "text/plain": [
       "                                             content  label\n",
       "0  Donald Trump vs. Hillary Clinton Debate Cold O...      0\n",
       "1  @realDonaldTrump The need is to blow off the \"...      0\n",
       "2  US-Medien: Trump zahlte womöglich jahrelang ke...      0\n",
       "3  #amjoy #cnn #msnbc #Trump has 2 words for #dep...      0\n",
       "4  and you people who can't  good old boy loans a...      0"
      ]
     },
     "execution_count": 50,
     "metadata": {},
     "output_type": "execute_result"
    }
   ],
   "source": [
    "negative_data.head()"
   ]
  },
  {
   "cell_type": "code",
   "execution_count": 51,
   "metadata": {},
   "outputs": [],
   "source": [
    "data = pd.concat([positive_data,negative_data],axis=0)"
   ]
  },
  {
   "cell_type": "code",
   "execution_count": null,
   "metadata": {},
   "outputs": [],
   "source": []
  },
  {
   "cell_type": "code",
   "execution_count": 52,
   "metadata": {},
   "outputs": [
    {
     "data": {
      "text/html": [
       "<div>\n",
       "<style scoped>\n",
       "    .dataframe tbody tr th:only-of-type {\n",
       "        vertical-align: middle;\n",
       "    }\n",
       "\n",
       "    .dataframe tbody tr th {\n",
       "        vertical-align: top;\n",
       "    }\n",
       "\n",
       "    .dataframe thead th {\n",
       "        text-align: right;\n",
       "    }\n",
       "</style>\n",
       "<table border=\"1\" class=\"dataframe\">\n",
       "  <thead>\n",
       "    <tr style=\"text-align: right;\">\n",
       "      <th></th>\n",
       "      <th>content</th>\n",
       "      <th>label</th>\n",
       "    </tr>\n",
       "  </thead>\n",
       "  <tbody>\n",
       "    <tr>\n",
       "      <th>256012</th>\n",
       "      <td>Police arrest two after armed robbery of groce...</td>\n",
       "      <td>1</td>\n",
       "    </tr>\n",
       "    <tr>\n",
       "      <th>211072</th>\n",
       "      <td>Trump’s campaign tax plan would reduce federal...</td>\n",
       "      <td>1</td>\n",
       "    </tr>\n",
       "    <tr>\n",
       "      <th>338602</th>\n",
       "      <td>What was that stuff? Half-dozen unconscious Pa...</td>\n",
       "      <td>1</td>\n",
       "    </tr>\n",
       "    <tr>\n",
       "      <th>192803</th>\n",
       "      <td>��SOROS CLAN��  You can stop the #TrumpRiot #T...</td>\n",
       "      <td>1</td>\n",
       "    </tr>\n",
       "    <tr>\n",
       "      <th>129208</th>\n",
       "      <td>Photographer captures beauty of the 'Bridge of...</td>\n",
       "      <td>1</td>\n",
       "    </tr>\n",
       "  </tbody>\n",
       "</table>\n",
       "</div>"
      ],
      "text/plain": [
       "                                                  content  label\n",
       "256012  Police arrest two after armed robbery of groce...      1\n",
       "211072  Trump’s campaign tax plan would reduce federal...      1\n",
       "338602  What was that stuff? Half-dozen unconscious Pa...      1\n",
       "192803  ��SOROS CLAN��  You can stop the #TrumpRiot #T...      1\n",
       "129208  Photographer captures beauty of the 'Bridge of...      1"
      ]
     },
     "execution_count": 52,
     "metadata": {},
     "output_type": "execute_result"
    }
   ],
   "source": [
    "data.head()"
   ]
  },
  {
   "cell_type": "code",
   "execution_count": 53,
   "metadata": {},
   "outputs": [],
   "source": [
    "data = data.sample(frac=1).reset_index(drop=True)"
   ]
  },
  {
   "cell_type": "code",
   "execution_count": 54,
   "metadata": {},
   "outputs": [
    {
     "data": {
      "text/html": [
       "<div>\n",
       "<style scoped>\n",
       "    .dataframe tbody tr th:only-of-type {\n",
       "        vertical-align: middle;\n",
       "    }\n",
       "\n",
       "    .dataframe tbody tr th {\n",
       "        vertical-align: top;\n",
       "    }\n",
       "\n",
       "    .dataframe thead th {\n",
       "        text-align: right;\n",
       "    }\n",
       "</style>\n",
       "<table border=\"1\" class=\"dataframe\">\n",
       "  <thead>\n",
       "    <tr style=\"text-align: right;\">\n",
       "      <th></th>\n",
       "      <th>content</th>\n",
       "      <th>label</th>\n",
       "    </tr>\n",
       "  </thead>\n",
       "  <tbody>\n",
       "    <tr>\n",
       "      <th>0</th>\n",
       "      <td>'@wcj22151 @3rdEyePluG @pastormarkburns infini...</td>\n",
       "      <td>1</td>\n",
       "    </tr>\n",
       "    <tr>\n",
       "      <th>1</th>\n",
       "      <td>Smoke it like you mean it</td>\n",
       "      <td>1</td>\n",
       "    </tr>\n",
       "    <tr>\n",
       "      <th>2</th>\n",
       "      <td>Hillary Clinton could put away Donald Trump by...</td>\n",
       "      <td>0</td>\n",
       "    </tr>\n",
       "    <tr>\n",
       "      <th>3</th>\n",
       "      <td>RT @sdv92: MT @SharonRoarty1: #GunControl - Ye...</td>\n",
       "      <td>1</td>\n",
       "    </tr>\n",
       "    <tr>\n",
       "      <th>4</th>\n",
       "      <td>Uzbekistan seeks stability in relations, says ...</td>\n",
       "      <td>1</td>\n",
       "    </tr>\n",
       "  </tbody>\n",
       "</table>\n",
       "</div>"
      ],
      "text/plain": [
       "                                             content  label\n",
       "0  '@wcj22151 @3rdEyePluG @pastormarkburns infini...      1\n",
       "1                          Smoke it like you mean it      1\n",
       "2  Hillary Clinton could put away Donald Trump by...      0\n",
       "3  RT @sdv92: MT @SharonRoarty1: #GunControl - Ye...      1\n",
       "4  Uzbekistan seeks stability in relations, says ...      1"
      ]
     },
     "execution_count": 54,
     "metadata": {},
     "output_type": "execute_result"
    }
   ],
   "source": [
    "data.head()"
   ]
  },
  {
   "cell_type": "markdown",
   "metadata": {},
   "source": [
    "Perfect!! Our dataset is now ready for further process"
   ]
  },
  {
   "cell_type": "markdown",
   "metadata": {},
   "source": [
    "# Feature Engineering"
   ]
  },
  {
   "cell_type": "code",
   "execution_count": 55,
   "metadata": {},
   "outputs": [
    {
     "name": "stdout",
     "output_type": "stream",
     "text": [
      "[nltk_data] Downloading package stopwords to\n",
      "[nltk_data]     C:\\Users\\NIKHIL\\AppData\\Roaming\\nltk_data...\n",
      "[nltk_data]   Package stopwords is already up-to-date!\n"
     ]
    }
   ],
   "source": [
    "#importing essential libraries useful for feature extraction\n",
    "import re\n",
    "\n",
    "# Natural Language Tool Kit \n",
    "import nltk\n",
    "nltk.download('stopwords')\n",
    "\n",
    "# to remove stopword \n",
    "from nltk.corpus import stopwords\n",
    "\n",
    "# for Stemming propose \n",
    "from nltk.stem.porter import PorterStemmer\n"
   ]
  },
  {
   "cell_type": "code",
   "execution_count": 56,
   "metadata": {},
   "outputs": [
    {
     "data": {
      "text/plain": [
       "17578"
      ]
     },
     "execution_count": 56,
     "metadata": {},
     "output_type": "execute_result"
    }
   ],
   "source": [
    "len(data)"
   ]
  },
  {
   "cell_type": "code",
   "execution_count": null,
   "metadata": {},
   "outputs": [],
   "source": [
    "# Initialize empty array \n",
    "# to append clean text \n",
    "corpus = []\n",
    "ps = PorterStemmer()\n",
    "\n",
    "# 17578 (contents) rows to clean\n",
    "for i in range(0, len(data)):\n",
    "    content = re.sub(r\"http\\S+\", \"\", data['content'][i])\n",
    "    content = re.sub('[^a-zA-Z]', ' ', content)\n",
    "    content = content.lower()\n",
    "    \n",
    "    \n",
    "    # split to list (delimiter \" \") \n",
    "    content = content.split()\n",
    "    \n",
    "   \n",
    "    \n",
    "    # rejoin all string array elements to create back into a string \n",
    "    \n",
    "    content = [ps.stem(word) for word in content if not word in set(stopwords.words('english'))]\n",
    "    \n",
    "    # append each string to create \n",
    "    # array of clean text \n",
    "    content = ' '.join(content)\n",
    "    corpus.append(content)"
   ]
  },
  {
   "cell_type": "code",
   "execution_count": null,
   "metadata": {
    "scrolled": false
   },
   "outputs": [],
   "source": [
    "#corpus"
   ]
  },
  {
   "cell_type": "markdown",
   "metadata": {},
   "source": [
    "# Model Creation"
   ]
  },
  {
   "cell_type": "markdown",
   "metadata": {},
   "source": [
    "# Bag of Word "
   ]
  },
  {
   "cell_type": "code",
   "execution_count": null,
   "metadata": {},
   "outputs": [],
   "source": [
    "#BOW\n",
    "from sklearn.feature_extraction.text import CountVectorizer\n",
    "cv = CountVectorizer(max_features =5000)\n",
    "X = cv.fit_transform(corpus)\n",
    "y = data.iloc[:, 1].values"
   ]
  },
  {
   "cell_type": "code",
   "execution_count": null,
   "metadata": {},
   "outputs": [],
   "source": [
    "from sklearn.model_selection import train_test_split\n",
    "X_train, X_test, y_train, y_test = train_test_split(X, y, test_size = 0.20, random_state = 0)"
   ]
  },
  {
   "cell_type": "code",
   "execution_count": null,
   "metadata": {},
   "outputs": [],
   "source": [
    "X_train.shape"
   ]
  },
  {
   "cell_type": "markdown",
   "metadata": {},
   "source": [
    "## BoW with Naive Bayes"
   ]
  },
  {
   "cell_type": "code",
   "execution_count": null,
   "metadata": {},
   "outputs": [],
   "source": [
    "from sklearn.naive_bayes import MultinomialNB\n",
    "from sklearn.metrics import confusion_matrix\n",
    "from sklearn.metrics import classification_report\n"
   ]
  },
  {
   "cell_type": "code",
   "execution_count": null,
   "metadata": {},
   "outputs": [],
   "source": []
  },
  {
   "cell_type": "code",
   "execution_count": null,
   "metadata": {},
   "outputs": [],
   "source": [
    "bow_classifier_1 = MultinomialNB()\n",
    "bow_classifier_1.fit(X_train, y_train)"
   ]
  },
  {
   "cell_type": "code",
   "execution_count": null,
   "metadata": {},
   "outputs": [],
   "source": [
    "y_pred_1 = bow_classifier_1.predict(X_test)"
   ]
  },
  {
   "cell_type": "code",
   "execution_count": null,
   "metadata": {},
   "outputs": [],
   "source": [
    "cm_1 = confusion_matrix(y_test, y_pred_1)\n",
    "print(cm_1)"
   ]
  },
  {
   "cell_type": "code",
   "execution_count": null,
   "metadata": {},
   "outputs": [],
   "source": [
    "print(\"Accuracy = {}%\".format((3090/3516)*100))"
   ]
  },
  {
   "cell_type": "code",
   "execution_count": null,
   "metadata": {},
   "outputs": [],
   "source": [
    "print(classification_report(y_pred=y_pred_1,y_true=y_test))"
   ]
  },
  {
   "cell_type": "markdown",
   "metadata": {},
   "source": [
    "## BOW with Logistic Regression"
   ]
  },
  {
   "cell_type": "markdown",
   "metadata": {},
   "source": [
    "Accuracy = 87%"
   ]
  },
  {
   "cell_type": "code",
   "execution_count": null,
   "metadata": {},
   "outputs": [],
   "source": [
    "from sklearn.linear_model import LogisticRegression"
   ]
  },
  {
   "cell_type": "code",
   "execution_count": null,
   "metadata": {},
   "outputs": [],
   "source": [
    "bowclassifier_2 = LogisticRegression()\n",
    "bowclassifier_2.fit(X_train, y_train)"
   ]
  },
  {
   "cell_type": "code",
   "execution_count": null,
   "metadata": {},
   "outputs": [],
   "source": [
    "y_pred_2 = bowclassifier_2.predict(X_test)"
   ]
  },
  {
   "cell_type": "code",
   "execution_count": null,
   "metadata": {},
   "outputs": [],
   "source": [
    "cm_2 = confusion_matrix(y_test, y_pred_2)\n",
    "print(cm_2)"
   ]
  },
  {
   "cell_type": "code",
   "execution_count": null,
   "metadata": {},
   "outputs": [],
   "source": [
    "print(classification_report(y_pred=y_pred_2,y_true=y_test))"
   ]
  },
  {
   "cell_type": "code",
   "execution_count": null,
   "metadata": {},
   "outputs": [],
   "source": [
    "print(\"Accuracy = {}%\".format((3167/3516)*100))"
   ]
  },
  {
   "cell_type": "markdown",
   "metadata": {},
   "source": [
    "## BOW with Random Forest"
   ]
  },
  {
   "cell_type": "code",
   "execution_count": null,
   "metadata": {},
   "outputs": [],
   "source": [
    "from sklearn.ensemble import RandomForestClassifier\n"
   ]
  },
  {
   "cell_type": "code",
   "execution_count": null,
   "metadata": {},
   "outputs": [],
   "source": [
    "bowclassifier_3 = RandomForestClassifier(n_estimators = 10)\n"
   ]
  },
  {
   "cell_type": "code",
   "execution_count": null,
   "metadata": {},
   "outputs": [],
   "source": [
    "bowclassifier_3.fit(X_train, y_train)\n"
   ]
  },
  {
   "cell_type": "code",
   "execution_count": null,
   "metadata": {},
   "outputs": [],
   "source": [
    "y_pred_3 = bowclassifier_3.predict(X_test)\n",
    "cm_3 = confusion_matrix(y_test, y_pred_3)\n",
    "print(cm_3)"
   ]
  },
  {
   "cell_type": "code",
   "execution_count": null,
   "metadata": {},
   "outputs": [],
   "source": [
    "print(classification_report(y_pred=y_pred_3,y_true=y_test))"
   ]
  },
  {
   "cell_type": "code",
   "execution_count": null,
   "metadata": {},
   "outputs": [],
   "source": [
    "print(\"Accuracy = {}%\".format((3010/3516)*100))"
   ]
  },
  {
   "cell_type": "markdown",
   "metadata": {},
   "source": [
    "# Tf-Idf"
   ]
  },
  {
   "cell_type": "markdown",
   "metadata": {},
   "source": [
    "## tf-Idf with Naive Baise"
   ]
  },
  {
   "cell_type": "code",
   "execution_count": null,
   "metadata": {},
   "outputs": [],
   "source": [
    "from sklearn.feature_extraction.text import TfidfVectorizer"
   ]
  },
  {
   "cell_type": "code",
   "execution_count": null,
   "metadata": {},
   "outputs": [],
   "source": [
    "tv =TfidfVectorizer()"
   ]
  },
  {
   "cell_type": "code",
   "execution_count": null,
   "metadata": {},
   "outputs": [],
   "source": [
    "X2 = tv.fit_transform(corpus)\n"
   ]
  },
  {
   "cell_type": "code",
   "execution_count": null,
   "metadata": {},
   "outputs": [],
   "source": [
    "X2_train, X2_test, y2_train, y2_test = train_test_split(X2, y, test_size = 0.20, random_state = 0)"
   ]
  },
  {
   "cell_type": "code",
   "execution_count": null,
   "metadata": {},
   "outputs": [],
   "source": [
    "X2_train.shape"
   ]
  },
  {
   "cell_type": "code",
   "execution_count": null,
   "metadata": {},
   "outputs": [],
   "source": [
    "tfclassifier1 = MultinomialNB()\n",
    "tfclassifier1.fit(X2_train, y2_train)"
   ]
  },
  {
   "cell_type": "code",
   "execution_count": null,
   "metadata": {},
   "outputs": [],
   "source": [
    "y_tf_pred1= tfclassifier1.predict(X2_test)"
   ]
  },
  {
   "cell_type": "code",
   "execution_count": null,
   "metadata": {},
   "outputs": [],
   "source": [
    "cm_tf_1 = confusion_matrix(y_test, y_tf_pred1)\n",
    "print(cm_tf_1)"
   ]
  },
  {
   "cell_type": "code",
   "execution_count": null,
   "metadata": {},
   "outputs": [],
   "source": [
    "print(classification_report(y2_test,y_tf_pred1))"
   ]
  },
  {
   "cell_type": "code",
   "execution_count": null,
   "metadata": {},
   "outputs": [],
   "source": [
    "print(\"Accuracy = {}%\".format((3040/3516)*100))"
   ]
  },
  {
   "cell_type": "markdown",
   "metadata": {},
   "source": [
    "# tf-idf with logistic regression"
   ]
  },
  {
   "cell_type": "code",
   "execution_count": null,
   "metadata": {},
   "outputs": [],
   "source": [
    "tfclassifier2 = LogisticRegression()"
   ]
  },
  {
   "cell_type": "code",
   "execution_count": null,
   "metadata": {},
   "outputs": [],
   "source": [
    "tfclassifier2.fit(X2_train,y2_train)"
   ]
  },
  {
   "cell_type": "code",
   "execution_count": null,
   "metadata": {},
   "outputs": [],
   "source": [
    "y_tf_pred2 = tfclassifier2.predict(X2_test)"
   ]
  },
  {
   "cell_type": "code",
   "execution_count": null,
   "metadata": {},
   "outputs": [],
   "source": [
    "cm_tf_2 = confusion_matrix(y_test,y_tf_pred2)"
   ]
  },
  {
   "cell_type": "code",
   "execution_count": null,
   "metadata": {},
   "outputs": [],
   "source": [
    "print(cm_tf_2)"
   ]
  },
  {
   "cell_type": "code",
   "execution_count": null,
   "metadata": {},
   "outputs": [],
   "source": [
    "print(classification_report(y_test,y_tf_pred2))"
   ]
  },
  {
   "cell_type": "code",
   "execution_count": null,
   "metadata": {},
   "outputs": [],
   "source": [
    "print(\"Accuracy = {}%\".format((3163/3516)*100))"
   ]
  },
  {
   "cell_type": "markdown",
   "metadata": {},
   "source": [
    "## tf-idf with  RandomForest "
   ]
  },
  {
   "cell_type": "code",
   "execution_count": null,
   "metadata": {},
   "outputs": [],
   "source": [
    "tfclassifier3 = RandomForestClassifier()\n",
    "tfclassifier3.fit(X2_train,y2_train)\n",
    "y_tf_pred3 = tfclassifier3.predict(X2_test)"
   ]
  },
  {
   "cell_type": "code",
   "execution_count": null,
   "metadata": {},
   "outputs": [],
   "source": [
    "print(confusion_matrix(y_test,y_tf_pred3))"
   ]
  },
  {
   "cell_type": "code",
   "execution_count": null,
   "metadata": {},
   "outputs": [],
   "source": [
    "print(classification_report(y_test,y_tf_pred3))"
   ]
  },
  {
   "cell_type": "code",
   "execution_count": null,
   "metadata": {},
   "outputs": [],
   "source": [
    "print(\"Accuracy = {}%\".format((3092/3516)*100))"
   ]
  },
  {
   "cell_type": "code",
   "execution_count": null,
   "metadata": {},
   "outputs": [],
   "source": []
  },
  {
   "cell_type": "markdown",
   "metadata": {},
   "source": [
    "# N-gram tf-Idf"
   ]
  },
  {
   "cell_type": "markdown",
   "metadata": {},
   "source": [
    "## n-gram tfidf with naive bayse"
   ]
  },
  {
   "cell_type": "code",
   "execution_count": null,
   "metadata": {},
   "outputs": [],
   "source": [
    "tvf = TfidfVectorizer(ngram_range=((2, 2)),max_features=5000)\n",
    "X3 = tvf.fit_transform(corpus)\n",
    "X3_train, X3_test, y3_train, y3_test = train_test_split(X3, y, test_size = 0.20, random_state = 0)"
   ]
  },
  {
   "cell_type": "code",
   "execution_count": null,
   "metadata": {},
   "outputs": [],
   "source": [
    "ngclassifier1 = MultinomialNB()\n",
    "ngclassifier1.fit(X3_train, y3_train)\n",
    "y_ng_pred1 = ngclassifier1.predict(X3_test)\n"
   ]
  },
  {
   "cell_type": "code",
   "execution_count": null,
   "metadata": {},
   "outputs": [],
   "source": [
    "print(classification_report(y_test,y_ng_pred1))"
   ]
  },
  {
   "cell_type": "code",
   "execution_count": null,
   "metadata": {},
   "outputs": [],
   "source": [
    "print(confusion_matrix(y_test,y_ng_pred1))"
   ]
  },
  {
   "cell_type": "code",
   "execution_count": null,
   "metadata": {},
   "outputs": [],
   "source": [
    "print('accuracy : {}%'.format(((1000+1867)/3516)*100))"
   ]
  },
  {
   "cell_type": "markdown",
   "metadata": {},
   "source": [
    "## ngram tfidf with logistic regression"
   ]
  },
  {
   "cell_type": "code",
   "execution_count": null,
   "metadata": {},
   "outputs": [],
   "source": [
    "ngclassifier2 = LogisticRegression(C=10,)\n",
    "ngclassifier2.fit(X3_train, y3_train)\n",
    "y_ng_pred2 = ngclassifier2.predict(X3_test)\n"
   ]
  },
  {
   "cell_type": "code",
   "execution_count": null,
   "metadata": {},
   "outputs": [],
   "source": [
    "print(classification_report(y_test,y_ng_pred2))"
   ]
  },
  {
   "cell_type": "code",
   "execution_count": null,
   "metadata": {},
   "outputs": [],
   "source": [
    "confusion_matrix(y_test,y_ng_pred2)"
   ]
  },
  {
   "cell_type": "code",
   "execution_count": null,
   "metadata": {},
   "outputs": [],
   "source": [
    "print(\"Accuracy = {}%\".format((2976/3516)*100))"
   ]
  },
  {
   "cell_type": "markdown",
   "metadata": {},
   "source": [
    "## ngram tfidf with Random Forest"
   ]
  },
  {
   "cell_type": "code",
   "execution_count": null,
   "metadata": {},
   "outputs": [],
   "source": [
    "ngclassifier3 = RandomForestClassifier()\n",
    "ngclassifier3.fit(X3_train, y3_train)\n",
    "y_ng_pred3 = ngclassifier3.predict(X3_test)\n"
   ]
  },
  {
   "cell_type": "code",
   "execution_count": null,
   "metadata": {},
   "outputs": [],
   "source": [
    "print(classification_report(y_test,y_ng_pred2))"
   ]
  },
  {
   "cell_type": "code",
   "execution_count": null,
   "metadata": {},
   "outputs": [],
   "source": [
    "print(confusion_matrix(y_test,y_ng_pred3))"
   ]
  },
  {
   "cell_type": "code",
   "execution_count": null,
   "metadata": {},
   "outputs": [],
   "source": [
    "print(\"Accuracy = {}%\".format((3090/3516)*100))"
   ]
  },
  {
   "cell_type": "markdown",
   "metadata": {},
   "source": [
    "# Char Tf-Idf"
   ]
  },
  {
   "cell_type": "code",
   "execution_count": null,
   "metadata": {},
   "outputs": [],
   "source": [
    "ctf = TfidfVectorizer(ngram_range=((2, 3)),analyzer='char',max_features=5000)\n",
    "X4 = tvf.fit_transform(corpus)\n",
    "X4_train, X4_test, y4_train, y4_test = train_test_split(X4, y, test_size = 0.20, random_state = 0)"
   ]
  },
  {
   "cell_type": "markdown",
   "metadata": {},
   "source": [
    "## Char tfidf with Naive Bayes"
   ]
  },
  {
   "cell_type": "code",
   "execution_count": null,
   "metadata": {},
   "outputs": [],
   "source": [
    "ctfclassifier1 = MultinomialNB()\n",
    "ctfclassifier1.fit(X4_train, y4_train)\n",
    "y_ctf_pred1 = ctfclassifier1.predict(X4_test)"
   ]
  },
  {
   "cell_type": "code",
   "execution_count": null,
   "metadata": {},
   "outputs": [],
   "source": [
    "print(classification_report(y_test,y_ctf_pred1))"
   ]
  },
  {
   "cell_type": "code",
   "execution_count": null,
   "metadata": {},
   "outputs": [],
   "source": [
    "print(confusion_matrix(y4_test,y_ctf_pred1))"
   ]
  },
  {
   "cell_type": "code",
   "execution_count": null,
   "metadata": {},
   "outputs": [],
   "source": [
    "print(\"Accuracy = {}%\".format((2917/3516)*100))"
   ]
  },
  {
   "cell_type": "markdown",
   "metadata": {},
   "source": [
    "## char tfidf with logistic regression"
   ]
  },
  {
   "cell_type": "code",
   "execution_count": null,
   "metadata": {},
   "outputs": [],
   "source": [
    "ctfclassifier2 = LogisticRegression(C=25)\n",
    "ctfclassifier2.fit(X4_train, y4_train)\n",
    "y_ctf_pred2 = ctfclassifier2.predict(X4_test)"
   ]
  },
  {
   "cell_type": "code",
   "execution_count": null,
   "metadata": {},
   "outputs": [],
   "source": [
    "print(classification_report(y_test,y_ctf_pred2))"
   ]
  },
  {
   "cell_type": "code",
   "execution_count": null,
   "metadata": {},
   "outputs": [],
   "source": [
    "print(confusion_matrix(y4_test,y_ctf_pred2))"
   ]
  },
  {
   "cell_type": "code",
   "execution_count": null,
   "metadata": {},
   "outputs": [],
   "source": [
    "print(\"Accuracy = {}%\".format((2966/3516)*100))"
   ]
  },
  {
   "cell_type": "markdown",
   "metadata": {},
   "source": [
    "## chartfidf with Random Forest"
   ]
  },
  {
   "cell_type": "code",
   "execution_count": null,
   "metadata": {},
   "outputs": [],
   "source": [
    "ctfclassifier3 = RandomForestClassifier()\n",
    "ctfclassifier3.fit(X4_train, y4_train)\n",
    "y_ctf_pred3 = ctfclassifier3.predict(X4_test)"
   ]
  },
  {
   "cell_type": "code",
   "execution_count": null,
   "metadata": {},
   "outputs": [],
   "source": [
    "print(classification_report(y_test,y_ctf_pred3))"
   ]
  },
  {
   "cell_type": "code",
   "execution_count": null,
   "metadata": {},
   "outputs": [],
   "source": [
    "print(confusion_matrix(y4_test,y_ctf_pred3))"
   ]
  },
  {
   "cell_type": "code",
   "execution_count": null,
   "metadata": {},
   "outputs": [],
   "source": [
    "print(\"Accuracy = {}%\".format((2974/3516)*100))"
   ]
  },
  {
   "cell_type": "code",
   "execution_count": null,
   "metadata": {},
   "outputs": [],
   "source": []
  },
  {
   "cell_type": "code",
   "execution_count": null,
   "metadata": {},
   "outputs": [],
   "source": []
  }
 ],
 "metadata": {
  "kernelspec": {
   "display_name": "Python 3",
   "language": "python",
   "name": "python3"
  },
  "language_info": {
   "codemirror_mode": {
    "name": "ipython",
    "version": 3
   },
   "file_extension": ".py",
   "mimetype": "text/x-python",
   "name": "python",
   "nbconvert_exporter": "python",
   "pygments_lexer": "ipython3",
   "version": "3.6.5"
  }
 },
 "nbformat": 4,
 "nbformat_minor": 2
}
